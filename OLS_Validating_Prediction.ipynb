{
  "nbformat": 4,
  "nbformat_minor": 0,
  "metadata": {
    "colab": {
      "provenance": [],
      "authorship_tag": "ABX9TyMhahHCHNy3FAX0uMS0wCbw",
      "include_colab_link": true
    },
    "kernelspec": {
      "name": "python3",
      "display_name": "Python 3"
    },
    "language_info": {
      "name": "python"
    }
  },
  "cells": [
    {
      "cell_type": "markdown",
      "metadata": {
        "id": "view-in-github",
        "colab_type": "text"
      },
      "source": [
        "<a href=\"https://colab.research.google.com/github/hrahmia/Gunun-tekrari-pazar-sonra-sil/blob/master/OLS_Validating_Prediction.ipynb\" target=\"_parent\"><img src=\"https://colab.research.google.com/assets/colab-badge.svg\" alt=\"Open In Colab\"/></a>"
      ]
    },
    {
      "cell_type": "code",
      "execution_count": null,
      "metadata": {
        "id": "WXHggahgtvHn"
      },
      "outputs": [],
      "source": [
        "import pandas as pd\n",
        "import numpy as np\n",
        "from datetime import date\n",
        "\n",
        "from sklearn.model_selection import train_test_split\n",
        "from sklearn import preprocessing\n",
        "from sklearn.linear_model import LinearRegression\n",
        "import seaborn as sns\n",
        "import matplotlib.pyplot as plt\n",
        "import statsmodels.formula.api as smf"
      ]
    },
    {
      "cell_type": "code",
      "source": [
        "from google.colab import drive\n",
        "drive.mount('/Rahmi')\n",
        "%cd /gdrive"
      ],
      "metadata": {
        "colab": {
          "base_uri": "https://localhost:8080/"
        },
        "id": "Z6PGS-kCt7Be",
        "outputId": "d168b95d-7eee-4faf-e8e0-a5a471545965"
      },
      "execution_count": null,
      "outputs": [
        {
          "output_type": "stream",
          "name": "stdout",
          "text": [
            "Drive already mounted at /Rahmi; to attempt to forcibly remount, call drive.mount(\"/Rahmi\", force_remount=True).\n",
            "[Errno 2] No such file or directory: '/gdrive'\n",
            "/content\n"
          ]
        }
      ]
    },
    {
      "cell_type": "code",
      "source": [
        "df = pd.read_hdf('/Rahmi/MyDrive/DATA CAMP/Explanatory Data Analysis Data Sets/gss.hdf5')"
      ],
      "metadata": {
        "id": "NdR8Q8O5uAgX"
      },
      "execution_count": null,
      "outputs": []
    },
    {
      "cell_type": "code",
      "source": [
        "df.head()"
      ],
      "metadata": {
        "colab": {
          "base_uri": "https://localhost:8080/",
          "height": 206
        },
        "id": "TeK8UlNFuJre",
        "outputId": "14baef9b-703c-4e9b-d843-45b8c696018b"
      },
      "execution_count": null,
      "outputs": [
        {
          "output_type": "execute_result",
          "data": {
            "text/plain": [
              "   year   age  cohort  sex  race  educ  realinc  gunlaw  grass  wtssall\n",
              "0  1972  26.0  1946.0    1     1  18.0  13537.0     2.0    NaN   0.8893\n",
              "1  1972  38.0  1934.0    2     1  12.0  18951.0     1.0    NaN   0.4446\n",
              "2  1972  57.0  1915.0    1     1  12.0  30458.0     1.0    NaN   1.3339\n",
              "3  1972  61.0  1911.0    2     1  14.0  37226.0     1.0    NaN   0.8893\n",
              "4  1972  59.0  1913.0    1     1  12.0  30458.0     2.0    NaN   0.8893"
            ],
            "text/html": [
              "\n",
              "  <div id=\"df-eab91fcf-7639-480d-8af0-9e485926ff87\">\n",
              "    <div class=\"colab-df-container\">\n",
              "      <div>\n",
              "<style scoped>\n",
              "    .dataframe tbody tr th:only-of-type {\n",
              "        vertical-align: middle;\n",
              "    }\n",
              "\n",
              "    .dataframe tbody tr th {\n",
              "        vertical-align: top;\n",
              "    }\n",
              "\n",
              "    .dataframe thead th {\n",
              "        text-align: right;\n",
              "    }\n",
              "</style>\n",
              "<table border=\"1\" class=\"dataframe\">\n",
              "  <thead>\n",
              "    <tr style=\"text-align: right;\">\n",
              "      <th></th>\n",
              "      <th>year</th>\n",
              "      <th>age</th>\n",
              "      <th>cohort</th>\n",
              "      <th>sex</th>\n",
              "      <th>race</th>\n",
              "      <th>educ</th>\n",
              "      <th>realinc</th>\n",
              "      <th>gunlaw</th>\n",
              "      <th>grass</th>\n",
              "      <th>wtssall</th>\n",
              "    </tr>\n",
              "  </thead>\n",
              "  <tbody>\n",
              "    <tr>\n",
              "      <th>0</th>\n",
              "      <td>1972</td>\n",
              "      <td>26.0</td>\n",
              "      <td>1946.0</td>\n",
              "      <td>1</td>\n",
              "      <td>1</td>\n",
              "      <td>18.0</td>\n",
              "      <td>13537.0</td>\n",
              "      <td>2.0</td>\n",
              "      <td>NaN</td>\n",
              "      <td>0.8893</td>\n",
              "    </tr>\n",
              "    <tr>\n",
              "      <th>1</th>\n",
              "      <td>1972</td>\n",
              "      <td>38.0</td>\n",
              "      <td>1934.0</td>\n",
              "      <td>2</td>\n",
              "      <td>1</td>\n",
              "      <td>12.0</td>\n",
              "      <td>18951.0</td>\n",
              "      <td>1.0</td>\n",
              "      <td>NaN</td>\n",
              "      <td>0.4446</td>\n",
              "    </tr>\n",
              "    <tr>\n",
              "      <th>2</th>\n",
              "      <td>1972</td>\n",
              "      <td>57.0</td>\n",
              "      <td>1915.0</td>\n",
              "      <td>1</td>\n",
              "      <td>1</td>\n",
              "      <td>12.0</td>\n",
              "      <td>30458.0</td>\n",
              "      <td>1.0</td>\n",
              "      <td>NaN</td>\n",
              "      <td>1.3339</td>\n",
              "    </tr>\n",
              "    <tr>\n",
              "      <th>3</th>\n",
              "      <td>1972</td>\n",
              "      <td>61.0</td>\n",
              "      <td>1911.0</td>\n",
              "      <td>2</td>\n",
              "      <td>1</td>\n",
              "      <td>14.0</td>\n",
              "      <td>37226.0</td>\n",
              "      <td>1.0</td>\n",
              "      <td>NaN</td>\n",
              "      <td>0.8893</td>\n",
              "    </tr>\n",
              "    <tr>\n",
              "      <th>4</th>\n",
              "      <td>1972</td>\n",
              "      <td>59.0</td>\n",
              "      <td>1913.0</td>\n",
              "      <td>1</td>\n",
              "      <td>1</td>\n",
              "      <td>12.0</td>\n",
              "      <td>30458.0</td>\n",
              "      <td>2.0</td>\n",
              "      <td>NaN</td>\n",
              "      <td>0.8893</td>\n",
              "    </tr>\n",
              "  </tbody>\n",
              "</table>\n",
              "</div>\n",
              "      <button class=\"colab-df-convert\" onclick=\"convertToInteractive('df-eab91fcf-7639-480d-8af0-9e485926ff87')\"\n",
              "              title=\"Convert this dataframe to an interactive table.\"\n",
              "              style=\"display:none;\">\n",
              "        \n",
              "  <svg xmlns=\"http://www.w3.org/2000/svg\" height=\"24px\"viewBox=\"0 0 24 24\"\n",
              "       width=\"24px\">\n",
              "    <path d=\"M0 0h24v24H0V0z\" fill=\"none\"/>\n",
              "    <path d=\"M18.56 5.44l.94 2.06.94-2.06 2.06-.94-2.06-.94-.94-2.06-.94 2.06-2.06.94zm-11 1L8.5 8.5l.94-2.06 2.06-.94-2.06-.94L8.5 2.5l-.94 2.06-2.06.94zm10 10l.94 2.06.94-2.06 2.06-.94-2.06-.94-.94-2.06-.94 2.06-2.06.94z\"/><path d=\"M17.41 7.96l-1.37-1.37c-.4-.4-.92-.59-1.43-.59-.52 0-1.04.2-1.43.59L10.3 9.45l-7.72 7.72c-.78.78-.78 2.05 0 2.83L4 21.41c.39.39.9.59 1.41.59.51 0 1.02-.2 1.41-.59l7.78-7.78 2.81-2.81c.8-.78.8-2.07 0-2.86zM5.41 20L4 18.59l7.72-7.72 1.47 1.35L5.41 20z\"/>\n",
              "  </svg>\n",
              "      </button>\n",
              "      \n",
              "  <style>\n",
              "    .colab-df-container {\n",
              "      display:flex;\n",
              "      flex-wrap:wrap;\n",
              "      gap: 12px;\n",
              "    }\n",
              "\n",
              "    .colab-df-convert {\n",
              "      background-color: #E8F0FE;\n",
              "      border: none;\n",
              "      border-radius: 50%;\n",
              "      cursor: pointer;\n",
              "      display: none;\n",
              "      fill: #1967D2;\n",
              "      height: 32px;\n",
              "      padding: 0 0 0 0;\n",
              "      width: 32px;\n",
              "    }\n",
              "\n",
              "    .colab-df-convert:hover {\n",
              "      background-color: #E2EBFA;\n",
              "      box-shadow: 0px 1px 2px rgba(60, 64, 67, 0.3), 0px 1px 3px 1px rgba(60, 64, 67, 0.15);\n",
              "      fill: #174EA6;\n",
              "    }\n",
              "\n",
              "    [theme=dark] .colab-df-convert {\n",
              "      background-color: #3B4455;\n",
              "      fill: #D2E3FC;\n",
              "    }\n",
              "\n",
              "    [theme=dark] .colab-df-convert:hover {\n",
              "      background-color: #434B5C;\n",
              "      box-shadow: 0px 1px 3px 1px rgba(0, 0, 0, 0.15);\n",
              "      filter: drop-shadow(0px 1px 2px rgba(0, 0, 0, 0.3));\n",
              "      fill: #FFFFFF;\n",
              "    }\n",
              "  </style>\n",
              "\n",
              "      <script>\n",
              "        const buttonEl =\n",
              "          document.querySelector('#df-eab91fcf-7639-480d-8af0-9e485926ff87 button.colab-df-convert');\n",
              "        buttonEl.style.display =\n",
              "          google.colab.kernel.accessAllowed ? 'block' : 'none';\n",
              "\n",
              "        async function convertToInteractive(key) {\n",
              "          const element = document.querySelector('#df-eab91fcf-7639-480d-8af0-9e485926ff87');\n",
              "          const dataTable =\n",
              "            await google.colab.kernel.invokeFunction('convertToInteractive',\n",
              "                                                     [key], {});\n",
              "          if (!dataTable) return;\n",
              "\n",
              "          const docLinkHtml = 'Like what you see? Visit the ' +\n",
              "            '<a target=\"_blank\" href=https://colab.research.google.com/notebooks/data_table.ipynb>data table notebook</a>'\n",
              "            + ' to learn more about interactive tables.';\n",
              "          element.innerHTML = '';\n",
              "          dataTable['output_type'] = 'display_data';\n",
              "          await google.colab.output.renderOutput(dataTable, element);\n",
              "          const docLink = document.createElement('div');\n",
              "          docLink.innerHTML = docLinkHtml;\n",
              "          element.appendChild(docLink);\n",
              "        }\n",
              "      </script>\n",
              "    </div>\n",
              "  </div>\n",
              "  "
            ]
          },
          "metadata": {},
          "execution_count": 95
        }
      ]
    },
    {
      "cell_type": "code",
      "source": [
        "#Richest Individual\n",
        "df.iloc[df['realinc'].argmax()]"
      ],
      "metadata": {
        "colab": {
          "base_uri": "https://localhost:8080/"
        },
        "id": "CAdx2rN2d4hL",
        "outputId": "c3c337fe-bf5c-4c53-9e15-f51a7665df02"
      },
      "execution_count": null,
      "outputs": [
        {
          "output_type": "execute_result",
          "data": {
            "text/plain": [
              "year         1977.0000\n",
              "age            58.0000\n",
              "cohort       1919.0000\n",
              "sex             1.0000\n",
              "race            1.0000\n",
              "educ           16.0000\n",
              "realinc    162607.0000\n",
              "gunlaw          1.0000\n",
              "grass              NaN\n",
              "wtssall         0.9881\n",
              "Name: 7603, dtype: float64"
            ]
          },
          "metadata": {},
          "execution_count": 96
        }
      ]
    },
    {
      "cell_type": "code",
      "source": [
        "grouped = df.groupby('age')\n",
        "mean_income_by_age = grouped['realinc'].mean()\n",
        "plt.plot(mean_income_by_age, 'o', alpha = 0.5)\n",
        "plt.xlabel('Age(Years)')\n",
        "plt.ylabel('Income (1986 $)')"
      ],
      "metadata": {
        "colab": {
          "base_uri": "https://localhost:8080/",
          "height": 296
        },
        "id": "VikKmN9qw9Hz",
        "outputId": "d1053b80-5b11-44a8-c4a0-f69f05938b91"
      },
      "execution_count": null,
      "outputs": [
        {
          "output_type": "execute_result",
          "data": {
            "text/plain": [
              "Text(0, 0.5, 'Income (1986 $)')"
            ]
          },
          "metadata": {},
          "execution_count": 97
        },
        {
          "output_type": "display_data",
          "data": {
            "text/plain": [
              "<Figure size 432x288 with 1 Axes>"
            ],
            "image/png": "[encoded data removed]"
          },
          "metadata": {
            "needs_background": "light"
          }
        }
      ]
    },
    {
      "cell_type": "code",
      "source": [
        "ols = smf.ols('realinc ~ educ + age', data = df).fit()\n",
        "ols.pvalues\n",
        "ols.params"
      ],
      "metadata": {
        "colab": {
          "base_uri": "https://localhost:8080/"
        },
        "id": "Al58UW09ua1N",
        "outputId": "287b9338-6d4d-4659-8032-4215278c319f"
      },
      "execution_count": null,
      "outputs": [
        {
          "output_type": "execute_result",
          "data": {
            "text/plain": [
              "Intercept   -16117.275684\n",
              "educ          3655.166921\n",
              "age             83.731804\n",
              "dtype: float64"
            ]
          },
          "metadata": {},
          "execution_count": 98
        }
      ]
    },
    {
      "cell_type": "code",
      "source": [
        "df['grass'].value_counts()"
      ],
      "metadata": {
        "colab": {
          "base_uri": "https://localhost:8080/"
        },
        "id": "HYaoFRQeuUvm",
        "outputId": "7397a6bf-b6cf-469c-da04-7c9b167b7cd2"
      },
      "execution_count": null,
      "outputs": [
        {
          "output_type": "execute_result",
          "data": {
            "text/plain": [
              "2.0    25195\n",
              "1.0    11027\n",
              "Name: grass, dtype: int64"
            ]
          },
          "metadata": {},
          "execution_count": 35
        }
      ]
    },
    {
      "cell_type": "markdown",
      "source": [
        "## Adding Quadratic Terms to OLS\n",
        "To describe a non-linear relationship, one option is to add a new variable that is a non-linear combination of other variables."
      ],
      "metadata": {
        "id": "p19lJH8L36FH"
      }
    },
    {
      "cell_type": "code",
      "source": [
        "df['age2'] = df['age'] ** 2   # Quadratic term for age variable"
      ],
      "metadata": {
        "id": "UKcpyKdy3-0u"
      },
      "execution_count": null,
      "outputs": []
    },
    {
      "cell_type": "code",
      "source": [
        "df['educ2'] = df['educ'] ** 2 # Quadratic term for education variable"
      ],
      "metadata": {
        "id": "nOghT7-c4V8z"
      },
      "execution_count": null,
      "outputs": []
    },
    {
      "cell_type": "markdown",
      "source": [
        "###Construction OLS Model - Predicting Income with Age, Age2, Educ and Educ2"
      ],
      "metadata": {
        "id": "y-8DYsMD4ptt"
      }
    },
    {
      "cell_type": "code",
      "source": [
        "results = smf.ols('realinc ~ age + age2 + educ + educ2', data = df).fit()\n",
        "results.params"
      ],
      "metadata": {
        "colab": {
          "base_uri": "https://localhost:8080/"
        },
        "id": "HZr6CSjy4uRE",
        "outputId": "b2494c09-22a9-48e7-bbae-5b6762b854c1"
      },
      "execution_count": null,
      "outputs": [
        {
          "output_type": "execute_result",
          "data": {
            "text/plain": [
              "Intercept   -23241.884034\n",
              "age           1696.717149\n",
              "age2           -17.196984\n",
              "educ          -528.309369\n",
              "educ2          159.966740\n",
              "dtype: float64"
            ]
          },
          "metadata": {},
          "execution_count": 51
        }
      ]
    },
    {
      "cell_type": "markdown",
      "source": [
        "There are non-lnear relationships, thus; paramaeters are hard to interpret, since the values are divergent. Fortunately, there's another way to understant the model, which is making predictions; rather than looking at its parameters."
      ],
      "metadata": {
        "id": "W-L_oDsB5OTk"
      }
    },
    {
      "cell_type": "markdown",
      "source": [
        "## Using predict() method to generate predictions to Validate Prediction"
      ],
      "metadata": {
        "id": "MJOoZEgw6dug"
      }
    },
    {
      "cell_type": "code",
      "source": [
        "# Now I will control the education variable at its constant for three levels with its quadratic versions - 12 Highshool, 14 Assicoate and 16 Bachelors Degree\n",
        "#1 - Highschool+\n",
        "dff = pd.DataFrame()\n",
        "dff['age'] = np.linspace(18,85)\n",
        "dff['age2'] = dff['age'] ** 2\n",
        "dff['educ'] = 12 # All column will be 12 as it's education constant value\n",
        "dff['educ2'] = dff['educ'] ** 2\n",
        "dff.head()\n"
      ],
      "metadata": {
        "colab": {
          "base_uri": "https://localhost:8080/",
          "height": 206
        },
        "id": "U2QukRM9lk4F",
        "outputId": "333f34ed-c339-4bbb-ffe5-eb90925de190"
      },
      "execution_count": null,
      "outputs": [
        {
          "output_type": "execute_result",
          "data": {
            "text/plain": [
              "         age        age2  educ  educ2\n",
              "0  18.000000  324.000000    12    144\n",
              "1  19.367347  375.094127    12    144\n",
              "2  20.734694  429.927530    12    144\n",
              "3  22.102041  488.500208    12    144\n",
              "4  23.469388  550.812162    12    144"
            ],
            "text/html": [
              "\n",
              "  <div id=\"df-7b77afc7-e4c5-447c-b4e5-65fa47afef07\">\n",
              "    <div class=\"colab-df-container\">\n",
              "      <div>\n",
              "<style scoped>\n",
              "    .dataframe tbody tr th:only-of-type {\n",
              "        vertical-align: middle;\n",
              "    }\n",
              "\n",
              "    .dataframe tbody tr th {\n",
              "        vertical-align: top;\n",
              "    }\n",
              "\n",
              "    .dataframe thead th {\n",
              "        text-align: right;\n",
              "    }\n",
              "</style>\n",
              "<table border=\"1\" class=\"dataframe\">\n",
              "  <thead>\n",
              "    <tr style=\"text-align: right;\">\n",
              "      <th></th>\n",
              "      <th>age</th>\n",
              "      <th>age2</th>\n",
              "      <th>educ</th>\n",
              "      <th>educ2</th>\n",
              "    </tr>\n",
              "  </thead>\n",
              "  <tbody>\n",
              "    <tr>\n",
              "      <th>0</th>\n",
              "      <td>18.000000</td>\n",
              "      <td>324.000000</td>\n",
              "      <td>12</td>\n",
              "      <td>144</td>\n",
              "    </tr>\n",
              "    <tr>\n",
              "      <th>1</th>\n",
              "      <td>19.367347</td>\n",
              "      <td>375.094127</td>\n",
              "      <td>12</td>\n",
              "      <td>144</td>\n",
              "    </tr>\n",
              "    <tr>\n",
              "      <th>2</th>\n",
              "      <td>20.734694</td>\n",
              "      <td>429.927530</td>\n",
              "      <td>12</td>\n",
              "      <td>144</td>\n",
              "    </tr>\n",
              "    <tr>\n",
              "      <th>3</th>\n",
              "      <td>22.102041</td>\n",
              "      <td>488.500208</td>\n",
              "      <td>12</td>\n",
              "      <td>144</td>\n",
              "    </tr>\n",
              "    <tr>\n",
              "      <th>4</th>\n",
              "      <td>23.469388</td>\n",
              "      <td>550.812162</td>\n",
              "      <td>12</td>\n",
              "      <td>144</td>\n",
              "    </tr>\n",
              "  </tbody>\n",
              "</table>\n",
              "</div>\n",
              "      <button class=\"colab-df-convert\" onclick=\"convertToInteractive('df-7b77afc7-e4c5-447c-b4e5-65fa47afef07')\"\n",
              "              title=\"Convert this dataframe to an interactive table.\"\n",
              "              style=\"display:none;\">\n",
              "        \n",
              "  <svg xmlns=\"http://www.w3.org/2000/svg\" height=\"24px\"viewBox=\"0 0 24 24\"\n",
              "       width=\"24px\">\n",
              "    <path d=\"M0 0h24v24H0V0z\" fill=\"none\"/>\n",
              "    <path d=\"M18.56 5.44l.94 2.06.94-2.06 2.06-.94-2.06-.94-.94-2.06-.94 2.06-2.06.94zm-11 1L8.5 8.5l.94-2.06 2.06-.94-2.06-.94L8.5 2.5l-.94 2.06-2.06.94zm10 10l.94 2.06.94-2.06 2.06-.94-2.06-.94-.94-2.06-.94 2.06-2.06.94z\"/><path d=\"M17.41 7.96l-1.37-1.37c-.4-.4-.92-.59-1.43-.59-.52 0-1.04.2-1.43.59L10.3 9.45l-7.72 7.72c-.78.78-.78 2.05 0 2.83L4 21.41c.39.39.9.59 1.41.59.51 0 1.02-.2 1.41-.59l7.78-7.78 2.81-2.81c.8-.78.8-2.07 0-2.86zM5.41 20L4 18.59l7.72-7.72 1.47 1.35L5.41 20z\"/>\n",
              "  </svg>\n",
              "      </button>\n",
              "      \n",
              "  <style>\n",
              "    .colab-df-container {\n",
              "      display:flex;\n",
              "      flex-wrap:wrap;\n",
              "      gap: 12px;\n",
              "    }\n",
              "\n",
              "    .colab-df-convert {\n",
              "      background-color: #E8F0FE;\n",
              "      border: none;\n",
              "      border-radius: 50%;\n",
              "      cursor: pointer;\n",
              "      display: none;\n",
              "      fill: #1967D2;\n",
              "      height: 32px;\n",
              "      padding: 0 0 0 0;\n",
              "      width: 32px;\n",
              "    }\n",
              "\n",
              "    .colab-df-convert:hover {\n",
              "      background-color: #E2EBFA;\n",
              "      box-shadow: 0px 1px 2px rgba(60, 64, 67, 0.3), 0px 1px 3px 1px rgba(60, 64, 67, 0.15);\n",
              "      fill: #174EA6;\n",
              "    }\n",
              "\n",
              "    [theme=dark] .colab-df-convert {\n",
              "      background-color: #3B4455;\n",
              "      fill: #D2E3FC;\n",
              "    }\n",
              "\n",
              "    [theme=dark] .colab-df-convert:hover {\n",
              "      background-color: #434B5C;\n",
              "      box-shadow: 0px 1px 3px 1px rgba(0, 0, 0, 0.15);\n",
              "      filter: drop-shadow(0px 1px 2px rgba(0, 0, 0, 0.3));\n",
              "      fill: #FFFFFF;\n",
              "    }\n",
              "  </style>\n",
              "\n",
              "      <script>\n",
              "        const buttonEl =\n",
              "          document.querySelector('#df-7b77afc7-e4c5-447c-b4e5-65fa47afef07 button.colab-df-convert');\n",
              "        buttonEl.style.display =\n",
              "          google.colab.kernel.accessAllowed ? 'block' : 'none';\n",
              "\n",
              "        async function convertToInteractive(key) {\n",
              "          const element = document.querySelector('#df-7b77afc7-e4c5-447c-b4e5-65fa47afef07');\n",
              "          const dataTable =\n",
              "            await google.colab.kernel.invokeFunction('convertToInteractive',\n",
              "                                                     [key], {});\n",
              "          if (!dataTable) return;\n",
              "\n",
              "          const docLinkHtml = 'Like what you see? Visit the ' +\n",
              "            '<a target=\"_blank\" href=https://colab.research.google.com/notebooks/data_table.ipynb>data table notebook</a>'\n",
              "            + ' to learn more about interactive tables.';\n",
              "          element.innerHTML = '';\n",
              "          dataTable['output_type'] = 'display_data';\n",
              "          await google.colab.output.renderOutput(dataTable, element);\n",
              "          const docLink = document.createElement('div');\n",
              "          docLink.innerHTML = docLinkHtml;\n",
              "          element.appendChild(docLink);\n",
              "        }\n",
              "      </script>\n",
              "    </div>\n",
              "  </div>\n",
              "  "
            ]
          },
          "metadata": {},
          "execution_count": 39
        }
      ]
    },
    {
      "cell_type": "code",
      "source": [
        "results.params"
      ],
      "metadata": {
        "colab": {
          "base_uri": "https://localhost:8080/"
        },
        "id": "GVq0zEawl4Nj",
        "outputId": "32a96ae6-30af-48a8-9a7f-1792bbee0613"
      },
      "execution_count": null,
      "outputs": [
        {
          "output_type": "execute_result",
          "data": {
            "text/plain": [
              "Intercept   -23241.884034\n",
              "age           1696.717149\n",
              "age2           -17.196984\n",
              "educ          -528.309369\n",
              "educ2          159.966740\n",
              "dtype: float64"
            ]
          },
          "metadata": {},
          "execution_count": 52
        }
      ]
    },
    {
      "cell_type": "code",
      "source": [
        "# MLR for Highschool\n",
        "pred12 = results.predict(dff)"
      ],
      "metadata": {
        "id": "jRnTJT-ml6HT"
      },
      "execution_count": null,
      "outputs": []
    },
    {
      "cell_type": "code",
      "source": [
        "#Plotting The Prediction - Higschool\n",
        "plt.plot(dff['age'], pred12, label = 'High school')\n",
        "plt.plot(mean_income_by_age, 'o', alpha = 0.5)\n",
        "plt.xlabel('Age (Years)')\n",
        "plt.ylabel('Income(USD)')\n",
        "plt.legend()"
      ],
      "metadata": {
        "colab": {
          "base_uri": "https://localhost:8080/",
          "height": 296
        },
        "id": "ZrMxf88Fx7jW",
        "outputId": "68d81495-fee4-4ab6-eea4-0513b037f7a8"
      },
      "execution_count": null,
      "outputs": [
        {
          "output_type": "execute_result",
          "data": {
            "text/plain": [
              "<matplotlib.legend.Legend at 0x7f3480015810>"
            ]
          },
          "metadata": {},
          "execution_count": 54
        },
        {
          "output_type": "display_data",
          "data": {
            "text/plain": [
              "<Figure size 432x288 with 1 Axes>"
            ],
            "image/png": "[encoded data removed]"
          },
          "metadata": {
            "needs_background": "light"
          }
        }
      ]
    },
    {
      "cell_type": "code",
      "source": [
        "#2 Associate Degree\n",
        "dff['educ'] = 14\n",
        "dff['educ2'] = dff['educ']**2\n",
        "pred14 = results.predict(dff) # MMLR Model\n",
        "plt.plot(dff['age'],pred14, label = 'Associate Degree'  )\n",
        "plt.plot(mean_income_by_age, 'o', alpha = 0.5)\n",
        "plt.legend()"
      ],
      "metadata": {
        "colab": {
          "base_uri": "https://localhost:8080/",
          "height": 282
        },
        "id": "E4ex3kXJi22J",
        "outputId": "1ce20086-4b3f-40a6-ad16-b7e0be1e9f76"
      },
      "execution_count": null,
      "outputs": [
        {
          "output_type": "execute_result",
          "data": {
            "text/plain": [
              "<matplotlib.legend.Legend at 0x7f347ff788d0>"
            ]
          },
          "metadata": {},
          "execution_count": 55
        },
        {
          "output_type": "display_data",
          "data": {
            "text/plain": [
              "<Figure size 432x288 with 1 Axes>"
            ],
            "image/png": "[encoded data removed]"
          },
          "metadata": {
            "needs_background": "light"
          }
        }
      ]
    },
    {
      "cell_type": "code",
      "source": [
        "# Bachelors Degree\n",
        "dff['educ'] = 16\n",
        "dff['educ2'] = dff['educ']**2\n",
        "pred16 = results.predict(dff) #MLR Model\n",
        "plt.plot(dff['age'], pred16, label = \"Bachelours Degree\" )\n",
        "plt.plot(mean_income_by_age, 'o', alpha = 0.5)\n",
        "plt.legend()"
      ],
      "metadata": {
        "colab": {
          "base_uri": "https://localhost:8080/",
          "height": 282
        },
        "id": "vW11bULn2Gp3",
        "outputId": "b12f8923-f613-4f3a-8165-dd3ac96dd31a"
      },
      "execution_count": null,
      "outputs": [
        {
          "output_type": "execute_result",
          "data": {
            "text/plain": [
              "<matplotlib.legend.Legend at 0x7f347fede210>"
            ]
          },
          "metadata": {},
          "execution_count": 57
        },
        {
          "output_type": "display_data",
          "data": {
            "text/plain": [
              "<Figure size 432x288 with 1 Axes>"
            ],
            "image/png": "[encoded data removed]"
          },
          "metadata": {
            "needs_background": "light"
          }
        }
      ]
    },
    {
      "cell_type": "code",
      "source": [
        "#Plotting The Prediction - Higschool\n",
        "plt.plot(dff['age'], pred12, label = 'High school')\n",
        "plt.plot(mean_income_by_age, 'o', alpha = 0.5)\n",
        "plt.xlabel('Age (Years)')\n",
        "plt.ylabel('Income(USD)')\n",
        "plt.legend()\n",
        "\n",
        "#2 Associate Degree\n",
        "dff['educ'] = 14\n",
        "dff['educ2'] = dff['educ']**2\n",
        "pred14 = results.predict(dff)\n",
        "plt.plot(dff['age'],pred14, label = 'Associate Degree'  )\n",
        "plt.plot(mean_income_by_age, 'o', alpha = 0.5)\n",
        "plt.legend()\n",
        "\n",
        "# Bachelors Degree\n",
        "dff['educ'] = 16\n",
        "dff['educ2'] = dff['educ']**2\n",
        "pred16 = results.predict(dff)\n",
        "plt.plot(dff['age'], pred16, label = \"Bachelours Degree\" )\n",
        "plt.plot(mean_income_by_age, 'o', alpha = 0.5)\n",
        "plt.legend()\n",
        "\n"
      ],
      "metadata": {
        "colab": {
          "base_uri": "https://localhost:8080/",
          "height": 296
        },
        "id": "kvQdYOLL47W4",
        "outputId": "f781fe97-d6f7-438a-e9dc-4a21f022152d"
      },
      "execution_count": null,
      "outputs": [
        {
          "output_type": "execute_result",
          "data": {
            "text/plain": [
              "<matplotlib.legend.Legend at 0x7f347fed5610>"
            ]
          },
          "metadata": {},
          "execution_count": 58
        },
        {
          "output_type": "display_data",
          "data": {
            "text/plain": [
              "<Figure size 432x288 with 1 Axes>"
            ],
            "image/png": "[encoded data removed]"
          },
          "metadata": {
            "needs_background": "light"
          }
        }
      ]
    },
    {
      "cell_type": "markdown",
      "source": [
        "The lines show mean income, as predicted by model , as a function of age for three levels of education. This visualization helps us to interpret the model since we can see the seperate contributions of age and education"
      ],
      "metadata": {
        "id": "IHC0W2bB5N1S"
      }
    },
    {
      "cell_type": "markdown",
      "source": [
        "## Logistic Regression\n",
        "\n"
      ],
      "metadata": {
        "id": "6Q1K_JiQiVXV"
      }
    },
    {
      "cell_type": "code",
      "source": [
        "dfl = df.copy() # Dikkat, IVs can not have '0' as a categorical variable"
      ],
      "metadata": {
        "id": "F4OXSjd05L_6"
      },
      "execution_count": null,
      "outputs": []
    },
    {
      "cell_type": "code",
      "source": [
        "dfl['gunlaw'].value_counts()\n",
        "dfl['gunlaw'].replace(2, 0, inplace = True)"
      ],
      "metadata": {
        "colab": {
          "base_uri": "https://localhost:8080/"
        },
        "id": "xhbv7TOM8Rec",
        "outputId": "6c0c767d-ffd1-4f24-e689-508b6b4b9549"
      },
      "execution_count": null,
      "outputs": [
        {
          "output_type": "execute_result",
          "data": {
            "text/plain": [
              "1.0    30918\n",
              "2.0     9632\n",
              "Name: gunlaw, dtype: int64"
            ]
          },
          "metadata": {},
          "execution_count": 67
        }
      ]
    },
    {
      "cell_type": "code",
      "source": [
        "# Checking Support for the Gunlaw - We have to recode it as 1 means yes, 0 means no\n",
        "dfl['gunlaw'].value_counts()\n",
        "dfl['gunlaw'].replace(2, 0, inplace = True)\n",
        "results = smf.logit('gunlaw ~ age + age2 + educ + educ2 + C(sex)', data = dfl).fit()\n",
        "print(results.params)\n"
      ],
      "metadata": {
        "colab": {
          "base_uri": "https://localhost:8080/"
        },
        "id": "Lu05QKL9lx8u",
        "outputId": "dda4b729-cff8-4a72-ed36-dce1e6fd693b"
      },
      "execution_count": null,
      "outputs": [
        {
          "output_type": "stream",
          "name": "stdout",
          "text": [
            "Optimization terminated successfully.\n",
            "         Current function value: 0.533674\n",
            "         Iterations 6\n",
            "Intercept      1.653862\n",
            "C(sex)[T.2]    0.757249\n",
            "age           -0.018849\n",
            "age2           0.000189\n",
            "educ          -0.124373\n",
            "educ2          0.006653\n",
            "dtype: float64\n"
          ]
        }
      ]
    },
    {
      "cell_type": "code",
      "source": [
        "# With Edcuation variable is constant, I will generate predictions for different ages and sexes. First we need to have a DF with Age, Age2, Educ and Educ2\n",
        "dfll = pd.DataFrame()\n",
        "dfll['age'] = np.linspace(18, 89)\n",
        "#if youw wanted to add jitter to age -> dfll['age']  = dfll['age']  + np.random.rand(0,2, size = len(dfll))\n",
        "dfll['educ'] = 12\n",
        "\n",
        "#Age2 and Edcu2\n",
        "dfll['age2'] = dfll['age'] **2\n",
        "dfll['educ2'] = dfll['educ'] ** 2\n",
        "\n",
        "#Printing out the new dataframe dfll\n",
        "print(dfll.head())"
      ],
      "metadata": {
        "colab": {
          "base_uri": "https://localhost:8080/"
        },
        "id": "qzwRP5Sv9eLG",
        "outputId": "6b0cb396-8600-4451-9af1-e281942b8306"
      },
      "execution_count": null,
      "outputs": [
        {
          "output_type": "stream",
          "name": "stdout",
          "text": [
            "         age  educ        age2  educ2\n",
            "0  18.000000    12  324.000000    144\n",
            "1  19.448980    12  378.262807    144\n",
            "2  20.897959    12  436.724698    144\n",
            "3  22.346939    12  499.385673    144\n",
            "4  23.795918    12  566.245731    144\n"
          ]
        }
      ]
    },
    {
      "cell_type": "code",
      "source": [
        "#Prediction for men\n",
        "dfll['sex'] = 1\n",
        "predmen = results.predict(dfll)\n",
        "\n"
      ],
      "metadata": {
        "id": "Q9qe1VgSBBeX"
      },
      "execution_count": null,
      "outputs": []
    },
    {
      "cell_type": "code",
      "source": [
        "#prediction for women\n",
        "dfll['sex'] = 2\n",
        "predwom = results.predict(dfll)\n"
      ],
      "metadata": {
        "id": "v_eoh0lIBhmH"
      },
      "execution_count": null,
      "outputs": []
    },
    {
      "cell_type": "markdown",
      "source": [
        "## Plotting Logistic Regression Results\n",
        "Steps = First Get the Correlation of Support from Original Data\n"
      ],
      "metadata": {
        "id": "-I2BaT9jC3yJ"
      }
    },
    {
      "cell_type": "code",
      "source": [
        "#Vusiuazling the Results - Original\n",
        "#favor_by_age = df.groupby('age')['gunlaw'].mean()\n",
        "grouped = df.groupby('age')\n",
        "favor_by_age = grouped['gunlaw'].mean()\n",
        "plt.plot(favor_by_age, 'o', alpha = 0.2)"
      ],
      "metadata": {
        "colab": {
          "base_uri": "https://localhost:8080/",
          "height": 282
        },
        "id": "xmmAA9ZxCBFM",
        "outputId": "d76f49c6-fb87-409d-9229-a4ee9d910af7"
      },
      "execution_count": null,
      "outputs": [
        {
          "output_type": "execute_result",
          "data": {
            "text/plain": [
              "[<matplotlib.lines.Line2D at 0x7f3482af6210>]"
            ]
          },
          "metadata": {},
          "execution_count": 101
        },
        {
          "output_type": "display_data",
          "data": {
            "text/plain": [
              "<Figure size 432x288 with 1 Axes>"
            ],
            "image/png": "[encoded data removed]"
          },
          "metadata": {
            "needs_background": "light"
          }
        }
      ]
    },
    {
      "cell_type": "code",
      "source": [
        "#Prediciton Results\n",
        "plt.plot(dfll['age'], predmen, label = 'men')\n",
        "plt.plot(dfll['age'], predwom, label  = 'women')\n",
        "plt.xlabel('Age')\n",
        "plt.ylabel('Probability of Facoring Gun Law')\n",
        "plt.legend()"
      ],
      "metadata": {
        "colab": {
          "base_uri": "https://localhost:8080/",
          "height": 296
        },
        "id": "jo3f1Ii5DEy4",
        "outputId": "5636e045-5dc3-4fbd-98d2-7465d2050eaf"
      },
      "execution_count": null,
      "outputs": [
        {
          "output_type": "execute_result",
          "data": {
            "text/plain": [
              "<matplotlib.legend.Legend at 0x7f347f042290>"
            ]
          },
          "metadata": {},
          "execution_count": 88
        },
        {
          "output_type": "display_data",
          "data": {
            "text/plain": [
              "<Figure size 432x288 with 1 Axes>"
            ],
            "image/png": "[encoded data removed]"
          },
          "metadata": {
            "needs_background": "light"
          }
        }
      ]
    },
    {
      "cell_type": "code",
      "source": [
        "# Combining Two Plots\n",
        "#Vusiuazling the Results - Original Data\n",
        "favor_by_age = df.groupby('age')['gunlaw'].mean()\n",
        "plt.plot(favor_by_age, 'o', alpha = 0.2)\n",
        "#Prediciton Results\n",
        "plt.plot(dfll['age'], predmen, label = 'men')\n",
        "plt.plot(dfll['age'], predwom, label  = 'women')\n",
        "plt.xlabel('Age')\n",
        "plt.ylabel('Probability of Facoring Gun Law')\n",
        "plt.legend()"
      ],
      "metadata": {
        "colab": {
          "base_uri": "https://localhost:8080/",
          "height": 296
        },
        "id": "taHjht-FD_mY",
        "outputId": "e51cd4a7-2797-4d06-d836-7bc3adccf386"
      },
      "execution_count": null,
      "outputs": [
        {
          "output_type": "execute_result",
          "data": {
            "text/plain": [
              "<matplotlib.legend.Legend at 0x7f347ff18ad0>"
            ]
          },
          "metadata": {},
          "execution_count": 87
        },
        {
          "output_type": "display_data",
          "data": {
            "text/plain": [
              "<Figure size 432x288 with 1 Axes>"
            ],
            "image/png": "[encoded data removed]"
          },
          "metadata": {
            "needs_background": "light"
          }
        }
      ]
    }
  ]
}