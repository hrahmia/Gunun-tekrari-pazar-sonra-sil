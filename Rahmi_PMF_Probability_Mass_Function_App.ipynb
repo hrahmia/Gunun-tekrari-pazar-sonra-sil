{
  "nbformat": 4,
  "nbformat_minor": 0,
  "metadata": {
    "colab": {
      "provenance": [],
      "authorship_tag": "ABX9TyNYxJ9I8NoVnqM2AT3JYroX",
      "include_colab_link": true
    },
    "kernelspec": {
      "name": "python3",
      "display_name": "Python 3"
    },
    "language_info": {
      "name": "python"
    }
  },
  "cells": [
    {
      "cell_type": "markdown",
      "metadata": {
        "id": "view-in-github",
        "colab_type": "text"
      },
      "source": [
        "<a href=\"https://colab.research.google.com/github/hrahmia/Gunun-tekrari-pazar-sonra-sil/blob/master/Rahmi_PMF_Probability_Mass_Function_App.ipynb\" target=\"_parent\"><img src=\"https://colab.research.google.com/assets/colab-badge.svg\" alt=\"Open In Colab\"/></a>"
      ]
    },
    {
      "cell_type": "code",
      "execution_count": null,
      "metadata": {
        "colab": {
          "base_uri": "https://localhost:8080/",
          "height": 73
        },
        "id": "rsBTDJQhGuqc",
        "outputId": "0b41b052-de93-44a4-d1e9-7fe623c48950"
      },
      "outputs": [
        {
          "output_type": "display_data",
          "data": {
            "text/plain": [
              "<IPython.core.display.HTML object>"
            ],
            "text/html": [
              "\n",
              "     <input type=\"file\" id=\"files-82259dae-855a-4510-98d8-dea176693149\" name=\"files[]\" multiple disabled\n",
              "        style=\"border:none\" />\n",
              "     <output id=\"result-82259dae-855a-4510-98d8-dea176693149\">\n",
              "      Upload widget is only available when the cell has been executed in the\n",
              "      current browser session. Please rerun this cell to enable.\n",
              "      </output>\n",
              "      <script>// Copyright 2017 Google LLC\n",
              "//\n",
              "// Licensed under the Apache License, Version 2.0 (the \"License\");\n",
              "// you may not use this file except in compliance with the License.\n",
              "// You may obtain a copy of the License at\n",
              "//\n",
              "//      http://www.apache.org/licenses/LICENSE-2.0\n",
              "//\n",
              "// Unless required by applicable law or agreed to in writing, software\n",
              "// distributed under the License is distributed on an \"AS IS\" BASIS,\n",
              "// WITHOUT WARRANTIES OR CONDITIONS OF ANY KIND, either express or implied.\n",
              "// See the License for the specific language governing permissions and\n",
              "// limitations under the License.\n",
              "\n",
              "/**\n",
              " * @fileoverview Helpers for google.colab Python module.\n",
              " */\n",
              "(function(scope) {\n",
              "function span(text, styleAttributes = {}) {\n",
              "  const element = document.createElement('span');\n",
              "  element.textContent = text;\n",
              "  for (const key of Object.keys(styleAttributes)) {\n",
              "    element.style[key] = styleAttributes[key];\n",
              "  }\n",
              "  return element;\n",
              "}\n",
              "\n",
              "// Max number of bytes which will be uploaded at a time.\n",
              "const MAX_PAYLOAD_SIZE = 100 * 1024;\n",
              "\n",
              "function _uploadFiles(inputId, outputId) {\n",
              "  const steps = uploadFilesStep(inputId, outputId);\n",
              "  const outputElement = document.getElementById(outputId);\n",
              "  // Cache steps on the outputElement to make it available for the next call\n",
              "  // to uploadFilesContinue from Python.\n",
              "  outputElement.steps = steps;\n",
              "\n",
              "  return _uploadFilesContinue(outputId);\n",
              "}\n",
              "\n",
              "// This is roughly an async generator (not supported in the browser yet),\n",
              "// where there are multiple asynchronous steps and the Python side is going\n",
              "// to poll for completion of each step.\n",
              "// This uses a Promise to block the python side on completion of each step,\n",
              "// then passes the result of the previous step as the input to the next step.\n",
              "function _uploadFilesContinue(outputId) {\n",
              "  const outputElement = document.getElementById(outputId);\n",
              "  const steps = outputElement.steps;\n",
              "\n",
              "  const next = steps.next(outputElement.lastPromiseValue);\n",
              "  return Promise.resolve(next.value.promise).then((value) => {\n",
              "    // Cache the last promise value to make it available to the next\n",
              "    // step of the generator.\n",
              "    outputElement.lastPromiseValue = value;\n",
              "    return next.value.response;\n",
              "  });\n",
              "}\n",
              "\n",
              "/**\n",
              " * Generator function which is called between each async step of the upload\n",
              " * process.\n",
              " * @param {string} inputId Element ID of the input file picker element.\n",
              " * @param {string} outputId Element ID of the output display.\n",
              " * @return {!Iterable<!Object>} Iterable of next steps.\n",
              " */\n",
              "function* uploadFilesStep(inputId, outputId) {\n",
              "  const inputElement = document.getElementById(inputId);\n",
              "  inputElement.disabled = false;\n",
              "\n",
              "  const outputElement = document.getElementById(outputId);\n",
              "  outputElement.innerHTML = '';\n",
              "\n",
              "  const pickedPromise = new Promise((resolve) => {\n",
              "    inputElement.addEventListener('change', (e) => {\n",
              "      resolve(e.target.files);\n",
              "    });\n",
              "  });\n",
              "\n",
              "  const cancel = document.createElement('button');\n",
              "  inputElement.parentElement.appendChild(cancel);\n",
              "  cancel.textContent = 'Cancel upload';\n",
              "  const cancelPromise = new Promise((resolve) => {\n",
              "    cancel.onclick = () => {\n",
              "      resolve(null);\n",
              "    };\n",
              "  });\n",
              "\n",
              "  // Wait for the user to pick the files.\n",
              "  const files = yield {\n",
              "    promise: Promise.race([pickedPromise, cancelPromise]),\n",
              "    response: {\n",
              "      action: 'starting',\n",
              "    }\n",
              "  };\n",
              "\n",
              "  cancel.remove();\n",
              "\n",
              "  // Disable the input element since further picks are not allowed.\n",
              "  inputElement.disabled = true;\n",
              "\n",
              "  if (!files) {\n",
              "    return {\n",
              "      response: {\n",
              "        action: 'complete',\n",
              "      }\n",
              "    };\n",
              "  }\n",
              "\n",
              "  for (const file of files) {\n",
              "    const li = document.createElement('li');\n",
              "    li.append(span(file.name, {fontWeight: 'bold'}));\n",
              "    li.append(span(\n",
              "        `(${file.type || 'n/a'}) - ${file.size} bytes, ` +\n",
              "        `last modified: ${\n",
              "            file.lastModifiedDate ? file.lastModifiedDate.toLocaleDateString() :\n",
              "                                    'n/a'} - `));\n",
              "    const percent = span('0% done');\n",
              "    li.appendChild(percent);\n",
              "\n",
              "    outputElement.appendChild(li);\n",
              "\n",
              "    const fileDataPromise = new Promise((resolve) => {\n",
              "      const reader = new FileReader();\n",
              "      reader.onload = (e) => {\n",
              "        resolve(e.target.result);\n",
              "      };\n",
              "      reader.readAsArrayBuffer(file);\n",
              "    });\n",
              "    // Wait for the data to be ready.\n",
              "    let fileData = yield {\n",
              "      promise: fileDataPromise,\n",
              "      response: {\n",
              "        action: 'continue',\n",
              "      }\n",
              "    };\n",
              "\n",
              "    // Use a chunked sending to avoid message size limits. See b/62115660.\n",
              "    let position = 0;\n",
              "    do {\n",
              "      const length = Math.min(fileData.byteLength - position, MAX_PAYLOAD_SIZE);\n",
              "      const chunk = new Uint8Array(fileData, position, length);\n",
              "      position += length;\n",
              "\n",
              "      const base64 = btoa(String.fromCharCode.apply(null, chunk));\n",
              "      yield {\n",
              "        response: {\n",
              "          action: 'append',\n",
              "          file: file.name,\n",
              "          data: base64,\n",
              "        },\n",
              "      };\n",
              "\n",
              "      let percentDone = fileData.byteLength === 0 ?\n",
              "          100 :\n",
              "          Math.round((position / fileData.byteLength) * 100);\n",
              "      percent.textContent = `${percentDone}% done`;\n",
              "\n",
              "    } while (position < fileData.byteLength);\n",
              "  }\n",
              "\n",
              "  // All done.\n",
              "  yield {\n",
              "    response: {\n",
              "      action: 'complete',\n",
              "    }\n",
              "  };\n",
              "}\n",
              "\n",
              "scope.google = scope.google || {};\n",
              "scope.google.colab = scope.google.colab || {};\n",
              "scope.google.colab._files = {\n",
              "  _uploadFiles,\n",
              "  _uploadFilesContinue,\n",
              "};\n",
              "})(self);\n",
              "</script> "
            ]
          },
          "metadata": {}
        },
        {
          "output_type": "stream",
          "name": "stdout",
          "text": [
            "Saving new_cars.csv to new_cars.csv\n"
          ]
        }
      ],
      "source": [
        "from google.colab import files\n",
        "uploaded = files.upload()"
      ]
    },
    {
      "cell_type": "code",
      "source": [
        "import io\n",
        "import pandas as pd\n",
        "import numpy as np\n",
        "import matplotlib.pyplot as plt\n",
        "new_cars = pd.read_csv(io.BytesIO(uploaded['new_cars.csv']), index_col = None)"
      ],
      "metadata": {
        "id": "DEr6RpnIGxPz"
      },
      "execution_count": null,
      "outputs": []
    },
    {
      "cell_type": "code",
      "source": [
        "new_cars.head()"
      ],
      "metadata": {
        "colab": {
          "base_uri": "https://localhost:8080/",
          "height": 314
        },
        "id": "qJgNP6YVGxSy",
        "outputId": "7cdb24b0-2e39-4c51-c11b-e675621557ed"
      },
      "execution_count": null,
      "outputs": [
        {
          "output_type": "execute_result",
          "data": {
            "text/plain": [
              "              id                vin  \\\n",
              "0  02b6ae34-aa6d  1N4BL4BWXKC189689   \n",
              "1  e772449c-df9e  19UDE2F31MA007587   \n",
              "2  3bf7a3e5-769f  19UDE2F77LA011595   \n",
              "3  24d1c3d5-66d9  19UDE2F74MA010969   \n",
              "4  5bad2df2-7eb0  19UDE2F73NA000256   \n",
              "\n",
              "                                       heading    price     msrp  miles  year  \\\n",
              "0                     2019 Nissan Altima 2.5 S  22900.0  26335.0    NaN  2019   \n",
              "1             New 2021 New 2021 Acura ILX Base  27645.0  26100.0    5.0  2021   \n",
              "2  New 2020 New 2020 Acura ILX Premium Package  28905.0  28905.0    2.0  2020   \n",
              "3               2021 Acura ILX Premium Package  29625.0  29625.0    3.0  2021   \n",
              "4              New 2022 Acura ILX with Premium  29525.0  29525.0    8.0  2022   \n",
              "\n",
              "     make   model     trim  ... inventory_type carfax_1_owner  \\\n",
              "0  Nissan  Altima        S  ...            new            0.0   \n",
              "1   Acura     ILX     Base  ...            new            0.0   \n",
              "2   Acura     ILX  Premium  ...            new            0.0   \n",
              "3   Acura     ILX  Premium  ...            new            0.0   \n",
              "4   Acura     ILX  Premium  ...            new            0.0   \n",
              "\n",
              "  carfax_clean_title loan_apr l_down_pay  l_emi f_down_pay  f_down_pay_per  \\\n",
              "0                0.0      NaN        NaN    NaN        NaN             NaN   \n",
              "1                0.0      0.0        0.0    0.0        0.0             0.0   \n",
              "2                0.0      4.9        0.0    0.0        0.0            20.0   \n",
              "3                0.0      0.0        0.0    0.0        0.0             0.0   \n",
              "4                0.0      0.0        0.0    0.0        0.0             0.0   \n",
              "\n",
              "   f_emi  lease_term  \n",
              "0    NaN         NaN  \n",
              "1    0.0         NaN  \n",
              "2    0.0         NaN  \n",
              "3    0.0         NaN  \n",
              "4    0.0         NaN  \n",
              "\n",
              "[5 rows x 47 columns]"
            ],
            "text/html": [
              "\n",
              "  <div id=\"df-11993639-d352-4f1b-aede-c089d5dee3af\">\n",
              "    <div class=\"colab-df-container\">\n",
              "      <div>\n",
              "<style scoped>\n",
              "    .dataframe tbody tr th:only-of-type {\n",
              "        vertical-align: middle;\n",
              "    }\n",
              "\n",
              "    .dataframe tbody tr th {\n",
              "        vertical-align: top;\n",
              "    }\n",
              "\n",
              "    .dataframe thead th {\n",
              "        text-align: right;\n",
              "    }\n",
              "</style>\n",
              "<table border=\"1\" class=\"dataframe\">\n",
              "  <thead>\n",
              "    <tr style=\"text-align: right;\">\n",
              "      <th></th>\n",
              "      <th>id</th>\n",
              "      <th>vin</th>\n",
              "      <th>heading</th>\n",
              "      <th>price</th>\n",
              "      <th>msrp</th>\n",
              "      <th>miles</th>\n",
              "      <th>year</th>\n",
              "      <th>make</th>\n",
              "      <th>model</th>\n",
              "      <th>trim</th>\n",
              "      <th>...</th>\n",
              "      <th>inventory_type</th>\n",
              "      <th>carfax_1_owner</th>\n",
              "      <th>carfax_clean_title</th>\n",
              "      <th>loan_apr</th>\n",
              "      <th>l_down_pay</th>\n",
              "      <th>l_emi</th>\n",
              "      <th>f_down_pay</th>\n",
              "      <th>f_down_pay_per</th>\n",
              "      <th>f_emi</th>\n",
              "      <th>lease_term</th>\n",
              "    </tr>\n",
              "  </thead>\n",
              "  <tbody>\n",
              "    <tr>\n",
              "      <th>0</th>\n",
              "      <td>02b6ae34-aa6d</td>\n",
              "      <td>1N4BL4BWXKC189689</td>\n",
              "      <td>2019 Nissan Altima 2.5 S</td>\n",
              "      <td>22900.0</td>\n",
              "      <td>26335.0</td>\n",
              "      <td>NaN</td>\n",
              "      <td>2019</td>\n",
              "      <td>Nissan</td>\n",
              "      <td>Altima</td>\n",
              "      <td>S</td>\n",
              "      <td>...</td>\n",
              "      <td>new</td>\n",
              "      <td>0.0</td>\n",
              "      <td>0.0</td>\n",
              "      <td>NaN</td>\n",
              "      <td>NaN</td>\n",
              "      <td>NaN</td>\n",
              "      <td>NaN</td>\n",
              "      <td>NaN</td>\n",
              "      <td>NaN</td>\n",
              "      <td>NaN</td>\n",
              "    </tr>\n",
              "    <tr>\n",
              "      <th>1</th>\n",
              "      <td>e772449c-df9e</td>\n",
              "      <td>19UDE2F31MA007587</td>\n",
              "      <td>New 2021 New 2021 Acura ILX Base</td>\n",
              "      <td>27645.0</td>\n",
              "      <td>26100.0</td>\n",
              "      <td>5.0</td>\n",
              "      <td>2021</td>\n",
              "      <td>Acura</td>\n",
              "      <td>ILX</td>\n",
              "      <td>Base</td>\n",
              "      <td>...</td>\n",
              "      <td>new</td>\n",
              "      <td>0.0</td>\n",
              "      <td>0.0</td>\n",
              "      <td>0.0</td>\n",
              "      <td>0.0</td>\n",
              "      <td>0.0</td>\n",
              "      <td>0.0</td>\n",
              "      <td>0.0</td>\n",
              "      <td>0.0</td>\n",
              "      <td>NaN</td>\n",
              "    </tr>\n",
              "    <tr>\n",
              "      <th>2</th>\n",
              "      <td>3bf7a3e5-769f</td>\n",
              "      <td>19UDE2F77LA011595</td>\n",
              "      <td>New 2020 New 2020 Acura ILX Premium Package</td>\n",
              "      <td>28905.0</td>\n",
              "      <td>28905.0</td>\n",
              "      <td>2.0</td>\n",
              "      <td>2020</td>\n",
              "      <td>Acura</td>\n",
              "      <td>ILX</td>\n",
              "      <td>Premium</td>\n",
              "      <td>...</td>\n",
              "      <td>new</td>\n",
              "      <td>0.0</td>\n",
              "      <td>0.0</td>\n",
              "      <td>4.9</td>\n",
              "      <td>0.0</td>\n",
              "      <td>0.0</td>\n",
              "      <td>0.0</td>\n",
              "      <td>20.0</td>\n",
              "      <td>0.0</td>\n",
              "      <td>NaN</td>\n",
              "    </tr>\n",
              "    <tr>\n",
              "      <th>3</th>\n",
              "      <td>24d1c3d5-66d9</td>\n",
              "      <td>19UDE2F74MA010969</td>\n",
              "      <td>2021 Acura ILX Premium Package</td>\n",
              "      <td>29625.0</td>\n",
              "      <td>29625.0</td>\n",
              "      <td>3.0</td>\n",
              "      <td>2021</td>\n",
              "      <td>Acura</td>\n",
              "      <td>ILX</td>\n",
              "      <td>Premium</td>\n",
              "      <td>...</td>\n",
              "      <td>new</td>\n",
              "      <td>0.0</td>\n",
              "      <td>0.0</td>\n",
              "      <td>0.0</td>\n",
              "      <td>0.0</td>\n",
              "      <td>0.0</td>\n",
              "      <td>0.0</td>\n",
              "      <td>0.0</td>\n",
              "      <td>0.0</td>\n",
              "      <td>NaN</td>\n",
              "    </tr>\n",
              "    <tr>\n",
              "      <th>4</th>\n",
              "      <td>5bad2df2-7eb0</td>\n",
              "      <td>19UDE2F73NA000256</td>\n",
              "      <td>New 2022 Acura ILX with Premium</td>\n",
              "      <td>29525.0</td>\n",
              "      <td>29525.0</td>\n",
              "      <td>8.0</td>\n",
              "      <td>2022</td>\n",
              "      <td>Acura</td>\n",
              "      <td>ILX</td>\n",
              "      <td>Premium</td>\n",
              "      <td>...</td>\n",
              "      <td>new</td>\n",
              "      <td>0.0</td>\n",
              "      <td>0.0</td>\n",
              "      <td>0.0</td>\n",
              "      <td>0.0</td>\n",
              "      <td>0.0</td>\n",
              "      <td>0.0</td>\n",
              "      <td>0.0</td>\n",
              "      <td>0.0</td>\n",
              "      <td>NaN</td>\n",
              "    </tr>\n",
              "  </tbody>\n",
              "</table>\n",
              "<p>5 rows × 47 columns</p>\n",
              "</div>\n",
              "      <button class=\"colab-df-convert\" onclick=\"convertToInteractive('df-11993639-d352-4f1b-aede-c089d5dee3af')\"\n",
              "              title=\"Convert this dataframe to an interactive table.\"\n",
              "              style=\"display:none;\">\n",
              "        \n",
              "  <svg xmlns=\"http://www.w3.org/2000/svg\" height=\"24px\"viewBox=\"0 0 24 24\"\n",
              "       width=\"24px\">\n",
              "    <path d=\"M0 0h24v24H0V0z\" fill=\"none\"/>\n",
              "    <path d=\"M18.56 5.44l.94 2.06.94-2.06 2.06-.94-2.06-.94-.94-2.06-.94 2.06-2.06.94zm-11 1L8.5 8.5l.94-2.06 2.06-.94-2.06-.94L8.5 2.5l-.94 2.06-2.06.94zm10 10l.94 2.06.94-2.06 2.06-.94-2.06-.94-.94-2.06-.94 2.06-2.06.94z\"/><path d=\"M17.41 7.96l-1.37-1.37c-.4-.4-.92-.59-1.43-.59-.52 0-1.04.2-1.43.59L10.3 9.45l-7.72 7.72c-.78.78-.78 2.05 0 2.83L4 21.41c.39.39.9.59 1.41.59.51 0 1.02-.2 1.41-.59l7.78-7.78 2.81-2.81c.8-.78.8-2.07 0-2.86zM5.41 20L4 18.59l7.72-7.72 1.47 1.35L5.41 20z\"/>\n",
              "  </svg>\n",
              "      </button>\n",
              "      \n",
              "  <style>\n",
              "    .colab-df-container {\n",
              "      display:flex;\n",
              "      flex-wrap:wrap;\n",
              "      gap: 12px;\n",
              "    }\n",
              "\n",
              "    .colab-df-convert {\n",
              "      background-color: #E8F0FE;\n",
              "      border: none;\n",
              "      border-radius: 50%;\n",
              "      cursor: pointer;\n",
              "      display: none;\n",
              "      fill: #1967D2;\n",
              "      height: 32px;\n",
              "      padding: 0 0 0 0;\n",
              "      width: 32px;\n",
              "    }\n",
              "\n",
              "    .colab-df-convert:hover {\n",
              "      background-color: #E2EBFA;\n",
              "      box-shadow: 0px 1px 2px rgba(60, 64, 67, 0.3), 0px 1px 3px 1px rgba(60, 64, 67, 0.15);\n",
              "      fill: #174EA6;\n",
              "    }\n",
              "\n",
              "    [theme=dark] .colab-df-convert {\n",
              "      background-color: #3B4455;\n",
              "      fill: #D2E3FC;\n",
              "    }\n",
              "\n",
              "    [theme=dark] .colab-df-convert:hover {\n",
              "      background-color: #434B5C;\n",
              "      box-shadow: 0px 1px 3px 1px rgba(0, 0, 0, 0.15);\n",
              "      filter: drop-shadow(0px 1px 2px rgba(0, 0, 0, 0.3));\n",
              "      fill: #FFFFFF;\n",
              "    }\n",
              "  </style>\n",
              "\n",
              "      <script>\n",
              "        const buttonEl =\n",
              "          document.querySelector('#df-11993639-d352-4f1b-aede-c089d5dee3af button.colab-df-convert');\n",
              "        buttonEl.style.display =\n",
              "          google.colab.kernel.accessAllowed ? 'block' : 'none';\n",
              "\n",
              "        async function convertToInteractive(key) {\n",
              "          const element = document.querySelector('#df-11993639-d352-4f1b-aede-c089d5dee3af');\n",
              "          const dataTable =\n",
              "            await google.colab.kernel.invokeFunction('convertToInteractive',\n",
              "                                                     [key], {});\n",
              "          if (!dataTable) return;\n",
              "\n",
              "          const docLinkHtml = 'Like what you see? Visit the ' +\n",
              "            '<a target=\"_blank\" href=https://colab.research.google.com/notebooks/data_table.ipynb>data table notebook</a>'\n",
              "            + ' to learn more about interactive tables.';\n",
              "          element.innerHTML = '';\n",
              "          dataTable['output_type'] = 'display_data';\n",
              "          await google.colab.output.renderOutput(dataTable, element);\n",
              "          const docLink = document.createElement('div');\n",
              "          docLink.innerHTML = docLinkHtml;\n",
              "          element.appendChild(docLink);\n",
              "        }\n",
              "      </script>\n",
              "    </div>\n",
              "  </div>\n",
              "  "
            ]
          },
          "metadata": {},
          "execution_count": 8
        },
        {
          "output_type": "stream",
          "name": "stdout",
          "text": [
            "Warning: Total number of columns (47) exceeds max_columns (20) limiting to first (20) columns.\n"
          ]
        }
      ]
    },
    {
      "cell_type": "code",
      "source": [
        "new_cars.columns"
      ],
      "metadata": {
        "colab": {
          "base_uri": "https://localhost:8080/"
        },
        "id": "LJAOATlDGxWL",
        "outputId": "1437f017-4b6c-4464-98e5-c8f141ea79d1"
      },
      "execution_count": null,
      "outputs": [
        {
          "output_type": "execute_result",
          "data": {
            "text/plain": [
              "Index(['id', 'vin', 'heading', 'price', 'msrp', 'miles', 'year', 'make',\n",
              "       'model', 'trim', 'vehicle_type', 'body_type', 'drivetrain', 'fuel_type',\n",
              "       'engine', 'engine_size', 'transmission', 'doors', 'cylinders',\n",
              "       'city_mpg', 'highway_mpg', 'interior_color', 'exterior_color',\n",
              "       'base_exterior_color', 'base_interior_color', 'scraped_at',\n",
              "       'status_date', 'first_scraped_at', 'dealer_id', 'source', 'seller_name',\n",
              "       'city', 'state', 'zip', 'country', 'seller_type', 'listing_type',\n",
              "       'inventory_type', 'carfax_1_owner', 'carfax_clean_title', 'loan_apr',\n",
              "       'l_down_pay', 'l_emi', 'f_down_pay', 'f_down_pay_per', 'f_emi',\n",
              "       'lease_term'],\n",
              "      dtype='object')"
            ]
          },
          "metadata": {},
          "execution_count": 9
        }
      ]
    },
    {
      "cell_type": "code",
      "source": [
        "len(new_cars.columns)"
      ],
      "metadata": {
        "colab": {
          "base_uri": "https://localhost:8080/"
        },
        "id": "_X1GHAkRGxZb",
        "outputId": "f3edd6e9-334b-40f6-f163-9613e5465b32"
      },
      "execution_count": null,
      "outputs": [
        {
          "output_type": "execute_result",
          "data": {
            "text/plain": [
              "47"
            ]
          },
          "metadata": {},
          "execution_count": 15
        }
      ]
    },
    {
      "cell_type": "code",
      "source": [
        "new_cars.describe()"
      ],
      "metadata": {
        "colab": {
          "base_uri": "https://localhost:8080/",
          "height": 364
        },
        "id": "_vxwEHPnYj2_",
        "outputId": "bb84b319-61dd-4e3f-cb21-16251267f8d6"
      },
      "execution_count": null,
      "outputs": [
        {
          "output_type": "execute_result",
          "data": {
            "text/plain": [
              "               price           msrp        miles         year  engine_size  \\\n",
              "count    4594.000000    4619.000000  2297.000000  5000.000000  4692.000000   \n",
              "mean    49186.595124   50948.341849    74.070091  2020.962000     3.902174   \n",
              "std     12526.309207   13839.969995   504.315134     0.783759     1.472511   \n",
              "min         0.000000    1995.000000     0.000000  2000.000000     1.500000   \n",
              "25%     41526.250000   43565.000000     2.000000  2021.000000     3.000000   \n",
              "50%     48440.000000   50070.000000     7.000000  2021.000000     3.600000   \n",
              "75%     55465.000000   56805.000000    11.000000  2021.000000     5.700000   \n",
              "max    131385.000000  341590.000000  9253.000000  2022.000000     7.300000   \n",
              "\n",
              "             doors    cylinders     city_mpg  highway_mpg     dealer_id  \\\n",
              "count  4693.000000  4692.000000  4222.000000  4222.000000  5.000000e+03   \n",
              "mean      4.440656     6.103367    18.889863    25.292989  1.848744e+06   \n",
              "std       0.794633     1.503132     4.642740     3.905195  2.593667e+06   \n",
              "min       2.000000     3.000000     9.000000    12.000000  1.000123e+06   \n",
              "25%       4.000000     6.000000    17.000000    23.000000  1.007584e+06   \n",
              "50%       5.000000     6.000000    18.000000    25.000000  1.015834e+06   \n",
              "75%       5.000000     8.000000    20.000000    26.000000  1.051293e+06   \n",
              "max       5.000000    10.000000    55.000000    49.000000  1.004401e+07   \n",
              "\n",
              "                zip  carfax_1_owner  carfax_clean_title     loan_apr  \\\n",
              "count   5000.000000      4993.00000         4993.000000  4999.000000   \n",
              "mean   49571.170000         0.09994            0.001402     0.404903   \n",
              "std    28767.324051         0.29995            0.037420     1.472748   \n",
              "min      614.000000         0.00000            0.000000     0.000000   \n",
              "25%    27591.000000         0.00000            0.000000     0.000000   \n",
              "50%    48070.000000         0.00000            0.000000     0.000000   \n",
              "75%    76094.250000         0.00000            0.000000     0.000000   \n",
              "max    99701.000000         1.00000            1.000000     9.150000   \n",
              "\n",
              "         l_down_pay        l_emi    f_down_pay  f_down_pay_per        f_emi  \\\n",
              "count   4999.000000  4995.000000   4999.000000     4999.000000  4995.000000   \n",
              "mean     100.747149    20.795996    404.381276        0.038008    40.377377   \n",
              "std      663.694957   118.791687   1687.815558        0.859565   159.133558   \n",
              "min        0.000000     0.000000      0.000000        0.000000     0.000000   \n",
              "25%        0.000000     0.000000      0.000000        0.000000     0.000000   \n",
              "50%        0.000000     0.000000      0.000000        0.000000     0.000000   \n",
              "75%        0.000000     0.000000      0.000000        0.000000     0.000000   \n",
              "max    16233.000000  1295.000000  20232.000000       20.000000  1611.000000   \n",
              "\n",
              "       lease_term  \n",
              "count   15.000000  \n",
              "mean    53.600000  \n",
              "std     17.487955  \n",
              "min     36.000000  \n",
              "25%     36.000000  \n",
              "50%     60.000000  \n",
              "75%     72.000000  \n",
              "max     72.000000  "
            ],
            "text/html": [
              "\n",
              "  <div id=\"df-8be85552-eb4c-48b7-9063-541da4f36b28\">\n",
              "    <div class=\"colab-df-container\">\n",
              "      <div>\n",
              "<style scoped>\n",
              "    .dataframe tbody tr th:only-of-type {\n",
              "        vertical-align: middle;\n",
              "    }\n",
              "\n",
              "    .dataframe tbody tr th {\n",
              "        vertical-align: top;\n",
              "    }\n",
              "\n",
              "    .dataframe thead th {\n",
              "        text-align: right;\n",
              "    }\n",
              "</style>\n",
              "<table border=\"1\" class=\"dataframe\">\n",
              "  <thead>\n",
              "    <tr style=\"text-align: right;\">\n",
              "      <th></th>\n",
              "      <th>price</th>\n",
              "      <th>msrp</th>\n",
              "      <th>miles</th>\n",
              "      <th>year</th>\n",
              "      <th>engine_size</th>\n",
              "      <th>doors</th>\n",
              "      <th>cylinders</th>\n",
              "      <th>city_mpg</th>\n",
              "      <th>highway_mpg</th>\n",
              "      <th>dealer_id</th>\n",
              "      <th>zip</th>\n",
              "      <th>carfax_1_owner</th>\n",
              "      <th>carfax_clean_title</th>\n",
              "      <th>loan_apr</th>\n",
              "      <th>l_down_pay</th>\n",
              "      <th>l_emi</th>\n",
              "      <th>f_down_pay</th>\n",
              "      <th>f_down_pay_per</th>\n",
              "      <th>f_emi</th>\n",
              "      <th>lease_term</th>\n",
              "    </tr>\n",
              "  </thead>\n",
              "  <tbody>\n",
              "    <tr>\n",
              "      <th>count</th>\n",
              "      <td>4594.000000</td>\n",
              "      <td>4619.000000</td>\n",
              "      <td>2297.000000</td>\n",
              "      <td>5000.000000</td>\n",
              "      <td>4692.000000</td>\n",
              "      <td>4693.000000</td>\n",
              "      <td>4692.000000</td>\n",
              "      <td>4222.000000</td>\n",
              "      <td>4222.000000</td>\n",
              "      <td>5.000000e+03</td>\n",
              "      <td>5000.000000</td>\n",
              "      <td>4993.00000</td>\n",
              "      <td>4993.000000</td>\n",
              "      <td>4999.000000</td>\n",
              "      <td>4999.000000</td>\n",
              "      <td>4995.000000</td>\n",
              "      <td>4999.000000</td>\n",
              "      <td>4999.000000</td>\n",
              "      <td>4995.000000</td>\n",
              "      <td>15.000000</td>\n",
              "    </tr>\n",
              "    <tr>\n",
              "      <th>mean</th>\n",
              "      <td>49186.595124</td>\n",
              "      <td>50948.341849</td>\n",
              "      <td>74.070091</td>\n",
              "      <td>2020.962000</td>\n",
              "      <td>3.902174</td>\n",
              "      <td>4.440656</td>\n",
              "      <td>6.103367</td>\n",
              "      <td>18.889863</td>\n",
              "      <td>25.292989</td>\n",
              "      <td>1.848744e+06</td>\n",
              "      <td>49571.170000</td>\n",
              "      <td>0.09994</td>\n",
              "      <td>0.001402</td>\n",
              "      <td>0.404903</td>\n",
              "      <td>100.747149</td>\n",
              "      <td>20.795996</td>\n",
              "      <td>404.381276</td>\n",
              "      <td>0.038008</td>\n",
              "      <td>40.377377</td>\n",
              "      <td>53.600000</td>\n",
              "    </tr>\n",
              "    <tr>\n",
              "      <th>std</th>\n",
              "      <td>12526.309207</td>\n",
              "      <td>13839.969995</td>\n",
              "      <td>504.315134</td>\n",
              "      <td>0.783759</td>\n",
              "      <td>1.472511</td>\n",
              "      <td>0.794633</td>\n",
              "      <td>1.503132</td>\n",
              "      <td>4.642740</td>\n",
              "      <td>3.905195</td>\n",
              "      <td>2.593667e+06</td>\n",
              "      <td>28767.324051</td>\n",
              "      <td>0.29995</td>\n",
              "      <td>0.037420</td>\n",
              "      <td>1.472748</td>\n",
              "      <td>663.694957</td>\n",
              "      <td>118.791687</td>\n",
              "      <td>1687.815558</td>\n",
              "      <td>0.859565</td>\n",
              "      <td>159.133558</td>\n",
              "      <td>17.487955</td>\n",
              "    </tr>\n",
              "    <tr>\n",
              "      <th>min</th>\n",
              "      <td>0.000000</td>\n",
              "      <td>1995.000000</td>\n",
              "      <td>0.000000</td>\n",
              "      <td>2000.000000</td>\n",
              "      <td>1.500000</td>\n",
              "      <td>2.000000</td>\n",
              "      <td>3.000000</td>\n",
              "      <td>9.000000</td>\n",
              "      <td>12.000000</td>\n",
              "      <td>1.000123e+06</td>\n",
              "      <td>614.000000</td>\n",
              "      <td>0.00000</td>\n",
              "      <td>0.000000</td>\n",
              "      <td>0.000000</td>\n",
              "      <td>0.000000</td>\n",
              "      <td>0.000000</td>\n",
              "      <td>0.000000</td>\n",
              "      <td>0.000000</td>\n",
              "      <td>0.000000</td>\n",
              "      <td>36.000000</td>\n",
              "    </tr>\n",
              "    <tr>\n",
              "      <th>25%</th>\n",
              "      <td>41526.250000</td>\n",
              "      <td>43565.000000</td>\n",
              "      <td>2.000000</td>\n",
              "      <td>2021.000000</td>\n",
              "      <td>3.000000</td>\n",
              "      <td>4.000000</td>\n",
              "      <td>6.000000</td>\n",
              "      <td>17.000000</td>\n",
              "      <td>23.000000</td>\n",
              "      <td>1.007584e+06</td>\n",
              "      <td>27591.000000</td>\n",
              "      <td>0.00000</td>\n",
              "      <td>0.000000</td>\n",
              "      <td>0.000000</td>\n",
              "      <td>0.000000</td>\n",
              "      <td>0.000000</td>\n",
              "      <td>0.000000</td>\n",
              "      <td>0.000000</td>\n",
              "      <td>0.000000</td>\n",
              "      <td>36.000000</td>\n",
              "    </tr>\n",
              "    <tr>\n",
              "      <th>50%</th>\n",
              "      <td>48440.000000</td>\n",
              "      <td>50070.000000</td>\n",
              "      <td>7.000000</td>\n",
              "      <td>2021.000000</td>\n",
              "      <td>3.600000</td>\n",
              "      <td>5.000000</td>\n",
              "      <td>6.000000</td>\n",
              "      <td>18.000000</td>\n",
              "      <td>25.000000</td>\n",
              "      <td>1.015834e+06</td>\n",
              "      <td>48070.000000</td>\n",
              "      <td>0.00000</td>\n",
              "      <td>0.000000</td>\n",
              "      <td>0.000000</td>\n",
              "      <td>0.000000</td>\n",
              "      <td>0.000000</td>\n",
              "      <td>0.000000</td>\n",
              "      <td>0.000000</td>\n",
              "      <td>0.000000</td>\n",
              "      <td>60.000000</td>\n",
              "    </tr>\n",
              "    <tr>\n",
              "      <th>75%</th>\n",
              "      <td>55465.000000</td>\n",
              "      <td>56805.000000</td>\n",
              "      <td>11.000000</td>\n",
              "      <td>2021.000000</td>\n",
              "      <td>5.700000</td>\n",
              "      <td>5.000000</td>\n",
              "      <td>8.000000</td>\n",
              "      <td>20.000000</td>\n",
              "      <td>26.000000</td>\n",
              "      <td>1.051293e+06</td>\n",
              "      <td>76094.250000</td>\n",
              "      <td>0.00000</td>\n",
              "      <td>0.000000</td>\n",
              "      <td>0.000000</td>\n",
              "      <td>0.000000</td>\n",
              "      <td>0.000000</td>\n",
              "      <td>0.000000</td>\n",
              "      <td>0.000000</td>\n",
              "      <td>0.000000</td>\n",
              "      <td>72.000000</td>\n",
              "    </tr>\n",
              "    <tr>\n",
              "      <th>max</th>\n",
              "      <td>131385.000000</td>\n",
              "      <td>341590.000000</td>\n",
              "      <td>9253.000000</td>\n",
              "      <td>2022.000000</td>\n",
              "      <td>7.300000</td>\n",
              "      <td>5.000000</td>\n",
              "      <td>10.000000</td>\n",
              "      <td>55.000000</td>\n",
              "      <td>49.000000</td>\n",
              "      <td>1.004401e+07</td>\n",
              "      <td>99701.000000</td>\n",
              "      <td>1.00000</td>\n",
              "      <td>1.000000</td>\n",
              "      <td>9.150000</td>\n",
              "      <td>16233.000000</td>\n",
              "      <td>1295.000000</td>\n",
              "      <td>20232.000000</td>\n",
              "      <td>20.000000</td>\n",
              "      <td>1611.000000</td>\n",
              "      <td>72.000000</td>\n",
              "    </tr>\n",
              "  </tbody>\n",
              "</table>\n",
              "</div>\n",
              "      <button class=\"colab-df-convert\" onclick=\"convertToInteractive('df-8be85552-eb4c-48b7-9063-541da4f36b28')\"\n",
              "              title=\"Convert this dataframe to an interactive table.\"\n",
              "              style=\"display:none;\">\n",
              "        \n",
              "  <svg xmlns=\"http://www.w3.org/2000/svg\" height=\"24px\"viewBox=\"0 0 24 24\"\n",
              "       width=\"24px\">\n",
              "    <path d=\"M0 0h24v24H0V0z\" fill=\"none\"/>\n",
              "    <path d=\"M18.56 5.44l.94 2.06.94-2.06 2.06-.94-2.06-.94-.94-2.06-.94 2.06-2.06.94zm-11 1L8.5 8.5l.94-2.06 2.06-.94-2.06-.94L8.5 2.5l-.94 2.06-2.06.94zm10 10l.94 2.06.94-2.06 2.06-.94-2.06-.94-.94-2.06-.94 2.06-2.06.94z\"/><path d=\"M17.41 7.96l-1.37-1.37c-.4-.4-.92-.59-1.43-.59-.52 0-1.04.2-1.43.59L10.3 9.45l-7.72 7.72c-.78.78-.78 2.05 0 2.83L4 21.41c.39.39.9.59 1.41.59.51 0 1.02-.2 1.41-.59l7.78-7.78 2.81-2.81c.8-.78.8-2.07 0-2.86zM5.41 20L4 18.59l7.72-7.72 1.47 1.35L5.41 20z\"/>\n",
              "  </svg>\n",
              "      </button>\n",
              "      \n",
              "  <style>\n",
              "    .colab-df-container {\n",
              "      display:flex;\n",
              "      flex-wrap:wrap;\n",
              "      gap: 12px;\n",
              "    }\n",
              "\n",
              "    .colab-df-convert {\n",
              "      background-color: #E8F0FE;\n",
              "      border: none;\n",
              "      border-radius: 50%;\n",
              "      cursor: pointer;\n",
              "      display: none;\n",
              "      fill: #1967D2;\n",
              "      height: 32px;\n",
              "      padding: 0 0 0 0;\n",
              "      width: 32px;\n",
              "    }\n",
              "\n",
              "    .colab-df-convert:hover {\n",
              "      background-color: #E2EBFA;\n",
              "      box-shadow: 0px 1px 2px rgba(60, 64, 67, 0.3), 0px 1px 3px 1px rgba(60, 64, 67, 0.15);\n",
              "      fill: #174EA6;\n",
              "    }\n",
              "\n",
              "    [theme=dark] .colab-df-convert {\n",
              "      background-color: #3B4455;\n",
              "      fill: #D2E3FC;\n",
              "    }\n",
              "\n",
              "    [theme=dark] .colab-df-convert:hover {\n",
              "      background-color: #434B5C;\n",
              "      box-shadow: 0px 1px 3px 1px rgba(0, 0, 0, 0.15);\n",
              "      filter: drop-shadow(0px 1px 2px rgba(0, 0, 0, 0.3));\n",
              "      fill: #FFFFFF;\n",
              "    }\n",
              "  </style>\n",
              "\n",
              "      <script>\n",
              "        const buttonEl =\n",
              "          document.querySelector('#df-8be85552-eb4c-48b7-9063-541da4f36b28 button.colab-df-convert');\n",
              "        buttonEl.style.display =\n",
              "          google.colab.kernel.accessAllowed ? 'block' : 'none';\n",
              "\n",
              "        async function convertToInteractive(key) {\n",
              "          const element = document.querySelector('#df-8be85552-eb4c-48b7-9063-541da4f36b28');\n",
              "          const dataTable =\n",
              "            await google.colab.kernel.invokeFunction('convertToInteractive',\n",
              "                                                     [key], {});\n",
              "          if (!dataTable) return;\n",
              "\n",
              "          const docLinkHtml = 'Like what you see? Visit the ' +\n",
              "            '<a target=\"_blank\" href=https://colab.research.google.com/notebooks/data_table.ipynb>data table notebook</a>'\n",
              "            + ' to learn more about interactive tables.';\n",
              "          element.innerHTML = '';\n",
              "          dataTable['output_type'] = 'display_data';\n",
              "          await google.colab.output.renderOutput(dataTable, element);\n",
              "          const docLink = document.createElement('div');\n",
              "          docLink.innerHTML = docLinkHtml;\n",
              "          element.appendChild(docLink);\n",
              "        }\n",
              "      </script>\n",
              "    </div>\n",
              "  </div>\n",
              "  "
            ]
          },
          "metadata": {},
          "execution_count": 10
        }
      ]
    },
    {
      "cell_type": "code",
      "source": [
        "len(new_cars.describe().columns) # numeric fields count"
      ],
      "metadata": {
        "colab": {
          "base_uri": "https://localhost:8080/"
        },
        "id": "nV1uP568Yj52",
        "outputId": "629a6ae5-ce01-489d-e54a-4e12850f9d37"
      },
      "execution_count": null,
      "outputs": [
        {
          "output_type": "execute_result",
          "data": {
            "text/plain": [
              "20"
            ]
          },
          "metadata": {},
          "execution_count": 43
        }
      ]
    },
    {
      "cell_type": "code",
      "source": [
        "print(new_cars.index)"
      ],
      "metadata": {
        "colab": {
          "base_uri": "https://localhost:8080/"
        },
        "id": "HCEHEqAlX85B",
        "outputId": "8a209f5e-1e0b-468b-d231-4b6b8a04debf"
      },
      "execution_count": null,
      "outputs": [
        {
          "output_type": "stream",
          "name": "stdout",
          "text": [
            "RangeIndex(start=0, stop=5000, step=1)\n"
          ]
        }
      ]
    },
    {
      "cell_type": "code",
      "source": [
        "print(new_cars.info())"
      ],
      "metadata": {
        "colab": {
          "base_uri": "https://localhost:8080/"
        },
        "id": "ts1VO49jXpYb",
        "outputId": "72bade2a-fc3f-4af4-8b01-964dce50675b"
      },
      "execution_count": null,
      "outputs": [
        {
          "output_type": "stream",
          "name": "stdout",
          "text": [
            "<class 'pandas.core.frame.DataFrame'>\n",
            "RangeIndex: 5000 entries, 0 to 4999\n",
            "Data columns (total 47 columns):\n",
            " #   Column               Non-Null Count  Dtype  \n",
            "---  ------               --------------  -----  \n",
            " 0   id                   5000 non-null   object \n",
            " 1   vin                  5000 non-null   object \n",
            " 2   heading              5000 non-null   object \n",
            " 3   price                4594 non-null   float64\n",
            " 4   msrp                 4619 non-null   float64\n",
            " 5   miles                2297 non-null   float64\n",
            " 6   year                 5000 non-null   int64  \n",
            " 7   make                 5000 non-null   object \n",
            " 8   model                4952 non-null   object \n",
            " 9   trim                 4966 non-null   object \n",
            " 10  vehicle_type         4725 non-null   object \n",
            " 11  body_type            4732 non-null   object \n",
            " 12  drivetrain           4807 non-null   object \n",
            " 13  fuel_type            4693 non-null   object \n",
            " 14  engine               4693 non-null   object \n",
            " 15  engine_size          4692 non-null   float64\n",
            " 16  transmission         4773 non-null   object \n",
            " 17  doors                4693 non-null   float64\n",
            " 18  cylinders            4692 non-null   float64\n",
            " 19  city_mpg             4222 non-null   float64\n",
            " 20  highway_mpg          4222 non-null   float64\n",
            " 21  interior_color       4125 non-null   object \n",
            " 22  exterior_color       4950 non-null   object \n",
            " 23  base_exterior_color  4844 non-null   object \n",
            " 24  base_interior_color  3744 non-null   object \n",
            " 25  scraped_at           5000 non-null   object \n",
            " 26  status_date          5000 non-null   object \n",
            " 27  first_scraped_at     5000 non-null   object \n",
            " 28  dealer_id            5000 non-null   int64  \n",
            " 29  source               5000 non-null   object \n",
            " 30  seller_name          5000 non-null   object \n",
            " 31  city                 5000 non-null   object \n",
            " 32  state                5000 non-null   object \n",
            " 33  zip                  5000 non-null   int64  \n",
            " 34  country              4997 non-null   object \n",
            " 35  seller_type          5000 non-null   object \n",
            " 36  listing_type         5000 non-null   object \n",
            " 37  inventory_type       5000 non-null   object \n",
            " 38  carfax_1_owner       4993 non-null   float64\n",
            " 39  carfax_clean_title   4993 non-null   float64\n",
            " 40  loan_apr             4999 non-null   float64\n",
            " 41  l_down_pay           4999 non-null   float64\n",
            " 42  l_emi                4995 non-null   float64\n",
            " 43  f_down_pay           4999 non-null   float64\n",
            " 44  f_down_pay_per       4999 non-null   float64\n",
            " 45  f_emi                4995 non-null   float64\n",
            " 46  lease_term           15 non-null     float64\n",
            "dtypes: float64(17), int64(3), object(27)\n",
            "memory usage: 1.8+ MB\n",
            "None\n"
          ]
        }
      ]
    },
    {
      "cell_type": "code",
      "source": [
        "new_cars.shape"
      ],
      "metadata": {
        "colab": {
          "base_uri": "https://localhost:8080/"
        },
        "id": "aV2XWdKSy8Ea",
        "outputId": "5ab0b050-5d05-4ccb-a4f9-cfe56e95dabd"
      },
      "execution_count": null,
      "outputs": [
        {
          "output_type": "execute_result",
          "data": {
            "text/plain": [
              "(5000, 47)"
            ]
          },
          "metadata": {},
          "execution_count": 59
        }
      ]
    },
    {
      "cell_type": "code",
      "source": [
        "new_cars.index"
      ],
      "metadata": {
        "colab": {
          "base_uri": "https://localhost:8080/"
        },
        "id": "nIG5DKEny8Gp",
        "outputId": "f0252cba-0de7-4d7d-a518-27f0c6e4c423"
      },
      "execution_count": null,
      "outputs": [
        {
          "output_type": "execute_result",
          "data": {
            "text/plain": [
              "RangeIndex(start=0, stop=5000, step=1)"
            ]
          },
          "metadata": {},
          "execution_count": 60
        }
      ]
    },
    {
      "cell_type": "code",
      "source": [
        "new_cars['price']"
      ],
      "metadata": {
        "colab": {
          "base_uri": "https://localhost:8080/"
        },
        "id": "UzIrQfT04lzw",
        "outputId": "4507d2af-5070-4215-e352-aa78f216a9c3"
      },
      "execution_count": null,
      "outputs": [
        {
          "output_type": "execute_result",
          "data": {
            "text/plain": [
              "0       22900.0\n",
              "1       27645.0\n",
              "2       28905.0\n",
              "3       29625.0\n",
              "4       29525.0\n",
              "         ...   \n",
              "4995    65960.0\n",
              "4996    58585.0\n",
              "4997    58375.0\n",
              "4998        NaN\n",
              "4999    43030.0\n",
              "Name: price, Length: 5000, dtype: float64"
            ]
          },
          "metadata": {},
          "execution_count": 61
        }
      ]
    },
    {
      "cell_type": "code",
      "source": [
        "make = new_cars['make']\n",
        "make.head()"
      ],
      "metadata": {
        "colab": {
          "base_uri": "https://localhost:8080/"
        },
        "id": "iXtXBMnF4t7P",
        "outputId": "4b112f99-c973-43a5-e9ef-4e4c39a734a5"
      },
      "execution_count": null,
      "outputs": [
        {
          "output_type": "execute_result",
          "data": {
            "text/plain": [
              "0    Nissan\n",
              "1     Acura\n",
              "2     Acura\n",
              "3     Acura\n",
              "4     Acura\n",
              "Name: make, dtype: object"
            ]
          },
          "metadata": {},
          "execution_count": 68
        }
      ]
    },
    {
      "cell_type": "code",
      "source": [
        "make.value_counts().sort_index()"
      ],
      "metadata": {
        "colab": {
          "base_uri": "https://localhost:8080/"
        },
        "id": "eev7Va3o5ivd",
        "outputId": "7e80cbb1-8c83-41c0-854e-a016ec40eaf9"
      },
      "execution_count": null,
      "outputs": [
        {
          "output_type": "execute_result",
          "data": {
            "text/plain": [
              "Acura         76\n",
              "Chrysler       5\n",
              "Dodge        345\n",
              "Ford        1750\n",
              "Honda         32\n",
              "Hyundai        4\n",
              "Jeep        1867\n",
              "Nissan         7\n",
              "RAM          911\n",
              "Subaru         3\n",
              "Name: make, dtype: int64"
            ]
          },
          "metadata": {},
          "execution_count": 71
        }
      ]
    },
    {
      "cell_type": "code",
      "source": [
        "make.describe()"
      ],
      "metadata": {
        "colab": {
          "base_uri": "https://localhost:8080/"
        },
        "id": "ZJuAKFfM6Fbl",
        "outputId": "bfb2a913-9555-4aeb-99eb-93d2ed181879"
      },
      "execution_count": null,
      "outputs": [
        {
          "output_type": "execute_result",
          "data": {
            "text/plain": [
              "count     5000\n",
              "unique      10\n",
              "top       Jeep\n",
              "freq      1867\n",
              "Name: make, dtype: object"
            ]
          },
          "metadata": {},
          "execution_count": 72
        }
      ]
    },
    {
      "cell_type": "code",
      "source": [
        "new_cars.isna().any()"
      ],
      "metadata": {
        "colab": {
          "base_uri": "https://localhost:8080/"
        },
        "id": "Ofvpru-Ki6yC",
        "outputId": "c0c4c36a-88e0-46c6-ec39-a239f404de7d"
      },
      "execution_count": null,
      "outputs": [
        {
          "output_type": "execute_result",
          "data": {
            "text/plain": [
              "id                     False\n",
              "vin                    False\n",
              "heading                False\n",
              "price                   True\n",
              "msrp                    True\n",
              "miles                   True\n",
              "year                   False\n",
              "make                   False\n",
              "model                   True\n",
              "trim                    True\n",
              "vehicle_type            True\n",
              "body_type               True\n",
              "drivetrain              True\n",
              "fuel_type               True\n",
              "engine                  True\n",
              "engine_size             True\n",
              "transmission            True\n",
              "doors                   True\n",
              "cylinders               True\n",
              "city_mpg                True\n",
              "highway_mpg             True\n",
              "interior_color          True\n",
              "exterior_color          True\n",
              "base_exterior_color     True\n",
              "base_interior_color     True\n",
              "scraped_at             False\n",
              "status_date            False\n",
              "first_scraped_at       False\n",
              "dealer_id              False\n",
              "source                 False\n",
              "seller_name            False\n",
              "city                   False\n",
              "state                  False\n",
              "zip                    False\n",
              "country                 True\n",
              "seller_type            False\n",
              "listing_type           False\n",
              "inventory_type         False\n",
              "carfax_1_owner          True\n",
              "carfax_clean_title      True\n",
              "loan_apr                True\n",
              "l_down_pay              True\n",
              "l_emi                   True\n",
              "f_down_pay              True\n",
              "f_down_pay_per          True\n",
              "f_emi                   True\n",
              "lease_term              True\n",
              "dtype: bool"
            ]
          },
          "metadata": {},
          "execution_count": 13
        }
      ]
    },
    {
      "cell_type": "code",
      "source": [
        "new_cars.groupby(\"make\")[\"price\"].sum()"
      ],
      "metadata": {
        "colab": {
          "base_uri": "https://localhost:8080/"
        },
        "id": "edWoyAwPkiXJ",
        "outputId": "a10a7763-6017-4535-c91c-850aa831c632"
      },
      "execution_count": null,
      "outputs": [
        {
          "output_type": "execute_result",
          "data": {
            "text/plain": [
              "make\n",
              "Acura        3315740.0\n",
              "Chrysler      205735.0\n",
              "Dodge       17536318.0\n",
              "Ford        74502360.0\n",
              "Honda         703531.0\n",
              "Hyundai       124560.0\n",
              "Jeep        87050634.0\n",
              "Nissan         93400.0\n",
              "RAM         42366700.0\n",
              "Subaru         64240.0\n",
              "Name: price, dtype: float64"
            ]
          },
          "metadata": {},
          "execution_count": 14
        }
      ]
    },
    {
      "cell_type": "code",
      "source": [
        "new_cars.pivot_table(values = \"price\", index = [\"make\", \"model\"], columns = \"fuel_type\").sum()"
      ],
      "metadata": {
        "colab": {
          "base_uri": "https://localhost:8080/"
        },
        "id": "LRyT6WddkiZZ",
        "outputId": "d9cb753e-0e91-4b04-8990-8811bd3409ac"
      },
      "execution_count": null,
      "outputs": [
        {
          "output_type": "execute_result",
          "data": {
            "text/plain": [
              "fuel_type\n",
              "Diesel                        5.697079e+05\n",
              "E85 / Unleaded                5.315152e+05\n",
              "Electric                      5.885615e+04\n",
              "Electric / Unleaded           2.897073e+05\n",
              "Premium Unleaded              8.426563e+05\n",
              "Premium Unleaded; Unleaded    3.691900e+04\n",
              "Unleaded                      1.225972e+06\n",
              "Unleaded / Unleaded           3.208309e+04\n",
              "dtype: float64"
            ]
          },
          "metadata": {},
          "execution_count": 17
        }
      ]
    },
    {
      "cell_type": "code",
      "source": [
        "new_cars[\"make\"].value_counts(sort= True, normalize = True) #proportion of each make (find proportion of each model in each make)"
      ],
      "metadata": {
        "colab": {
          "base_uri": "https://localhost:8080/"
        },
        "id": "2pv_XY7clmNJ",
        "outputId": "9ee63bed-1d4e-486e-9790-caa6267a67e9"
      },
      "execution_count": null,
      "outputs": [
        {
          "output_type": "execute_result",
          "data": {
            "text/plain": [
              "Jeep        0.3734\n",
              "Ford        0.3500\n",
              "RAM         0.1822\n",
              "Dodge       0.0690\n",
              "Acura       0.0152\n",
              "Honda       0.0064\n",
              "Nissan      0.0014\n",
              "Chrysler    0.0010\n",
              "Hyundai     0.0008\n",
              "Subaru      0.0006\n",
              "Name: make, dtype: float64"
            ]
          },
          "metadata": {},
          "execution_count": 19
        }
      ]
    },
    {
      "cell_type": "code",
      "source": [
        "new_cars[new_cars['price']== new_cars['price'] == max()] # find the max price"
      ],
      "metadata": {
        "colab": {
          "base_uri": "https://localhost:8080/",
          "height": 299
        },
        "id": "_sXrTsaBmXi4",
        "outputId": "eaab0080-abe5-437d-cf53-f33e6df6e57c"
      },
      "execution_count": null,
      "outputs": [
        {
          "output_type": "error",
          "ename": "ValueError",
          "evalue": "ignored",
          "traceback": [
            "\u001b[0;31m---------------------------------------------------------------------------\u001b[0m",
            "\u001b[0;31mValueError\u001b[0m                                Traceback (most recent call last)",
            "\u001b[0;32m<ipython-input-21-993fd503c883>\u001b[0m in \u001b[0;36m<module>\u001b[0;34m\u001b[0m\n\u001b[0;32m----> 1\u001b[0;31m \u001b[0mnew_cars\u001b[0m\u001b[0;34m[\u001b[0m\u001b[0mnew_cars\u001b[0m\u001b[0;34m[\u001b[0m\u001b[0;34m'price'\u001b[0m\u001b[0;34m]\u001b[0m\u001b[0;34m==\u001b[0m \u001b[0mnew_cars\u001b[0m\u001b[0;34m[\u001b[0m\u001b[0;34m'price'\u001b[0m\u001b[0;34m]\u001b[0m \u001b[0;34m==\u001b[0m \u001b[0mmax\u001b[0m\u001b[0;34m(\u001b[0m\u001b[0;34m)\u001b[0m\u001b[0;34m]\u001b[0m\u001b[0;34m\u001b[0m\u001b[0;34m\u001b[0m\u001b[0m\n\u001b[0m",
            "\u001b[0;32m/usr/local/lib/python3.7/dist-packages/pandas/core/generic.py\u001b[0m in \u001b[0;36m__nonzero__\u001b[0;34m(self)\u001b[0m\n\u001b[1;32m   1536\u001b[0m     \u001b[0;32mdef\u001b[0m \u001b[0m__nonzero__\u001b[0m\u001b[0;34m(\u001b[0m\u001b[0mself\u001b[0m\u001b[0;34m)\u001b[0m\u001b[0;34m:\u001b[0m\u001b[0;34m\u001b[0m\u001b[0;34m\u001b[0m\u001b[0m\n\u001b[1;32m   1537\u001b[0m         raise ValueError(\n\u001b[0;32m-> 1538\u001b[0;31m             \u001b[0;34mf\"The truth value of a {type(self).__name__} is ambiguous. \"\u001b[0m\u001b[0;34m\u001b[0m\u001b[0;34m\u001b[0m\u001b[0m\n\u001b[0m\u001b[1;32m   1539\u001b[0m             \u001b[0;34m\"Use a.empty, a.bool(), a.item(), a.any() or a.all().\"\u001b[0m\u001b[0;34m\u001b[0m\u001b[0;34m\u001b[0m\u001b[0m\n\u001b[1;32m   1540\u001b[0m         )\n",
            "\u001b[0;31mValueError\u001b[0m: The truth value of a Series is ambiguous. Use a.empty, a.bool(), a.item(), a.any() or a.all()."
          ]
        }
      ]
    },
    {
      "cell_type": "code",
      "source": [
        "avg = np.mean(new_cars['price'])\n",
        "print('Average: ' + str(avg) )"
      ],
      "metadata": {
        "colab": {
          "base_uri": "https://localhost:8080/"
        },
        "id": "yaMbGCQxmXl3",
        "outputId": "2df9a9fb-55a3-4d3b-87c2-6e13b6a5710c"
      },
      "execution_count": null,
      "outputs": [
        {
          "output_type": "stream",
          "name": "stdout",
          "text": [
            "Average: 49186.595124074884\n"
          ]
        }
      ]
    },
    {
      "cell_type": "code",
      "source": [
        "corr = np.corrcoef(new_cars('price'), new_cars('mpg')) # Sor, niye calismiyor"
      ],
      "metadata": {
        "colab": {
          "base_uri": "https://localhost:8080/",
          "height": 171
        },
        "id": "MemDrcmKqfDl",
        "outputId": "4ef2defe-7abc-4949-9f58-8aedfe8ba583"
      },
      "execution_count": null,
      "outputs": [
        {
          "output_type": "error",
          "ename": "TypeError",
          "evalue": "ignored",
          "traceback": [
            "\u001b[0;31m---------------------------------------------------------------------------\u001b[0m",
            "\u001b[0;31mTypeError\u001b[0m                                 Traceback (most recent call last)",
            "\u001b[0;32m<ipython-input-33-ad39884e2e0a>\u001b[0m in \u001b[0;36m<module>\u001b[0;34m\u001b[0m\n\u001b[0;32m----> 1\u001b[0;31m \u001b[0mcorr\u001b[0m \u001b[0;34m=\u001b[0m \u001b[0mnp\u001b[0m\u001b[0;34m.\u001b[0m\u001b[0mcorrcoef\u001b[0m\u001b[0;34m(\u001b[0m\u001b[0mnew_cars\u001b[0m\u001b[0;34m(\u001b[0m\u001b[0;34m'price'\u001b[0m\u001b[0;34m)\u001b[0m\u001b[0;34m,\u001b[0m \u001b[0mnew_cars\u001b[0m\u001b[0;34m(\u001b[0m\u001b[0;34m'mpg'\u001b[0m\u001b[0;34m)\u001b[0m\u001b[0;34m)\u001b[0m\u001b[0;34m\u001b[0m\u001b[0;34m\u001b[0m\u001b[0m\n\u001b[0m",
            "\u001b[0;31mTypeError\u001b[0m: 'DataFrame' object is not callable"
          ]
        }
      ]
    },
    {
      "cell_type": "code",
      "source": [
        "new_cars['city_mpg'].value_counts(sort = True) #contrast mpg"
      ],
      "metadata": {
        "colab": {
          "base_uri": "https://localhost:8080/"
        },
        "id": "Lm0LYdVjvT1p",
        "outputId": "212eafe4-7e3e-46ca-fb8c-82c3880240dd"
      },
      "execution_count": null,
      "outputs": [
        {
          "output_type": "execute_result",
          "data": {
            "text/plain": [
              "18.0    1179\n",
              "17.0     625\n",
              "16.0     507\n",
              "19.0     436\n",
              "21.0     320\n",
              "20.0     261\n",
              "13.0     171\n",
              "22.0     134\n",
              "26.0     128\n",
              "28.0     110\n",
              "27.0      68\n",
              "14.0      62\n",
              "23.0      51\n",
              "15.0      47\n",
              "10.0      31\n",
              "12.0      24\n",
              "55.0      19\n",
              "43.0      17\n",
              "51.0       8\n",
              "44.0       6\n",
              "11.0       5\n",
              "24.0       4\n",
              "25.0       3\n",
              "29.0       2\n",
              "9.0        2\n",
              "31.0       1\n",
              "30.0       1\n",
              "Name: city_mpg, dtype: int64"
            ]
          },
          "metadata": {},
          "execution_count": 37
        }
      ]
    },
    {
      "cell_type": "code",
      "source": [
        "np.corrcoef([new_cars.loc[:,['citr_mpg']], new_cars.loc[:,['highway_mpg']]) #why?"
      ],
      "metadata": {
        "colab": {
          "base_uri": "https://localhost:8080/",
          "height": 135
        },
        "id": "AGSDWdhMv84e",
        "outputId": "c728f91d-bbf5-48b8-9e43-6457b986adf1"
      },
      "execution_count": null,
      "outputs": [
        {
          "output_type": "error",
          "ename": "SyntaxError",
          "evalue": "ignored",
          "traceback": [
            "\u001b[0;36m  File \u001b[0;32m\"<ipython-input-43-82f445365c89>\"\u001b[0;36m, line \u001b[0;32m1\u001b[0m\n\u001b[0;31m    np.corrcoef([new_cars.loc[:,['citr_mpg']], new_cars.loc[:,['highway_mpg']])\u001b[0m\n\u001b[0m                                                                              ^\u001b[0m\n\u001b[0;31mSyntaxError\u001b[0m\u001b[0;31m:\u001b[0m invalid syntax\n"
          ]
        }
      ]
    },
    {
      "cell_type": "code",
      "source": [
        "new_cars['price'].mean()"
      ],
      "metadata": {
        "colab": {
          "base_uri": "https://localhost:8080/"
        },
        "id": "qS7wJfLyz9po",
        "outputId": "7671a11e-a0ff-4e93-ce2d-ac360991852f"
      },
      "execution_count": null,
      "outputs": [
        {
          "output_type": "execute_result",
          "data": {
            "text/plain": [
              "49186.595124074884"
            ]
          },
          "metadata": {},
          "execution_count": 46
        }
      ]
    },
    {
      "cell_type": "code",
      "source": [
        "price = new_cars['price'].replace()"
      ],
      "metadata": {
        "id": "0sJUnIJY0BuW"
      },
      "execution_count": null,
      "outputs": []
    },
    {
      "cell_type": "code",
      "source": [
        "new_cars['price'].dropna ().plot(kind = \"hist\", bins = 100)"
      ],
      "metadata": {
        "colab": {
          "base_uri": "https://localhost:8080/",
          "height": 283
        },
        "id": "IMAhFONr0W-U",
        "outputId": "28e506be-c970-4183-b8fd-d8cfdc6eee00"
      },
      "execution_count": null,
      "outputs": [
        {
          "output_type": "execute_result",
          "data": {
            "text/plain": [
              "<matplotlib.axes._subplots.AxesSubplot at 0x7fc8f832ab10>"
            ]
          },
          "metadata": {},
          "execution_count": 63
        },
        {
          "output_type": "display_data",
          "data": {
            "text/plain": [
              "<Figure size 432x288 with 1 Axes>"
            ],
            "image/png": "[encoded data removed]"
          },
          "metadata": {
            "needs_background": "light"
          }
        }
      ]
    },
    {
      "cell_type": "code",
      "source": [
        "plt.hist(new_cars['price'].dropna(), bins = 100)"
      ],
      "metadata": {
        "colab": {
          "base_uri": "https://localhost:8080/",
          "height": 776
        },
        "id": "3koUmI9v4inz",
        "outputId": "ac4d6662-78c3-40f8-c9df-bdbcd6f64030"
      },
      "execution_count": null,
      "outputs": [
        {
          "output_type": "execute_result",
          "data": {
            "text/plain": [
              "(array([  4.,   0.,   0.,   0.,   0.,   0.,   0.,   0.,   0.,   0.,   0.,\n",
              "          1.,   0.,   0.,   0.,  10.,   3.,   2.,  11.,  26.,  41.,  62.,\n",
              "         82.,  73.,  74.,  75.,  97.,  72., 121., 143., 152., 162., 205.,\n",
              "        218., 220., 220., 270., 241., 276., 251., 169., 133., 133., 125.,\n",
              "        109., 140., 119.,  67.,  60.,  44.,  46.,  30.,  41.,  32.,  24.,\n",
              "         18.,  21.,  17.,  13.,  19.,  14.,  20.,  17.,  11.,   5.,   5.,\n",
              "          5.,   2.,   5.,   5.,   2.,   3.,   5.,   4.,   2.,   2.,   1.,\n",
              "          5.,   0.,   1.,   2.,   0.,   0.,   0.,   1.,   1.,   1.,   0.,\n",
              "          1.,   0.,   0.,   0.,   0.,   0.,   0.,   0.,   1.,   0.,   0.,\n",
              "          1.]),\n",
              " array([     0.  ,   1313.85,   2627.7 ,   3941.55,   5255.4 ,   6569.25,\n",
              "          7883.1 ,   9196.95,  10510.8 ,  11824.65,  13138.5 ,  14452.35,\n",
              "         15766.2 ,  17080.05,  18393.9 ,  19707.75,  21021.6 ,  22335.45,\n",
              "         23649.3 ,  24963.15,  26277.  ,  27590.85,  28904.7 ,  30218.55,\n",
              "         31532.4 ,  32846.25,  34160.1 ,  35473.95,  36787.8 ,  38101.65,\n",
              "         39415.5 ,  40729.35,  42043.2 ,  43357.05,  44670.9 ,  45984.75,\n",
              "         47298.6 ,  48612.45,  49926.3 ,  51240.15,  52554.  ,  53867.85,\n",
              "         55181.7 ,  56495.55,  57809.4 ,  59123.25,  60437.1 ,  61750.95,\n",
              "         63064.8 ,  64378.65,  65692.5 ,  67006.35,  68320.2 ,  69634.05,\n",
              "         70947.9 ,  72261.75,  73575.6 ,  74889.45,  76203.3 ,  77517.15,\n",
              "         78831.  ,  80144.85,  81458.7 ,  82772.55,  84086.4 ,  85400.25,\n",
              "         86714.1 ,  88027.95,  89341.8 ,  90655.65,  91969.5 ,  93283.35,\n",
              "         94597.2 ,  95911.05,  97224.9 ,  98538.75,  99852.6 , 101166.45,\n",
              "        102480.3 , 103794.15, 105108.  , 106421.85, 107735.7 , 109049.55,\n",
              "        110363.4 , 111677.25, 112991.1 , 114304.95, 115618.8 , 116932.65,\n",
              "        118246.5 , 119560.35, 120874.2 , 122188.05, 123501.9 , 124815.75,\n",
              "        126129.6 , 127443.45, 128757.3 , 130071.15, 131385.  ]),\n",
              " <a list of 100 Patch objects>)"
            ]
          },
          "metadata": {},
          "execution_count": 64
        },
        {
          "output_type": "display_data",
          "data": {
            "text/plain": [
              "<Figure size 432x288 with 1 Axes>"
            ],
            "image/png": "[encoded data removed]"
          },
          "metadata": {
            "needs_background": "light"
          }
        }
      ]
    },
    {
      "cell_type": "code",
      "source": [
        "new_cars['price'].isna().sum() # 406 car deosnt have a value\n",
        "price_nan = new_cars['make'].isna()\n",
        "price_nan.head()"
      ],
      "metadata": {
        "colab": {
          "base_uri": "https://localhost:8080/"
        },
        "id": "IlvFP0r4UKI5",
        "outputId": "e8a18101-08aa-46dc-ad0c-1ece33c05a62"
      },
      "execution_count": null,
      "outputs": [
        {
          "output_type": "execute_result",
          "data": {
            "text/plain": [
              "0    False\n",
              "1    False\n",
              "2    False\n",
              "3    False\n",
              "4    False\n",
              "Name: make, dtype: bool"
            ]
          },
          "metadata": {},
          "execution_count": 80
        }
      ]
    },
    {
      "cell_type": "code",
      "source": [
        "for x, y in enumerate(price_nan): #indexes of NAN price\n",
        "  if y == 'True':\n",
        "    print(x)"
      ],
      "metadata": {
        "colab": {
          "base_uri": "https://localhost:8080/"
        },
        "id": "EfL0ZkBCUu6P",
        "outputId": "bc31bd1d-2a6a-449a-c168-dd6e8ec22dec"
      },
      "execution_count": null,
      "outputs": [
        {
          "output_type": "execute_result",
          "data": {
            "text/plain": [
              "[]"
            ]
          },
          "metadata": {},
          "execution_count": 82
        }
      ]
    },
    {
      "cell_type": "markdown",
      "source": [
        "Distribution for Make"
      ],
      "metadata": {
        "id": "7Kv1kNXRt_bp"
      }
    },
    {
      "cell_type": "code",
      "source": [
        "make = new_cars['make']\n",
        "plt.hist(make.dropna(), label = 'Make')\n",
        "plt.show()"
      ],
      "metadata": {
        "colab": {
          "base_uri": "https://localhost:8080/",
          "height": 265
        },
        "id": "lRXdOcRSuDxI",
        "outputId": "6226b470-156b-42a9-8f28-0b2b8227ed0a"
      },
      "execution_count": null,
      "outputs": [
        {
          "output_type": "display_data",
          "data": {
            "text/plain": [
              "<Figure size 432x288 with 1 Axes>"
            ],
            "image/png": "[encoded data removed]"
          },
          "metadata": {
            "needs_background": "light"
          }
        }
      ]
    },
    {
      "cell_type": "markdown",
      "source": [
        "PMF - Probability Mass Function( unq values of the dataset)"
      ],
      "metadata": {
        "id": "t1MVWf2ouY1E"
      }
    },
    {
      "cell_type": "code",
      "source": [
        "pmf_make Pmf(make, normalize = False)"
      ],
      "metadata": {
        "colab": {
          "base_uri": "https://localhost:8080/",
          "height": 135
        },
        "id": "74TBfsy1uoXk",
        "outputId": "18d27d8f-5d62-4359-882d-f783e640947f"
      },
      "execution_count": null,
      "outputs": [
        {
          "output_type": "error",
          "ename": "SyntaxError",
          "evalue": "ignored",
          "traceback": [
            "\u001b[0;36m  File \u001b[0;32m\"<ipython-input-85-4bda38668517>\"\u001b[0;36m, line \u001b[0;32m1\u001b[0m\n\u001b[0;31m    pmf_make Pmf(make, normalize = False)\u001b[0m\n\u001b[0m               ^\u001b[0m\n\u001b[0;31mSyntaxError\u001b[0m\u001b[0;31m:\u001b[0m invalid syntax\n"
          ]
        }
      ]
    }
  ]
}