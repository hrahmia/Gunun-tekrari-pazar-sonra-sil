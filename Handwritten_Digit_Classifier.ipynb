{
  "nbformat": 4,
  "nbformat_minor": 0,
  "metadata": {
    "kernelspec": {
      "display_name": "Python 3",
      "language": "python",
      "name": "python3"
    },
    "language_info": {
      "codemirror_mode": {
        "name": "ipython",
        "version": 3
      },
      "file_extension": ".py",
      "mimetype": "text/x-python",
      "name": "python",
      "nbconvert_exporter": "python",
      "pygments_lexer": "ipython3",
      "version": "3.6.5"
    },
    "colab": {
      "provenance": [],
      "collapsed_sections": [
        "2u-hfaHC-6qb",
        "dxNd2jV5-6qg",
        "DId95CJ_-6rY"
      ],
      "toc_visible": true,
      "include_colab_link": true
    },
    "accelerator": "GPU"
  },
  "cells": [
    {
      "cell_type": "markdown",
      "metadata": {
        "id": "view-in-github",
        "colab_type": "text"
      },
      "source": [
        "<a href=\"https://colab.research.google.com/github/hrahmia/Gunun-tekrari-pazar-sonra-sil/blob/master/Handwritten_Digit_Classifier.ipynb\" target=\"_parent\"><img src=\"https://colab.research.google.com/assets/colab-badge.svg\" alt=\"Open In Colab\"/></a>"
      ]
    },
    {
      "cell_type": "markdown",
      "metadata": {
        "id": "Whf_8TEO-6qX"
      },
      "source": [
        "\n",
        "## Handwritten Digit Classifier Using the MNIST Dataset"
      ]
    },
    {
      "cell_type": "markdown",
      "metadata": {
        "id": "32AXUOrLxvoD"
      },
      "source": [
        "Useful references and sources:\n",
        "\n",
        "- https://www.tensorflow.org/datasets/catalog/mnist\n",
        "\n",
        "- https://en.wikipedia.org/wiki/MNIST_database \n",
        "\n",
        "- https://keras.io/examples/vision/mnist_convnet/\n",
        "\n",
        "- https://github.com/the-deep-learners/deep-learning-illustrated/blob/master/notebooks/shallow_net_in_keras.ipynb "
      ]
    },
    {
      "cell_type": "markdown",
      "metadata": {
        "id": "o_i0NIxeykr0"
      },
      "source": [
        "### (OPTIONAL) TODO 1\n",
        "\n",
        "Add your own sources and references here."
      ]
    },
    {
      "cell_type": "markdown",
      "metadata": {
        "id": "2u-hfaHC-6qb"
      },
      "source": [
        "## Setup"
      ]
    },
    {
      "cell_type": "code",
      "metadata": {
        "id": "1H7CSr4a-6qb"
      },
      "source": [
        "from tensorflow import keras\n",
        "from keras.datasets import mnist\n",
        "from keras.models import Sequential\n",
        "from keras.layers import Dense\n",
        "from keras.optimizers import SGD\n",
        "\n",
        "from tensorflow.keras import layers\n",
        "\n",
        "from matplotlib import pyplot as plt\n",
        "\n",
        "import numpy as np"
      ],
      "execution_count": null,
      "outputs": []
    },
    {
      "cell_type": "markdown",
      "metadata": {
        "id": "dxNd2jV5-6qg"
      },
      "source": [
        "## Load and prepare the data"
      ]
    },
    {
      "cell_type": "code",
      "metadata": {
        "id": "AL5uSsG5EoEw",
        "colab": {
          "base_uri": "https://localhost:8080/"
        },
        "outputId": "ac2b2a01-63af-4748-bac0-96cca3736554"
      },
      "source": [
        "# Model / data parameters\n",
        "num_classes = 10\n",
        "input_shape = (28, 28, 1)\n",
        "\n",
        "# the data, split between train and validation sets\n",
        "(X_train, y_train), (X_valid, y_valid) = mnist.load_data()"
      ],
      "execution_count": null,
      "outputs": [
        {
          "output_type": "stream",
          "text": [
            "Downloading data from https://storage.googleapis.com/tensorflow/tf-keras-datasets/mnist.npz\n",
            "11493376/11490434 [==============================] - 0s 0us/step\n",
            "11501568/11490434 [==============================] - 0s 0us/step\n"
          ],
          "name": "stdout"
        }
      ]
    },
    {
      "cell_type": "code",
      "metadata": {
        "id": "x2jsR31jEqYn",
        "colab": {
          "base_uri": "https://localhost:8080/"
        },
        "outputId": "3788582a-1e01-4692-a9fb-1c41550ef81d"
      },
      "source": [
        "X_train.shape"
      ],
      "execution_count": null,
      "outputs": [
        {
          "output_type": "execute_result",
          "data": {
            "text/plain": [
              "(60000, 28, 28)"
            ]
          },
          "metadata": {
            "tags": []
          },
          "execution_count": 4
        }
      ]
    },
    {
      "cell_type": "code",
      "metadata": {
        "id": "EOXe9zdD-6qp",
        "colab": {
          "base_uri": "https://localhost:8080/"
        },
        "outputId": "b4547f32-d5f9-436f-f393-64d55cc65d32"
      },
      "source": [
        "y_train.shape"
      ],
      "execution_count": null,
      "outputs": [
        {
          "output_type": "execute_result",
          "data": {
            "text/plain": [
              "(60000,)"
            ]
          },
          "metadata": {
            "tags": []
          },
          "execution_count": 5
        }
      ]
    },
    {
      "cell_type": "code",
      "metadata": {
        "id": "99XuEIZf-6qr",
        "colab": {
          "base_uri": "https://localhost:8080/"
        },
        "outputId": "fd0c96e2-5775-429a-805a-f59510458677"
      },
      "source": [
        "y_train[0:12]"
      ],
      "execution_count": null,
      "outputs": [
        {
          "output_type": "execute_result",
          "data": {
            "text/plain": [
              "array([5, 0, 4, 1, 9, 2, 1, 3, 1, 4, 3, 5], dtype=uint8)"
            ]
          },
          "metadata": {
            "tags": []
          },
          "execution_count": 6
        }
      ]
    },
    {
      "cell_type": "code",
      "metadata": {
        "id": "Rcidoo4X-6qt",
        "colab": {
          "base_uri": "https://localhost:8080/",
          "height": 327
        },
        "outputId": "bbed5b7c-bd4b-4218-8544-b4c46a78a525"
      },
      "source": [
        "plt.figure(figsize=(5,5))\n",
        "for k in range(12):\n",
        "    plt.subplot(3, 4, k+1)\n",
        "    plt.imshow(X_train[k], cmap='Greys')\n",
        "    plt.axis('off')\n",
        "plt.tight_layout()\n",
        "plt.show()"
      ],
      "execution_count": null,
      "outputs": [
        {
          "output_type": "display_data",
          "data": {
            "image/png": "[encoded data removed]",
            "text/plain": [
              "<Figure size 360x360 with 12 Axes>"
            ]
          },
          "metadata": {
            "tags": [],
            "needs_background": "light"
          }
        }
      ]
    },
    {
      "cell_type": "code",
      "metadata": {
        "id": "xL2vkR3jO2md",
        "colab": {
          "base_uri": "https://localhost:8080/"
        },
        "outputId": "b314432d-81d6-4fb3-f445-36435ed72282"
      },
      "source": [
        "X_valid.shape"
      ],
      "execution_count": null,
      "outputs": [
        {
          "output_type": "execute_result",
          "data": {
            "text/plain": [
              "(10000, 28, 28)"
            ]
          },
          "metadata": {
            "tags": []
          },
          "execution_count": 8
        }
      ]
    },
    {
      "cell_type": "code",
      "metadata": {
        "id": "GKtAwVhYO34o",
        "colab": {
          "base_uri": "https://localhost:8080/"
        },
        "outputId": "e0f80a2a-60b3-48cc-9c64-d564ac847389"
      },
      "source": [
        "y_valid.shape"
      ],
      "execution_count": null,
      "outputs": [
        {
          "output_type": "execute_result",
          "data": {
            "text/plain": [
              "(10000,)"
            ]
          },
          "metadata": {
            "tags": []
          },
          "execution_count": 9
        }
      ]
    },
    {
      "cell_type": "code",
      "metadata": {
        "id": "rITLTiol7eZH",
        "colab": {
          "base_uri": "https://localhost:8080/"
        },
        "outputId": "94432be1-3dd2-40b8-9982-14e01789cdd6"
      },
      "source": [
        "y_valid[0]"
      ],
      "execution_count": null,
      "outputs": [
        {
          "output_type": "execute_result",
          "data": {
            "text/plain": [
              "7"
            ]
          },
          "metadata": {
            "tags": []
          },
          "execution_count": 10
        }
      ]
    },
    {
      "cell_type": "code",
      "metadata": {
        "id": "v7wsvxTt7iZO",
        "colab": {
          "base_uri": "https://localhost:8080/",
          "height": 248
        },
        "outputId": "5ed76a0a-4167-4490-f8e3-3baf5a261445"
      },
      "source": [
        "plt.imshow(X_valid[0], cmap='Greys')\n",
        "plt.axis('off')\n",
        "plt.show()"
      ],
      "execution_count": null,
      "outputs": [
        {
          "output_type": "display_data",
          "data": {
            "image/png": "[encoded data removed]",
            "text/plain": [
              "<Figure size 432x288 with 1 Axes>"
            ]
          },
          "metadata": {
            "tags": [],
            "needs_background": "light"
          }
        }
      ]
    },
    {
      "cell_type": "code",
      "metadata": {
        "id": "lKSraXzh-6qw",
        "colab": {
          "base_uri": "https://localhost:8080/"
        },
        "outputId": "f0f9a260-07ba-4893-956f-e91517d28cba"
      },
      "source": [
        "# Reshape (flatten) images \n",
        "X_train_reshaped = X_train.reshape(60000, 784).astype('float32')\n",
        "X_valid_reshaped = X_valid.reshape(10000, 784).astype('float32')\n",
        "\n",
        "# Scale images to the [0, 1] range\n",
        "X_train_scaled_reshaped = X_train_reshaped / 255\n",
        "X_valid_scaled_reshaped = X_valid_reshaped / 255\n",
        "\n",
        "# Renaming for conciseness\n",
        "X_training = X_train_scaled_reshaped\n",
        "X_validation = X_valid_scaled_reshaped\n",
        "\n",
        "print(\"X_training shape (after reshaping + scaling):\", X_training.shape)\n",
        "print(X_training.shape[0], \"train samples\")\n",
        "print(\"X_validation shape (after reshaping + scaling):\", X_validation.shape)\n",
        "print(X_validation.shape[0], \"validation samples\")"
      ],
      "execution_count": null,
      "outputs": [
        {
          "output_type": "stream",
          "text": [
            "X_training shape (after reshaping + scaling): (60000, 784)\n",
            "60000 train samples\n",
            "X_validation shape (after reshaping + scaling): (10000, 784)\n",
            "10000 validation samples\n"
          ],
          "name": "stdout"
        }
      ]
    },
    {
      "cell_type": "code",
      "metadata": {
        "id": "amUBlLnG-6qz"
      },
      "source": [
        "# convert class vectors to binary class matrices\n",
        "y_training = keras.utils.to_categorical(y_train, num_classes)\n",
        "y_validation = keras.utils.to_categorical(y_valid, num_classes)"
      ],
      "execution_count": null,
      "outputs": []
    },
    {
      "cell_type": "code",
      "metadata": {
        "id": "QRX6auItPqtX",
        "colab": {
          "base_uri": "https://localhost:8080/"
        },
        "outputId": "11f98aef-3c7e-47f0-86dd-a31147572df7"
      },
      "source": [
        "print(y_valid[0])\n",
        "print(y_validation[0])"
      ],
      "execution_count": null,
      "outputs": [
        {
          "output_type": "stream",
          "text": [
            "7\n",
            "[0. 0. 0. 0. 0. 0. 0. 1. 0. 0.]\n"
          ],
          "name": "stdout"
        }
      ]
    },
    {
      "cell_type": "markdown",
      "metadata": {
        "id": "BEn1cfWJ-6rH"
      },
      "source": [
        "## PART 1 - Shallow neural network architecture"
      ]
    },
    {
      "cell_type": "code",
      "metadata": {
        "id": "r7CsGuzIKvZd"
      },
      "source": [
        "model = Sequential()\n",
        "model.add(Dense(64, activation='sigmoid', input_shape=(784,)))\n",
        "model.add(Dense(10, activation='softmax'))"
      ],
      "execution_count": null,
      "outputs": []
    },
    {
      "cell_type": "code",
      "metadata": {
        "id": "wQTQzXvJ-6rJ",
        "colab": {
          "base_uri": "https://localhost:8080/"
        },
        "outputId": "fa46b6ac-b2ce-4e6c-f73c-bf12657b8b1e"
      },
      "source": [
        "model.summary()"
      ],
      "execution_count": null,
      "outputs": [
        {
          "output_type": "stream",
          "text": [
            "Model: \"sequential\"\n",
            "_________________________________________________________________\n",
            "Layer (type)                 Output Shape              Param #   \n",
            "=================================================================\n",
            "dense (Dense)                (None, 64)                50240     \n",
            "_________________________________________________________________\n",
            "dense_1 (Dense)              (None, 10)                650       \n",
            "=================================================================\n",
            "Total params: 50,890\n",
            "Trainable params: 50,890\n",
            "Non-trainable params: 0\n",
            "_________________________________________________________________\n"
          ],
          "name": "stdout"
        }
      ]
    },
    {
      "cell_type": "code",
      "metadata": {
        "id": "p0KPx8Di-6rO",
        "colab": {
          "base_uri": "https://localhost:8080/"
        },
        "outputId": "81fa383f-e1fc-4466-be8f-62d1df1f6805"
      },
      "source": [
        "(64*784)"
      ],
      "execution_count": null,
      "outputs": [
        {
          "output_type": "execute_result",
          "data": {
            "text/plain": [
              "50176"
            ]
          },
          "metadata": {
            "tags": []
          },
          "execution_count": 31
        }
      ]
    },
    {
      "cell_type": "code",
      "metadata": {
        "id": "e7KDBMCS-6rQ",
        "colab": {
          "base_uri": "https://localhost:8080/"
        },
        "outputId": "648469ba-f029-4e51-f4ae-8bf18b80a7ca"
      },
      "source": [
        "(64*784)+64"
      ],
      "execution_count": null,
      "outputs": [
        {
          "output_type": "execute_result",
          "data": {
            "text/plain": [
              "50240"
            ]
          },
          "metadata": {
            "tags": []
          },
          "execution_count": 32
        }
      ]
    },
    {
      "cell_type": "code",
      "metadata": {
        "id": "ls_u6Lne-6rU",
        "colab": {
          "base_uri": "https://localhost:8080/"
        },
        "outputId": "7a9f264b-2272-467b-fda3-6daf5c1a43e9"
      },
      "source": [
        "(10*64)+10"
      ],
      "execution_count": null,
      "outputs": [
        {
          "output_type": "execute_result",
          "data": {
            "text/plain": [
              "650"
            ]
          },
          "metadata": {
            "tags": []
          },
          "execution_count": 33
        }
      ]
    },
    {
      "cell_type": "markdown",
      "metadata": {
        "id": "eflqPyf9-6rW"
      },
      "source": [
        "### Configure model"
      ]
    },
    {
      "cell_type": "code",
      "metadata": {
        "id": "ZxAxL41M-6rX"
      },
      "source": [
        "model.compile(\n",
        "    loss='mean_squared_error', \n",
        "    optimizer=SGD(learning_rate=0.01), \n",
        "    metrics=['accuracy']\n",
        ")"
      ],
      "execution_count": null,
      "outputs": []
    },
    {
      "cell_type": "markdown",
      "metadata": {
        "id": "eK2qXanIRXee"
      },
      "source": [
        "### (OPTIONAL) TODO 2 \n",
        "\n",
        "Try different options for `loss` and `optimizer`, for example:\n",
        "```\n",
        "model.compile(\n",
        "  optimizer='adam',\n",
        "  loss='categorical_crossentropy',\n",
        "  metrics=['accuracy']\n",
        ")\n",
        "```"
      ]
    },
    {
      "cell_type": "markdown",
      "metadata": {
        "id": "DId95CJ_-6rY"
      },
      "source": [
        "### Train!"
      ]
    },
    {
      "cell_type": "code",
      "metadata": {
        "id": "OGws4yu8-6rZ",
        "colab": {
          "base_uri": "https://localhost:8080/"
        },
        "outputId": "8e9e6a54-264f-4f29-a7db-0e37e4588586"
      },
      "source": [
        "batch_size=128\n",
        "epochs=500\n",
        "\n",
        "history = model.fit(\n",
        "  X_training, # training data\n",
        "  y_training, # training targets\n",
        "  epochs=epochs,\n",
        "  batch_size=batch_size,\n",
        "  verbose=1,\n",
        "  validation_data=(X_validation, y_validation)\n",
        ")"
      ],
      "execution_count": null,
      "outputs": [
        {
          "output_type": "stream",
          "text": [
            "Epoch 1/500\n",
            "469/469 [==============================] - 12s 3ms/step - loss: 0.0933 - accuracy: 0.0979 - val_loss: 0.0908 - val_accuracy: 0.0998\n",
            "Epoch 2/500\n",
            "469/469 [==============================] - 1s 3ms/step - loss: 0.0905 - accuracy: 0.1044 - val_loss: 0.0898 - val_accuracy: 0.1306\n",
            "Epoch 3/500\n",
            "469/469 [==============================] - 1s 3ms/step - loss: 0.0896 - accuracy: 0.1459 - val_loss: 0.0892 - val_accuracy: 0.2122\n",
            "Epoch 4/500\n",
            "469/469 [==============================] - 1s 3ms/step - loss: 0.0890 - accuracy: 0.2275 - val_loss: 0.0887 - val_accuracy: 0.2714\n",
            "Epoch 5/500\n",
            "469/469 [==============================] - 1s 3ms/step - loss: 0.0886 - accuracy: 0.2773 - val_loss: 0.0883 - val_accuracy: 0.2863\n",
            "Epoch 6/500\n",
            "469/469 [==============================] - 1s 3ms/step - loss: 0.0882 - accuracy: 0.2838 - val_loss: 0.0879 - val_accuracy: 0.2866\n",
            "Epoch 7/500\n",
            "469/469 [==============================] - 1s 3ms/step - loss: 0.0878 - accuracy: 0.2857 - val_loss: 0.0875 - val_accuracy: 0.2860\n",
            "Epoch 8/500\n",
            "469/469 [==============================] - 1s 3ms/step - loss: 0.0874 - accuracy: 0.2821 - val_loss: 0.0871 - val_accuracy: 0.2853\n",
            "Epoch 9/500\n",
            "469/469 [==============================] - 1s 3ms/step - loss: 0.0870 - accuracy: 0.2839 - val_loss: 0.0868 - val_accuracy: 0.2867\n",
            "Epoch 10/500\n",
            "469/469 [==============================] - 1s 3ms/step - loss: 0.0867 - accuracy: 0.2842 - val_loss: 0.0864 - val_accuracy: 0.2873\n",
            "Epoch 11/500\n",
            "469/469 [==============================] - 1s 3ms/step - loss: 0.0863 - accuracy: 0.2853 - val_loss: 0.0860 - val_accuracy: 0.2893\n",
            "Epoch 12/500\n",
            "469/469 [==============================] - 1s 3ms/step - loss: 0.0860 - accuracy: 0.2864 - val_loss: 0.0856 - val_accuracy: 0.2935\n",
            "Epoch 13/500\n",
            "469/469 [==============================] - 1s 3ms/step - loss: 0.0856 - accuracy: 0.2885 - val_loss: 0.0852 - val_accuracy: 0.2980\n",
            "Epoch 14/500\n",
            "469/469 [==============================] - 1s 3ms/step - loss: 0.0852 - accuracy: 0.2925 - val_loss: 0.0848 - val_accuracy: 0.3015\n",
            "Epoch 15/500\n",
            "469/469 [==============================] - 1s 3ms/step - loss: 0.0848 - accuracy: 0.2972 - val_loss: 0.0844 - val_accuracy: 0.3072\n",
            "Epoch 16/500\n",
            "469/469 [==============================] - 1s 3ms/step - loss: 0.0844 - accuracy: 0.3034 - val_loss: 0.0840 - val_accuracy: 0.3122\n",
            "Epoch 17/500\n",
            "469/469 [==============================] - 1s 3ms/step - loss: 0.0840 - accuracy: 0.3073 - val_loss: 0.0836 - val_accuracy: 0.3168\n",
            "Epoch 18/500\n",
            "469/469 [==============================] - 1s 3ms/step - loss: 0.0835 - accuracy: 0.3146 - val_loss: 0.0832 - val_accuracy: 0.3248\n",
            "Epoch 19/500\n",
            "469/469 [==============================] - 1s 3ms/step - loss: 0.0832 - accuracy: 0.3213 - val_loss: 0.0828 - val_accuracy: 0.3336\n",
            "Epoch 20/500\n",
            "469/469 [==============================] - 1s 3ms/step - loss: 0.0829 - accuracy: 0.3267 - val_loss: 0.0824 - val_accuracy: 0.3409\n",
            "Epoch 21/500\n",
            "469/469 [==============================] - 1s 3ms/step - loss: 0.0824 - accuracy: 0.3330 - val_loss: 0.0820 - val_accuracy: 0.3483\n",
            "Epoch 22/500\n",
            "469/469 [==============================] - 1s 3ms/step - loss: 0.0821 - accuracy: 0.3376 - val_loss: 0.0815 - val_accuracy: 0.3568\n",
            "Epoch 23/500\n",
            "469/469 [==============================] - 1s 3ms/step - loss: 0.0816 - accuracy: 0.3486 - val_loss: 0.0811 - val_accuracy: 0.3660\n",
            "Epoch 24/500\n",
            "469/469 [==============================] - 1s 3ms/step - loss: 0.0812 - accuracy: 0.3576 - val_loss: 0.0807 - val_accuracy: 0.3745\n",
            "Epoch 25/500\n",
            "469/469 [==============================] - 1s 3ms/step - loss: 0.0807 - accuracy: 0.3672 - val_loss: 0.0802 - val_accuracy: 0.3847\n",
            "Epoch 26/500\n",
            "469/469 [==============================] - 1s 3ms/step - loss: 0.0803 - accuracy: 0.3787 - val_loss: 0.0798 - val_accuracy: 0.3924\n",
            "Epoch 27/500\n",
            "469/469 [==============================] - 1s 3ms/step - loss: 0.0798 - accuracy: 0.3879 - val_loss: 0.0793 - val_accuracy: 0.4032\n",
            "Epoch 28/500\n",
            "469/469 [==============================] - 1s 3ms/step - loss: 0.0795 - accuracy: 0.3959 - val_loss: 0.0789 - val_accuracy: 0.4139\n",
            "Epoch 29/500\n",
            "469/469 [==============================] - 1s 3ms/step - loss: 0.0789 - accuracy: 0.4060 - val_loss: 0.0784 - val_accuracy: 0.4240\n",
            "Epoch 30/500\n",
            "469/469 [==============================] - 1s 3ms/step - loss: 0.0786 - accuracy: 0.4120 - val_loss: 0.0780 - val_accuracy: 0.4334\n",
            "Epoch 31/500\n",
            "469/469 [==============================] - 1s 3ms/step - loss: 0.0781 - accuracy: 0.4252 - val_loss: 0.0775 - val_accuracy: 0.4429\n",
            "Epoch 32/500\n",
            "469/469 [==============================] - 1s 3ms/step - loss: 0.0776 - accuracy: 0.4358 - val_loss: 0.0770 - val_accuracy: 0.4511\n",
            "Epoch 33/500\n",
            "469/469 [==============================] - 1s 3ms/step - loss: 0.0771 - accuracy: 0.4446 - val_loss: 0.0766 - val_accuracy: 0.4617\n",
            "Epoch 34/500\n",
            "469/469 [==============================] - 1s 3ms/step - loss: 0.0767 - accuracy: 0.4548 - val_loss: 0.0761 - val_accuracy: 0.4698\n",
            "Epoch 35/500\n",
            "469/469 [==============================] - 1s 3ms/step - loss: 0.0762 - accuracy: 0.4651 - val_loss: 0.0756 - val_accuracy: 0.4778\n",
            "Epoch 36/500\n",
            "469/469 [==============================] - 1s 3ms/step - loss: 0.0757 - accuracy: 0.4717 - val_loss: 0.0752 - val_accuracy: 0.4861\n",
            "Epoch 37/500\n",
            "469/469 [==============================] - 1s 3ms/step - loss: 0.0751 - accuracy: 0.4844 - val_loss: 0.0747 - val_accuracy: 0.4954\n",
            "Epoch 38/500\n",
            "469/469 [==============================] - 1s 3ms/step - loss: 0.0747 - accuracy: 0.4920 - val_loss: 0.0742 - val_accuracy: 0.5038\n",
            "Epoch 39/500\n",
            "469/469 [==============================] - 1s 3ms/step - loss: 0.0745 - accuracy: 0.4968 - val_loss: 0.0737 - val_accuracy: 0.5105\n",
            "Epoch 40/500\n",
            "469/469 [==============================] - 1s 3ms/step - loss: 0.0740 - accuracy: 0.5062 - val_loss: 0.0732 - val_accuracy: 0.5170\n",
            "Epoch 41/500\n",
            "469/469 [==============================] - 1s 3ms/step - loss: 0.0734 - accuracy: 0.5147 - val_loss: 0.0728 - val_accuracy: 0.5262\n",
            "Epoch 42/500\n",
            "469/469 [==============================] - 1s 3ms/step - loss: 0.0729 - accuracy: 0.5262 - val_loss: 0.0723 - val_accuracy: 0.5339\n",
            "Epoch 43/500\n",
            "469/469 [==============================] - 1s 3ms/step - loss: 0.0724 - accuracy: 0.5313 - val_loss: 0.0718 - val_accuracy: 0.5411\n",
            "Epoch 44/500\n",
            "469/469 [==============================] - 1s 3ms/step - loss: 0.0721 - accuracy: 0.5365 - val_loss: 0.0713 - val_accuracy: 0.5483\n",
            "Epoch 45/500\n",
            "469/469 [==============================] - 1s 3ms/step - loss: 0.0715 - accuracy: 0.5446 - val_loss: 0.0708 - val_accuracy: 0.5554\n",
            "Epoch 46/500\n",
            "469/469 [==============================] - 1s 3ms/step - loss: 0.0710 - accuracy: 0.5528 - val_loss: 0.0703 - val_accuracy: 0.5622\n",
            "Epoch 47/500\n",
            "469/469 [==============================] - 1s 3ms/step - loss: 0.0706 - accuracy: 0.5563 - val_loss: 0.0699 - val_accuracy: 0.5679\n",
            "Epoch 48/500\n",
            "469/469 [==============================] - 1s 3ms/step - loss: 0.0703 - accuracy: 0.5589 - val_loss: 0.0694 - val_accuracy: 0.5725\n",
            "Epoch 49/500\n",
            "469/469 [==============================] - 1s 3ms/step - loss: 0.0697 - accuracy: 0.5681 - val_loss: 0.0689 - val_accuracy: 0.5765\n",
            "Epoch 50/500\n",
            "469/469 [==============================] - 1s 3ms/step - loss: 0.0693 - accuracy: 0.5688 - val_loss: 0.0684 - val_accuracy: 0.5811\n",
            "Epoch 51/500\n",
            "469/469 [==============================] - 1s 3ms/step - loss: 0.0686 - accuracy: 0.5796 - val_loss: 0.0679 - val_accuracy: 0.5864\n",
            "Epoch 52/500\n",
            "469/469 [==============================] - 1s 3ms/step - loss: 0.0681 - accuracy: 0.5836 - val_loss: 0.0674 - val_accuracy: 0.5917\n",
            "Epoch 53/500\n",
            "469/469 [==============================] - 1s 3ms/step - loss: 0.0677 - accuracy: 0.5874 - val_loss: 0.0669 - val_accuracy: 0.5951\n",
            "Epoch 54/500\n",
            "469/469 [==============================] - 1s 3ms/step - loss: 0.0673 - accuracy: 0.5897 - val_loss: 0.0664 - val_accuracy: 0.5979\n",
            "Epoch 55/500\n",
            "469/469 [==============================] - 1s 3ms/step - loss: 0.0668 - accuracy: 0.5933 - val_loss: 0.0660 - val_accuracy: 0.6028\n",
            "Epoch 56/500\n",
            "469/469 [==============================] - 1s 3ms/step - loss: 0.0665 - accuracy: 0.5958 - val_loss: 0.0655 - val_accuracy: 0.6053\n",
            "Epoch 57/500\n",
            "469/469 [==============================] - 1s 3ms/step - loss: 0.0657 - accuracy: 0.6031 - val_loss: 0.0650 - val_accuracy: 0.6086\n",
            "Epoch 58/500\n",
            "469/469 [==============================] - 1s 3ms/step - loss: 0.0653 - accuracy: 0.6032 - val_loss: 0.0645 - val_accuracy: 0.6111\n",
            "Epoch 59/500\n",
            "469/469 [==============================] - 1s 3ms/step - loss: 0.0649 - accuracy: 0.6083 - val_loss: 0.0640 - val_accuracy: 0.6145\n",
            "Epoch 60/500\n",
            "469/469 [==============================] - 1s 3ms/step - loss: 0.0644 - accuracy: 0.6109 - val_loss: 0.0635 - val_accuracy: 0.6181\n",
            "Epoch 61/500\n",
            "469/469 [==============================] - 1s 3ms/step - loss: 0.0640 - accuracy: 0.6104 - val_loss: 0.0631 - val_accuracy: 0.6219\n",
            "Epoch 62/500\n",
            "469/469 [==============================] - 1s 3ms/step - loss: 0.0635 - accuracy: 0.6157 - val_loss: 0.0626 - val_accuracy: 0.6245\n",
            "Epoch 63/500\n",
            "469/469 [==============================] - 1s 3ms/step - loss: 0.0629 - accuracy: 0.6208 - val_loss: 0.0621 - val_accuracy: 0.6271\n",
            "Epoch 64/500\n",
            "469/469 [==============================] - 1s 3ms/step - loss: 0.0626 - accuracy: 0.6224 - val_loss: 0.0616 - val_accuracy: 0.6305\n",
            "Epoch 65/500\n",
            "469/469 [==============================] - 1s 3ms/step - loss: 0.0621 - accuracy: 0.6208 - val_loss: 0.0612 - val_accuracy: 0.6338\n",
            "Epoch 66/500\n",
            "469/469 [==============================] - 1s 3ms/step - loss: 0.0617 - accuracy: 0.6235 - val_loss: 0.0607 - val_accuracy: 0.6364\n",
            "Epoch 67/500\n",
            "469/469 [==============================] - 1s 3ms/step - loss: 0.0611 - accuracy: 0.6309 - val_loss: 0.0602 - val_accuracy: 0.6391\n",
            "Epoch 68/500\n",
            "469/469 [==============================] - 1s 3ms/step - loss: 0.0606 - accuracy: 0.6319 - val_loss: 0.0597 - val_accuracy: 0.6421\n",
            "Epoch 69/500\n",
            "469/469 [==============================] - 1s 3ms/step - loss: 0.0603 - accuracy: 0.6340 - val_loss: 0.0593 - val_accuracy: 0.6446\n",
            "Epoch 70/500\n",
            "469/469 [==============================] - 1s 3ms/step - loss: 0.0599 - accuracy: 0.6370 - val_loss: 0.0588 - val_accuracy: 0.6480\n",
            "Epoch 71/500\n",
            "469/469 [==============================] - 1s 3ms/step - loss: 0.0593 - accuracy: 0.6393 - val_loss: 0.0584 - val_accuracy: 0.6514\n",
            "Epoch 72/500\n",
            "469/469 [==============================] - 1s 3ms/step - loss: 0.0589 - accuracy: 0.6419 - val_loss: 0.0579 - val_accuracy: 0.6537\n",
            "Epoch 73/500\n",
            "469/469 [==============================] - 1s 3ms/step - loss: 0.0583 - accuracy: 0.6481 - val_loss: 0.0575 - val_accuracy: 0.6568\n",
            "Epoch 74/500\n",
            "469/469 [==============================] - 1s 3ms/step - loss: 0.0578 - accuracy: 0.6508 - val_loss: 0.0570 - val_accuracy: 0.6589\n",
            "Epoch 75/500\n",
            "469/469 [==============================] - 1s 3ms/step - loss: 0.0577 - accuracy: 0.6519 - val_loss: 0.0566 - val_accuracy: 0.6622\n",
            "Epoch 76/500\n",
            "469/469 [==============================] - 1s 3ms/step - loss: 0.0571 - accuracy: 0.6551 - val_loss: 0.0561 - val_accuracy: 0.6658\n",
            "Epoch 77/500\n",
            "469/469 [==============================] - 1s 3ms/step - loss: 0.0568 - accuracy: 0.6555 - val_loss: 0.0557 - val_accuracy: 0.6687\n",
            "Epoch 78/500\n",
            "469/469 [==============================] - 1s 3ms/step - loss: 0.0563 - accuracy: 0.6601 - val_loss: 0.0553 - val_accuracy: 0.6726\n",
            "Epoch 79/500\n",
            "469/469 [==============================] - 1s 3ms/step - loss: 0.0559 - accuracy: 0.6646 - val_loss: 0.0548 - val_accuracy: 0.6761\n",
            "Epoch 80/500\n",
            "469/469 [==============================] - 1s 3ms/step - loss: 0.0553 - accuracy: 0.6666 - val_loss: 0.0544 - val_accuracy: 0.6788\n",
            "Epoch 81/500\n",
            "469/469 [==============================] - 1s 3ms/step - loss: 0.0548 - accuracy: 0.6737 - val_loss: 0.0540 - val_accuracy: 0.6818\n",
            "Epoch 82/500\n",
            "469/469 [==============================] - 1s 3ms/step - loss: 0.0545 - accuracy: 0.6759 - val_loss: 0.0536 - val_accuracy: 0.6852\n",
            "Epoch 83/500\n",
            "469/469 [==============================] - 1s 3ms/step - loss: 0.0545 - accuracy: 0.6733 - val_loss: 0.0532 - val_accuracy: 0.6889\n",
            "Epoch 84/500\n",
            "469/469 [==============================] - 1s 3ms/step - loss: 0.0538 - accuracy: 0.6837 - val_loss: 0.0528 - val_accuracy: 0.6926\n",
            "Epoch 85/500\n",
            "469/469 [==============================] - 1s 3ms/step - loss: 0.0535 - accuracy: 0.6839 - val_loss: 0.0524 - val_accuracy: 0.6966\n",
            "Epoch 86/500\n",
            "469/469 [==============================] - 1s 3ms/step - loss: 0.0529 - accuracy: 0.6890 - val_loss: 0.0520 - val_accuracy: 0.7002\n",
            "Epoch 87/500\n",
            "469/469 [==============================] - 1s 3ms/step - loss: 0.0527 - accuracy: 0.6914 - val_loss: 0.0516 - val_accuracy: 0.7035\n",
            "Epoch 88/500\n",
            "469/469 [==============================] - 1s 3ms/step - loss: 0.0522 - accuracy: 0.6932 - val_loss: 0.0512 - val_accuracy: 0.7074\n",
            "Epoch 89/500\n",
            "469/469 [==============================] - 1s 3ms/step - loss: 0.0517 - accuracy: 0.6998 - val_loss: 0.0508 - val_accuracy: 0.7110\n",
            "Epoch 90/500\n",
            "469/469 [==============================] - 1s 3ms/step - loss: 0.0514 - accuracy: 0.7036 - val_loss: 0.0504 - val_accuracy: 0.7146\n",
            "Epoch 91/500\n",
            "469/469 [==============================] - 1s 3ms/step - loss: 0.0509 - accuracy: 0.7070 - val_loss: 0.0500 - val_accuracy: 0.7182\n",
            "Epoch 92/500\n",
            "469/469 [==============================] - 1s 3ms/step - loss: 0.0508 - accuracy: 0.7072 - val_loss: 0.0496 - val_accuracy: 0.7219\n",
            "Epoch 93/500\n",
            "469/469 [==============================] - 1s 3ms/step - loss: 0.0505 - accuracy: 0.7111 - val_loss: 0.0493 - val_accuracy: 0.7257\n",
            "Epoch 94/500\n",
            "469/469 [==============================] - 1s 3ms/step - loss: 0.0499 - accuracy: 0.7156 - val_loss: 0.0489 - val_accuracy: 0.7286\n",
            "Epoch 95/500\n",
            "469/469 [==============================] - 1s 3ms/step - loss: 0.0496 - accuracy: 0.7173 - val_loss: 0.0485 - val_accuracy: 0.7322\n",
            "Epoch 96/500\n",
            "469/469 [==============================] - 1s 3ms/step - loss: 0.0493 - accuracy: 0.7217 - val_loss: 0.0482 - val_accuracy: 0.7368\n",
            "Epoch 97/500\n",
            "469/469 [==============================] - 1s 3ms/step - loss: 0.0490 - accuracy: 0.7246 - val_loss: 0.0478 - val_accuracy: 0.7408\n",
            "Epoch 98/500\n",
            "469/469 [==============================] - 1s 3ms/step - loss: 0.0486 - accuracy: 0.7290 - val_loss: 0.0475 - val_accuracy: 0.7446\n",
            "Epoch 99/500\n",
            "469/469 [==============================] - 1s 3ms/step - loss: 0.0484 - accuracy: 0.7298 - val_loss: 0.0471 - val_accuracy: 0.7481\n",
            "Epoch 100/500\n",
            "469/469 [==============================] - 1s 3ms/step - loss: 0.0479 - accuracy: 0.7359 - val_loss: 0.0468 - val_accuracy: 0.7510\n",
            "Epoch 101/500\n",
            "469/469 [==============================] - 1s 3ms/step - loss: 0.0476 - accuracy: 0.7392 - val_loss: 0.0464 - val_accuracy: 0.7538\n",
            "Epoch 102/500\n",
            "469/469 [==============================] - 1s 3ms/step - loss: 0.0471 - accuracy: 0.7446 - val_loss: 0.0461 - val_accuracy: 0.7566\n",
            "Epoch 103/500\n",
            "469/469 [==============================] - 1s 3ms/step - loss: 0.0469 - accuracy: 0.7434 - val_loss: 0.0458 - val_accuracy: 0.7582\n",
            "Epoch 104/500\n",
            "469/469 [==============================] - 1s 3ms/step - loss: 0.0465 - accuracy: 0.7497 - val_loss: 0.0454 - val_accuracy: 0.7616\n",
            "Epoch 105/500\n",
            "469/469 [==============================] - 1s 3ms/step - loss: 0.0463 - accuracy: 0.7509 - val_loss: 0.0451 - val_accuracy: 0.7640\n",
            "Epoch 106/500\n",
            "469/469 [==============================] - 1s 3ms/step - loss: 0.0459 - accuracy: 0.7560 - val_loss: 0.0448 - val_accuracy: 0.7665\n",
            "Epoch 107/500\n",
            "469/469 [==============================] - 1s 3ms/step - loss: 0.0455 - accuracy: 0.7595 - val_loss: 0.0445 - val_accuracy: 0.7707\n",
            "Epoch 108/500\n",
            "469/469 [==============================] - 1s 3ms/step - loss: 0.0454 - accuracy: 0.7596 - val_loss: 0.0442 - val_accuracy: 0.7739\n",
            "Epoch 109/500\n",
            "469/469 [==============================] - 1s 3ms/step - loss: 0.0449 - accuracy: 0.7618 - val_loss: 0.0438 - val_accuracy: 0.7770\n",
            "Epoch 110/500\n",
            "469/469 [==============================] - 1s 3ms/step - loss: 0.0446 - accuracy: 0.7645 - val_loss: 0.0435 - val_accuracy: 0.7805\n",
            "Epoch 111/500\n",
            "469/469 [==============================] - 1s 3ms/step - loss: 0.0442 - accuracy: 0.7663 - val_loss: 0.0432 - val_accuracy: 0.7838\n",
            "Epoch 112/500\n",
            "469/469 [==============================] - 1s 3ms/step - loss: 0.0440 - accuracy: 0.7712 - val_loss: 0.0429 - val_accuracy: 0.7863\n",
            "Epoch 113/500\n",
            "469/469 [==============================] - 1s 3ms/step - loss: 0.0438 - accuracy: 0.7723 - val_loss: 0.0426 - val_accuracy: 0.7881\n",
            "Epoch 114/500\n",
            "469/469 [==============================] - 1s 3ms/step - loss: 0.0435 - accuracy: 0.7763 - val_loss: 0.0423 - val_accuracy: 0.7902\n",
            "Epoch 115/500\n",
            "469/469 [==============================] - 1s 3ms/step - loss: 0.0432 - accuracy: 0.7767 - val_loss: 0.0420 - val_accuracy: 0.7925\n",
            "Epoch 116/500\n",
            "469/469 [==============================] - 1s 3ms/step - loss: 0.0429 - accuracy: 0.7797 - val_loss: 0.0417 - val_accuracy: 0.7941\n",
            "Epoch 117/500\n",
            "469/469 [==============================] - 1s 3ms/step - loss: 0.0426 - accuracy: 0.7789 - val_loss: 0.0415 - val_accuracy: 0.7955\n",
            "Epoch 118/500\n",
            "469/469 [==============================] - 1s 3ms/step - loss: 0.0420 - accuracy: 0.7879 - val_loss: 0.0412 - val_accuracy: 0.7976\n",
            "Epoch 119/500\n",
            "469/469 [==============================] - 1s 3ms/step - loss: 0.0420 - accuracy: 0.7877 - val_loss: 0.0409 - val_accuracy: 0.8002\n",
            "Epoch 120/500\n",
            "469/469 [==============================] - 1s 3ms/step - loss: 0.0417 - accuracy: 0.7869 - val_loss: 0.0406 - val_accuracy: 0.8020\n",
            "Epoch 121/500\n",
            "469/469 [==============================] - 1s 3ms/step - loss: 0.0415 - accuracy: 0.7912 - val_loss: 0.0403 - val_accuracy: 0.8040\n",
            "Epoch 122/500\n",
            "469/469 [==============================] - 1s 3ms/step - loss: 0.0414 - accuracy: 0.7913 - val_loss: 0.0401 - val_accuracy: 0.8059\n",
            "Epoch 123/500\n",
            "469/469 [==============================] - 1s 3ms/step - loss: 0.0410 - accuracy: 0.7944 - val_loss: 0.0398 - val_accuracy: 0.8080\n",
            "Epoch 124/500\n",
            "469/469 [==============================] - 1s 3ms/step - loss: 0.0406 - accuracy: 0.7965 - val_loss: 0.0395 - val_accuracy: 0.8100\n",
            "Epoch 125/500\n",
            "469/469 [==============================] - 1s 3ms/step - loss: 0.0405 - accuracy: 0.7984 - val_loss: 0.0393 - val_accuracy: 0.8124\n",
            "Epoch 126/500\n",
            "469/469 [==============================] - 1s 3ms/step - loss: 0.0400 - accuracy: 0.8016 - val_loss: 0.0390 - val_accuracy: 0.8136\n",
            "Epoch 127/500\n",
            "469/469 [==============================] - 1s 3ms/step - loss: 0.0401 - accuracy: 0.7997 - val_loss: 0.0388 - val_accuracy: 0.8148\n",
            "Epoch 128/500\n",
            "469/469 [==============================] - 1s 3ms/step - loss: 0.0395 - accuracy: 0.8037 - val_loss: 0.0385 - val_accuracy: 0.8163\n",
            "Epoch 129/500\n",
            "469/469 [==============================] - 1s 3ms/step - loss: 0.0392 - accuracy: 0.8062 - val_loss: 0.0383 - val_accuracy: 0.8177\n",
            "Epoch 130/500\n",
            "469/469 [==============================] - 1s 3ms/step - loss: 0.0391 - accuracy: 0.8076 - val_loss: 0.0380 - val_accuracy: 0.8188\n",
            "Epoch 131/500\n",
            "469/469 [==============================] - 1s 3ms/step - loss: 0.0390 - accuracy: 0.8090 - val_loss: 0.0378 - val_accuracy: 0.8208\n",
            "Epoch 132/500\n",
            "469/469 [==============================] - 1s 3ms/step - loss: 0.0386 - accuracy: 0.8093 - val_loss: 0.0375 - val_accuracy: 0.8220\n",
            "Epoch 133/500\n",
            "469/469 [==============================] - 1s 3ms/step - loss: 0.0384 - accuracy: 0.8100 - val_loss: 0.0373 - val_accuracy: 0.8232\n",
            "Epoch 134/500\n",
            "469/469 [==============================] - 1s 3ms/step - loss: 0.0382 - accuracy: 0.8116 - val_loss: 0.0371 - val_accuracy: 0.8243\n",
            "Epoch 135/500\n",
            "469/469 [==============================] - 1s 3ms/step - loss: 0.0381 - accuracy: 0.8125 - val_loss: 0.0368 - val_accuracy: 0.8255\n",
            "Epoch 136/500\n",
            "469/469 [==============================] - 1s 3ms/step - loss: 0.0380 - accuracy: 0.8146 - val_loss: 0.0366 - val_accuracy: 0.8270\n",
            "Epoch 137/500\n",
            "469/469 [==============================] - 1s 3ms/step - loss: 0.0374 - accuracy: 0.8185 - val_loss: 0.0364 - val_accuracy: 0.8282\n",
            "Epoch 138/500\n",
            "469/469 [==============================] - 1s 3ms/step - loss: 0.0373 - accuracy: 0.8194 - val_loss: 0.0362 - val_accuracy: 0.8291\n",
            "Epoch 139/500\n",
            "469/469 [==============================] - 1s 3ms/step - loss: 0.0372 - accuracy: 0.8204 - val_loss: 0.0359 - val_accuracy: 0.8305\n",
            "Epoch 140/500\n",
            "469/469 [==============================] - 1s 3ms/step - loss: 0.0371 - accuracy: 0.8189 - val_loss: 0.0357 - val_accuracy: 0.8308\n",
            "Epoch 141/500\n",
            "469/469 [==============================] - 1s 3ms/step - loss: 0.0366 - accuracy: 0.8226 - val_loss: 0.0355 - val_accuracy: 0.8327\n",
            "Epoch 142/500\n",
            "469/469 [==============================] - 1s 3ms/step - loss: 0.0367 - accuracy: 0.8229 - val_loss: 0.0353 - val_accuracy: 0.8332\n",
            "Epoch 143/500\n",
            "469/469 [==============================] - 1s 3ms/step - loss: 0.0362 - accuracy: 0.8237 - val_loss: 0.0351 - val_accuracy: 0.8340\n",
            "Epoch 144/500\n",
            "469/469 [==============================] - 1s 3ms/step - loss: 0.0359 - accuracy: 0.8276 - val_loss: 0.0349 - val_accuracy: 0.8355\n",
            "Epoch 145/500\n",
            "469/469 [==============================] - 1s 3ms/step - loss: 0.0359 - accuracy: 0.8243 - val_loss: 0.0347 - val_accuracy: 0.8364\n",
            "Epoch 146/500\n",
            "469/469 [==============================] - 1s 3ms/step - loss: 0.0356 - accuracy: 0.8292 - val_loss: 0.0345 - val_accuracy: 0.8376\n",
            "Epoch 147/500\n",
            "469/469 [==============================] - 1s 3ms/step - loss: 0.0356 - accuracy: 0.8275 - val_loss: 0.0343 - val_accuracy: 0.8388\n",
            "Epoch 148/500\n",
            "469/469 [==============================] - 1s 3ms/step - loss: 0.0354 - accuracy: 0.8270 - val_loss: 0.0341 - val_accuracy: 0.8400\n",
            "Epoch 149/500\n",
            "469/469 [==============================] - 1s 3ms/step - loss: 0.0350 - accuracy: 0.8331 - val_loss: 0.0339 - val_accuracy: 0.8407\n",
            "Epoch 150/500\n",
            "469/469 [==============================] - 1s 3ms/step - loss: 0.0348 - accuracy: 0.8309 - val_loss: 0.0337 - val_accuracy: 0.8415\n",
            "Epoch 151/500\n",
            "469/469 [==============================] - 1s 3ms/step - loss: 0.0347 - accuracy: 0.8298 - val_loss: 0.0335 - val_accuracy: 0.8430\n",
            "Epoch 152/500\n",
            "469/469 [==============================] - 1s 3ms/step - loss: 0.0345 - accuracy: 0.8320 - val_loss: 0.0333 - val_accuracy: 0.8438\n",
            "Epoch 153/500\n",
            "469/469 [==============================] - 1s 3ms/step - loss: 0.0343 - accuracy: 0.8340 - val_loss: 0.0331 - val_accuracy: 0.8447\n",
            "Epoch 154/500\n",
            "469/469 [==============================] - 1s 3ms/step - loss: 0.0339 - accuracy: 0.8354 - val_loss: 0.0329 - val_accuracy: 0.8457\n",
            "Epoch 155/500\n",
            "469/469 [==============================] - 1s 3ms/step - loss: 0.0339 - accuracy: 0.8370 - val_loss: 0.0327 - val_accuracy: 0.8463\n",
            "Epoch 156/500\n",
            "469/469 [==============================] - 1s 3ms/step - loss: 0.0337 - accuracy: 0.8359 - val_loss: 0.0326 - val_accuracy: 0.8471\n",
            "Epoch 157/500\n",
            "469/469 [==============================] - 1s 3ms/step - loss: 0.0334 - accuracy: 0.8381 - val_loss: 0.0324 - val_accuracy: 0.8478\n",
            "Epoch 158/500\n",
            "469/469 [==============================] - 1s 3ms/step - loss: 0.0332 - accuracy: 0.8401 - val_loss: 0.0322 - val_accuracy: 0.8487\n",
            "Epoch 159/500\n",
            "469/469 [==============================] - 1s 3ms/step - loss: 0.0332 - accuracy: 0.8402 - val_loss: 0.0320 - val_accuracy: 0.8496\n",
            "Epoch 160/500\n",
            "469/469 [==============================] - 1s 3ms/step - loss: 0.0329 - accuracy: 0.8407 - val_loss: 0.0319 - val_accuracy: 0.8504\n",
            "Epoch 161/500\n",
            "469/469 [==============================] - 1s 3ms/step - loss: 0.0331 - accuracy: 0.8383 - val_loss: 0.0317 - val_accuracy: 0.8508\n",
            "Epoch 162/500\n",
            "469/469 [==============================] - 1s 3ms/step - loss: 0.0330 - accuracy: 0.8385 - val_loss: 0.0315 - val_accuracy: 0.8514\n",
            "Epoch 163/500\n",
            "469/469 [==============================] - 1s 3ms/step - loss: 0.0325 - accuracy: 0.8435 - val_loss: 0.0314 - val_accuracy: 0.8521\n",
            "Epoch 164/500\n",
            "469/469 [==============================] - 1s 3ms/step - loss: 0.0324 - accuracy: 0.8414 - val_loss: 0.0312 - val_accuracy: 0.8530\n",
            "Epoch 165/500\n",
            "469/469 [==============================] - 1s 3ms/step - loss: 0.0324 - accuracy: 0.8413 - val_loss: 0.0310 - val_accuracy: 0.8539\n",
            "Epoch 166/500\n",
            "469/469 [==============================] - 1s 3ms/step - loss: 0.0321 - accuracy: 0.8431 - val_loss: 0.0309 - val_accuracy: 0.8551\n",
            "Epoch 167/500\n",
            "469/469 [==============================] - 1s 3ms/step - loss: 0.0318 - accuracy: 0.8460 - val_loss: 0.0307 - val_accuracy: 0.8564\n",
            "Epoch 168/500\n",
            "469/469 [==============================] - 1s 3ms/step - loss: 0.0318 - accuracy: 0.8441 - val_loss: 0.0306 - val_accuracy: 0.8566\n",
            "Epoch 169/500\n",
            "469/469 [==============================] - 1s 3ms/step - loss: 0.0316 - accuracy: 0.8453 - val_loss: 0.0304 - val_accuracy: 0.8572\n",
            "Epoch 170/500\n",
            "469/469 [==============================] - 1s 3ms/step - loss: 0.0314 - accuracy: 0.8470 - val_loss: 0.0303 - val_accuracy: 0.8575\n",
            "Epoch 171/500\n",
            "469/469 [==============================] - 1s 3ms/step - loss: 0.0313 - accuracy: 0.8468 - val_loss: 0.0301 - val_accuracy: 0.8578\n",
            "Epoch 172/500\n",
            "469/469 [==============================] - 1s 3ms/step - loss: 0.0314 - accuracy: 0.8463 - val_loss: 0.0300 - val_accuracy: 0.8582\n",
            "Epoch 173/500\n",
            "469/469 [==============================] - 1s 3ms/step - loss: 0.0311 - accuracy: 0.8473 - val_loss: 0.0298 - val_accuracy: 0.8593\n",
            "Epoch 174/500\n",
            "469/469 [==============================] - 1s 3ms/step - loss: 0.0311 - accuracy: 0.8454 - val_loss: 0.0297 - val_accuracy: 0.8595\n",
            "Epoch 175/500\n",
            "469/469 [==============================] - 1s 3ms/step - loss: 0.0306 - accuracy: 0.8479 - val_loss: 0.0296 - val_accuracy: 0.8598\n",
            "Epoch 176/500\n",
            "469/469 [==============================] - 1s 3ms/step - loss: 0.0304 - accuracy: 0.8520 - val_loss: 0.0294 - val_accuracy: 0.8605\n",
            "Epoch 177/500\n",
            "469/469 [==============================] - 1s 3ms/step - loss: 0.0306 - accuracy: 0.8487 - val_loss: 0.0293 - val_accuracy: 0.8606\n",
            "Epoch 178/500\n",
            "469/469 [==============================] - 1s 3ms/step - loss: 0.0302 - accuracy: 0.8515 - val_loss: 0.0291 - val_accuracy: 0.8613\n",
            "Epoch 179/500\n",
            "469/469 [==============================] - 1s 3ms/step - loss: 0.0300 - accuracy: 0.8523 - val_loss: 0.0290 - val_accuracy: 0.8616\n",
            "Epoch 180/500\n",
            "469/469 [==============================] - 1s 3ms/step - loss: 0.0302 - accuracy: 0.8503 - val_loss: 0.0289 - val_accuracy: 0.8621\n",
            "Epoch 181/500\n",
            "469/469 [==============================] - 1s 3ms/step - loss: 0.0298 - accuracy: 0.8503 - val_loss: 0.0287 - val_accuracy: 0.8629\n",
            "Epoch 182/500\n",
            "469/469 [==============================] - 1s 3ms/step - loss: 0.0295 - accuracy: 0.8528 - val_loss: 0.0286 - val_accuracy: 0.8632\n",
            "Epoch 183/500\n",
            "469/469 [==============================] - 1s 3ms/step - loss: 0.0294 - accuracy: 0.8533 - val_loss: 0.0285 - val_accuracy: 0.8641\n",
            "Epoch 184/500\n",
            "469/469 [==============================] - 1s 3ms/step - loss: 0.0296 - accuracy: 0.8497 - val_loss: 0.0284 - val_accuracy: 0.8649\n",
            "Epoch 185/500\n",
            "469/469 [==============================] - 1s 3ms/step - loss: 0.0291 - accuracy: 0.8565 - val_loss: 0.0282 - val_accuracy: 0.8659\n",
            "Epoch 186/500\n",
            "469/469 [==============================] - 1s 3ms/step - loss: 0.0294 - accuracy: 0.8525 - val_loss: 0.0281 - val_accuracy: 0.8666\n",
            "Epoch 187/500\n",
            "469/469 [==============================] - 1s 3ms/step - loss: 0.0292 - accuracy: 0.8538 - val_loss: 0.0280 - val_accuracy: 0.8670\n",
            "Epoch 188/500\n",
            "469/469 [==============================] - 1s 3ms/step - loss: 0.0290 - accuracy: 0.8547 - val_loss: 0.0279 - val_accuracy: 0.8675\n",
            "Epoch 189/500\n",
            "469/469 [==============================] - 1s 3ms/step - loss: 0.0287 - accuracy: 0.8555 - val_loss: 0.0278 - val_accuracy: 0.8678\n",
            "Epoch 190/500\n",
            "469/469 [==============================] - 1s 3ms/step - loss: 0.0288 - accuracy: 0.8556 - val_loss: 0.0276 - val_accuracy: 0.8684\n",
            "Epoch 191/500\n",
            "469/469 [==============================] - 1s 3ms/step - loss: 0.0286 - accuracy: 0.8551 - val_loss: 0.0275 - val_accuracy: 0.8684\n",
            "Epoch 192/500\n",
            "469/469 [==============================] - 1s 3ms/step - loss: 0.0285 - accuracy: 0.8564 - val_loss: 0.0274 - val_accuracy: 0.8689\n",
            "Epoch 193/500\n",
            "469/469 [==============================] - 1s 3ms/step - loss: 0.0284 - accuracy: 0.8576 - val_loss: 0.0273 - val_accuracy: 0.8690\n",
            "Epoch 194/500\n",
            "469/469 [==============================] - 1s 3ms/step - loss: 0.0283 - accuracy: 0.8566 - val_loss: 0.0272 - val_accuracy: 0.8692\n",
            "Epoch 195/500\n",
            "469/469 [==============================] - 1s 3ms/step - loss: 0.0282 - accuracy: 0.8578 - val_loss: 0.0271 - val_accuracy: 0.8696\n",
            "Epoch 196/500\n",
            "469/469 [==============================] - 1s 3ms/step - loss: 0.0279 - accuracy: 0.8594 - val_loss: 0.0270 - val_accuracy: 0.8700\n",
            "Epoch 197/500\n",
            "469/469 [==============================] - 1s 3ms/step - loss: 0.0279 - accuracy: 0.8601 - val_loss: 0.0269 - val_accuracy: 0.8702\n",
            "Epoch 198/500\n",
            "469/469 [==============================] - 1s 3ms/step - loss: 0.0279 - accuracy: 0.8582 - val_loss: 0.0268 - val_accuracy: 0.8707\n",
            "Epoch 199/500\n",
            "469/469 [==============================] - 1s 3ms/step - loss: 0.0278 - accuracy: 0.8577 - val_loss: 0.0266 - val_accuracy: 0.8710\n",
            "Epoch 200/500\n",
            "469/469 [==============================] - 1s 3ms/step - loss: 0.0278 - accuracy: 0.8586 - val_loss: 0.0265 - val_accuracy: 0.8714\n",
            "Epoch 201/500\n",
            "469/469 [==============================] - 1s 3ms/step - loss: 0.0274 - accuracy: 0.8603 - val_loss: 0.0264 - val_accuracy: 0.8716\n",
            "Epoch 202/500\n",
            "469/469 [==============================] - 1s 3ms/step - loss: 0.0275 - accuracy: 0.8600 - val_loss: 0.0263 - val_accuracy: 0.8719\n",
            "Epoch 203/500\n",
            "469/469 [==============================] - 1s 3ms/step - loss: 0.0272 - accuracy: 0.8621 - val_loss: 0.0262 - val_accuracy: 0.8723\n",
            "Epoch 204/500\n",
            "469/469 [==============================] - 1s 3ms/step - loss: 0.0271 - accuracy: 0.8626 - val_loss: 0.0261 - val_accuracy: 0.8728\n",
            "Epoch 205/500\n",
            "469/469 [==============================] - 1s 3ms/step - loss: 0.0272 - accuracy: 0.8619 - val_loss: 0.0260 - val_accuracy: 0.8732\n",
            "Epoch 206/500\n",
            "469/469 [==============================] - 1s 3ms/step - loss: 0.0268 - accuracy: 0.8644 - val_loss: 0.0259 - val_accuracy: 0.8735\n",
            "Epoch 207/500\n",
            "469/469 [==============================] - 1s 3ms/step - loss: 0.0270 - accuracy: 0.8619 - val_loss: 0.0259 - val_accuracy: 0.8737\n",
            "Epoch 208/500\n",
            "469/469 [==============================] - 1s 3ms/step - loss: 0.0270 - accuracy: 0.8598 - val_loss: 0.0258 - val_accuracy: 0.8737\n",
            "Epoch 209/500\n",
            "469/469 [==============================] - 1s 3ms/step - loss: 0.0267 - accuracy: 0.8636 - val_loss: 0.0257 - val_accuracy: 0.8739\n",
            "Epoch 210/500\n",
            "469/469 [==============================] - 1s 3ms/step - loss: 0.0268 - accuracy: 0.8619 - val_loss: 0.0256 - val_accuracy: 0.8741\n",
            "Epoch 211/500\n",
            "469/469 [==============================] - 1s 3ms/step - loss: 0.0267 - accuracy: 0.8617 - val_loss: 0.0255 - val_accuracy: 0.8741\n",
            "Epoch 212/500\n",
            "469/469 [==============================] - 1s 3ms/step - loss: 0.0264 - accuracy: 0.8638 - val_loss: 0.0254 - val_accuracy: 0.8742\n",
            "Epoch 213/500\n",
            "469/469 [==============================] - 1s 3ms/step - loss: 0.0263 - accuracy: 0.8650 - val_loss: 0.0253 - val_accuracy: 0.8747\n",
            "Epoch 214/500\n",
            "469/469 [==============================] - 1s 3ms/step - loss: 0.0263 - accuracy: 0.8636 - val_loss: 0.0252 - val_accuracy: 0.8748\n",
            "Epoch 215/500\n",
            "469/469 [==============================] - 1s 3ms/step - loss: 0.0262 - accuracy: 0.8648 - val_loss: 0.0251 - val_accuracy: 0.8747\n",
            "Epoch 216/500\n",
            "469/469 [==============================] - 1s 3ms/step - loss: 0.0263 - accuracy: 0.8619 - val_loss: 0.0250 - val_accuracy: 0.8751\n",
            "Epoch 217/500\n",
            "469/469 [==============================] - 1s 3ms/step - loss: 0.0260 - accuracy: 0.8653 - val_loss: 0.0250 - val_accuracy: 0.8753\n",
            "Epoch 218/500\n",
            "469/469 [==============================] - 1s 3ms/step - loss: 0.0261 - accuracy: 0.8641 - val_loss: 0.0249 - val_accuracy: 0.8758\n",
            "Epoch 219/500\n",
            "469/469 [==============================] - 1s 3ms/step - loss: 0.0260 - accuracy: 0.8650 - val_loss: 0.0248 - val_accuracy: 0.8758\n",
            "Epoch 220/500\n",
            "469/469 [==============================] - 1s 3ms/step - loss: 0.0258 - accuracy: 0.8659 - val_loss: 0.0247 - val_accuracy: 0.8762\n",
            "Epoch 221/500\n",
            "469/469 [==============================] - 1s 3ms/step - loss: 0.0258 - accuracy: 0.8661 - val_loss: 0.0246 - val_accuracy: 0.8762\n",
            "Epoch 222/500\n",
            "469/469 [==============================] - 1s 3ms/step - loss: 0.0258 - accuracy: 0.8653 - val_loss: 0.0245 - val_accuracy: 0.8763\n",
            "Epoch 223/500\n",
            "469/469 [==============================] - 1s 3ms/step - loss: 0.0256 - accuracy: 0.8664 - val_loss: 0.0245 - val_accuracy: 0.8766\n",
            "Epoch 224/500\n",
            "469/469 [==============================] - 1s 3ms/step - loss: 0.0251 - accuracy: 0.8687 - val_loss: 0.0244 - val_accuracy: 0.8769\n",
            "Epoch 225/500\n",
            "469/469 [==============================] - 1s 3ms/step - loss: 0.0253 - accuracy: 0.8679 - val_loss: 0.0243 - val_accuracy: 0.8774\n",
            "Epoch 226/500\n",
            "469/469 [==============================] - 1s 3ms/step - loss: 0.0255 - accuracy: 0.8655 - val_loss: 0.0242 - val_accuracy: 0.8776\n",
            "Epoch 227/500\n",
            "469/469 [==============================] - 1s 3ms/step - loss: 0.0251 - accuracy: 0.8677 - val_loss: 0.0241 - val_accuracy: 0.8776\n",
            "Epoch 228/500\n",
            "469/469 [==============================] - 1s 3ms/step - loss: 0.0251 - accuracy: 0.8680 - val_loss: 0.0241 - val_accuracy: 0.8779\n",
            "Epoch 229/500\n",
            "469/469 [==============================] - 1s 3ms/step - loss: 0.0252 - accuracy: 0.8676 - val_loss: 0.0240 - val_accuracy: 0.8779\n",
            "Epoch 230/500\n",
            "469/469 [==============================] - 1s 3ms/step - loss: 0.0249 - accuracy: 0.8707 - val_loss: 0.0239 - val_accuracy: 0.8782\n",
            "Epoch 231/500\n",
            "469/469 [==============================] - 1s 3ms/step - loss: 0.0248 - accuracy: 0.8690 - val_loss: 0.0239 - val_accuracy: 0.8784\n",
            "Epoch 232/500\n",
            "469/469 [==============================] - 1s 3ms/step - loss: 0.0250 - accuracy: 0.8673 - val_loss: 0.0238 - val_accuracy: 0.8784\n",
            "Epoch 233/500\n",
            "469/469 [==============================] - 1s 3ms/step - loss: 0.0248 - accuracy: 0.8683 - val_loss: 0.0237 - val_accuracy: 0.8785\n",
            "Epoch 234/500\n",
            "469/469 [==============================] - 1s 3ms/step - loss: 0.0246 - accuracy: 0.8715 - val_loss: 0.0236 - val_accuracy: 0.8785\n",
            "Epoch 235/500\n",
            "469/469 [==============================] - 1s 3ms/step - loss: 0.0248 - accuracy: 0.8676 - val_loss: 0.0236 - val_accuracy: 0.8786\n",
            "Epoch 236/500\n",
            "469/469 [==============================] - 1s 3ms/step - loss: 0.0246 - accuracy: 0.8702 - val_loss: 0.0235 - val_accuracy: 0.8790\n",
            "Epoch 237/500\n",
            "469/469 [==============================] - 1s 3ms/step - loss: 0.0244 - accuracy: 0.8734 - val_loss: 0.0234 - val_accuracy: 0.8796\n",
            "Epoch 238/500\n",
            "469/469 [==============================] - 1s 3ms/step - loss: 0.0243 - accuracy: 0.8722 - val_loss: 0.0234 - val_accuracy: 0.8801\n",
            "Epoch 239/500\n",
            "469/469 [==============================] - 1s 3ms/step - loss: 0.0243 - accuracy: 0.8729 - val_loss: 0.0233 - val_accuracy: 0.8806\n",
            "Epoch 240/500\n",
            "469/469 [==============================] - 1s 3ms/step - loss: 0.0245 - accuracy: 0.8705 - val_loss: 0.0232 - val_accuracy: 0.8809\n",
            "Epoch 241/500\n",
            "469/469 [==============================] - 1s 3ms/step - loss: 0.0242 - accuracy: 0.8711 - val_loss: 0.0232 - val_accuracy: 0.8813\n",
            "Epoch 242/500\n",
            "469/469 [==============================] - 1s 3ms/step - loss: 0.0242 - accuracy: 0.8706 - val_loss: 0.0231 - val_accuracy: 0.8815\n",
            "Epoch 243/500\n",
            "469/469 [==============================] - 1s 3ms/step - loss: 0.0241 - accuracy: 0.8729 - val_loss: 0.0230 - val_accuracy: 0.8818\n",
            "Epoch 244/500\n",
            "469/469 [==============================] - 1s 3ms/step - loss: 0.0241 - accuracy: 0.8728 - val_loss: 0.0230 - val_accuracy: 0.8821\n",
            "Epoch 245/500\n",
            "469/469 [==============================] - 1s 3ms/step - loss: 0.0239 - accuracy: 0.8745 - val_loss: 0.0229 - val_accuracy: 0.8825\n",
            "Epoch 246/500\n",
            "469/469 [==============================] - 1s 3ms/step - loss: 0.0239 - accuracy: 0.8730 - val_loss: 0.0228 - val_accuracy: 0.8825\n",
            "Epoch 247/500\n",
            "469/469 [==============================] - 1s 3ms/step - loss: 0.0240 - accuracy: 0.8720 - val_loss: 0.0228 - val_accuracy: 0.8826\n",
            "Epoch 248/500\n",
            "469/469 [==============================] - 1s 3ms/step - loss: 0.0240 - accuracy: 0.8714 - val_loss: 0.0227 - val_accuracy: 0.8827\n",
            "Epoch 249/500\n",
            "469/469 [==============================] - 1s 3ms/step - loss: 0.0238 - accuracy: 0.8741 - val_loss: 0.0227 - val_accuracy: 0.8826\n",
            "Epoch 250/500\n",
            "469/469 [==============================] - 1s 3ms/step - loss: 0.0238 - accuracy: 0.8727 - val_loss: 0.0226 - val_accuracy: 0.8828\n",
            "Epoch 251/500\n",
            "469/469 [==============================] - 1s 3ms/step - loss: 0.0237 - accuracy: 0.8729 - val_loss: 0.0225 - val_accuracy: 0.8829\n",
            "Epoch 252/500\n",
            "469/469 [==============================] - 1s 3ms/step - loss: 0.0232 - accuracy: 0.8780 - val_loss: 0.0225 - val_accuracy: 0.8829\n",
            "Epoch 253/500\n",
            "469/469 [==============================] - 1s 3ms/step - loss: 0.0233 - accuracy: 0.8758 - val_loss: 0.0224 - val_accuracy: 0.8831\n",
            "Epoch 254/500\n",
            "469/469 [==============================] - 1s 3ms/step - loss: 0.0234 - accuracy: 0.8748 - val_loss: 0.0224 - val_accuracy: 0.8832\n",
            "Epoch 255/500\n",
            "469/469 [==============================] - 1s 3ms/step - loss: 0.0234 - accuracy: 0.8741 - val_loss: 0.0223 - val_accuracy: 0.8832\n",
            "Epoch 256/500\n",
            "469/469 [==============================] - 1s 3ms/step - loss: 0.0232 - accuracy: 0.8775 - val_loss: 0.0222 - val_accuracy: 0.8834\n",
            "Epoch 257/500\n",
            "469/469 [==============================] - 1s 3ms/step - loss: 0.0232 - accuracy: 0.8766 - val_loss: 0.0222 - val_accuracy: 0.8834\n",
            "Epoch 258/500\n",
            "469/469 [==============================] - 1s 3ms/step - loss: 0.0232 - accuracy: 0.8750 - val_loss: 0.0221 - val_accuracy: 0.8836\n",
            "Epoch 259/500\n",
            "469/469 [==============================] - 1s 3ms/step - loss: 0.0233 - accuracy: 0.8736 - val_loss: 0.0221 - val_accuracy: 0.8840\n",
            "Epoch 260/500\n",
            "469/469 [==============================] - 1s 3ms/step - loss: 0.0228 - accuracy: 0.8791 - val_loss: 0.0220 - val_accuracy: 0.8841\n",
            "Epoch 261/500\n",
            "469/469 [==============================] - 1s 3ms/step - loss: 0.0231 - accuracy: 0.8759 - val_loss: 0.0220 - val_accuracy: 0.8846\n",
            "Epoch 262/500\n",
            "469/469 [==============================] - 1s 3ms/step - loss: 0.0230 - accuracy: 0.8762 - val_loss: 0.0219 - val_accuracy: 0.8847\n",
            "Epoch 263/500\n",
            "469/469 [==============================] - 1s 3ms/step - loss: 0.0231 - accuracy: 0.8744 - val_loss: 0.0219 - val_accuracy: 0.8849\n",
            "Epoch 264/500\n",
            "469/469 [==============================] - 1s 3ms/step - loss: 0.0230 - accuracy: 0.8747 - val_loss: 0.0218 - val_accuracy: 0.8852\n",
            "Epoch 265/500\n",
            "469/469 [==============================] - 1s 3ms/step - loss: 0.0230 - accuracy: 0.8749 - val_loss: 0.0218 - val_accuracy: 0.8855\n",
            "Epoch 266/500\n",
            "469/469 [==============================] - 1s 3ms/step - loss: 0.0223 - accuracy: 0.8801 - val_loss: 0.0217 - val_accuracy: 0.8858\n",
            "Epoch 267/500\n",
            "469/469 [==============================] - 1s 3ms/step - loss: 0.0229 - accuracy: 0.8751 - val_loss: 0.0216 - val_accuracy: 0.8858\n",
            "Epoch 268/500\n",
            "469/469 [==============================] - 1s 3ms/step - loss: 0.0226 - accuracy: 0.8764 - val_loss: 0.0216 - val_accuracy: 0.8858\n",
            "Epoch 269/500\n",
            "469/469 [==============================] - 1s 3ms/step - loss: 0.0226 - accuracy: 0.8771 - val_loss: 0.0215 - val_accuracy: 0.8860\n",
            "Epoch 270/500\n",
            "469/469 [==============================] - 1s 3ms/step - loss: 0.0226 - accuracy: 0.8769 - val_loss: 0.0215 - val_accuracy: 0.8864\n",
            "Epoch 271/500\n",
            "469/469 [==============================] - 1s 3ms/step - loss: 0.0227 - accuracy: 0.8770 - val_loss: 0.0214 - val_accuracy: 0.8866\n",
            "Epoch 272/500\n",
            "469/469 [==============================] - 1s 3ms/step - loss: 0.0224 - accuracy: 0.8796 - val_loss: 0.0214 - val_accuracy: 0.8867\n",
            "Epoch 273/500\n",
            "469/469 [==============================] - 1s 3ms/step - loss: 0.0223 - accuracy: 0.8789 - val_loss: 0.0214 - val_accuracy: 0.8869\n",
            "Epoch 274/500\n",
            "469/469 [==============================] - 1s 3ms/step - loss: 0.0223 - accuracy: 0.8789 - val_loss: 0.0213 - val_accuracy: 0.8870\n",
            "Epoch 275/500\n",
            "469/469 [==============================] - 1s 3ms/step - loss: 0.0224 - accuracy: 0.8767 - val_loss: 0.0213 - val_accuracy: 0.8872\n",
            "Epoch 276/500\n",
            "469/469 [==============================] - 1s 3ms/step - loss: 0.0225 - accuracy: 0.8764 - val_loss: 0.0212 - val_accuracy: 0.8875\n",
            "Epoch 277/500\n",
            "469/469 [==============================] - 1s 3ms/step - loss: 0.0223 - accuracy: 0.8786 - val_loss: 0.0212 - val_accuracy: 0.8878\n",
            "Epoch 278/500\n",
            "469/469 [==============================] - 1s 3ms/step - loss: 0.0220 - accuracy: 0.8793 - val_loss: 0.0211 - val_accuracy: 0.8880\n",
            "Epoch 279/500\n",
            "469/469 [==============================] - 1s 3ms/step - loss: 0.0222 - accuracy: 0.8785 - val_loss: 0.0211 - val_accuracy: 0.8884\n",
            "Epoch 280/500\n",
            "469/469 [==============================] - 1s 3ms/step - loss: 0.0220 - accuracy: 0.8797 - val_loss: 0.0210 - val_accuracy: 0.8887\n",
            "Epoch 281/500\n",
            "469/469 [==============================] - 1s 3ms/step - loss: 0.0220 - accuracy: 0.8792 - val_loss: 0.0210 - val_accuracy: 0.8890\n",
            "Epoch 282/500\n",
            "469/469 [==============================] - 1s 3ms/step - loss: 0.0218 - accuracy: 0.8793 - val_loss: 0.0209 - val_accuracy: 0.8895\n",
            "Epoch 283/500\n",
            "469/469 [==============================] - 1s 3ms/step - loss: 0.0222 - accuracy: 0.8769 - val_loss: 0.0209 - val_accuracy: 0.8896\n",
            "Epoch 284/500\n",
            "469/469 [==============================] - 1s 3ms/step - loss: 0.0217 - accuracy: 0.8806 - val_loss: 0.0208 - val_accuracy: 0.8896\n",
            "Epoch 285/500\n",
            "469/469 [==============================] - 1s 3ms/step - loss: 0.0221 - accuracy: 0.8790 - val_loss: 0.0208 - val_accuracy: 0.8898\n",
            "Epoch 286/500\n",
            "469/469 [==============================] - 1s 3ms/step - loss: 0.0217 - accuracy: 0.8808 - val_loss: 0.0208 - val_accuracy: 0.8900\n",
            "Epoch 287/500\n",
            "469/469 [==============================] - 1s 3ms/step - loss: 0.0218 - accuracy: 0.8813 - val_loss: 0.0207 - val_accuracy: 0.8900\n",
            "Epoch 288/500\n",
            "469/469 [==============================] - 1s 3ms/step - loss: 0.0218 - accuracy: 0.8792 - val_loss: 0.0207 - val_accuracy: 0.8901\n",
            "Epoch 289/500\n",
            "469/469 [==============================] - 1s 3ms/step - loss: 0.0219 - accuracy: 0.8783 - val_loss: 0.0206 - val_accuracy: 0.8904\n",
            "Epoch 290/500\n",
            "469/469 [==============================] - 1s 3ms/step - loss: 0.0219 - accuracy: 0.8773 - val_loss: 0.0206 - val_accuracy: 0.8905\n",
            "Epoch 291/500\n",
            "469/469 [==============================] - 2s 3ms/step - loss: 0.0214 - accuracy: 0.8844 - val_loss: 0.0205 - val_accuracy: 0.8906\n",
            "Epoch 292/500\n",
            "469/469 [==============================] - 1s 3ms/step - loss: 0.0219 - accuracy: 0.8774 - val_loss: 0.0205 - val_accuracy: 0.8909\n",
            "Epoch 293/500\n",
            "469/469 [==============================] - 1s 3ms/step - loss: 0.0214 - accuracy: 0.8827 - val_loss: 0.0205 - val_accuracy: 0.8909\n",
            "Epoch 294/500\n",
            "469/469 [==============================] - 1s 3ms/step - loss: 0.0214 - accuracy: 0.8804 - val_loss: 0.0204 - val_accuracy: 0.8911\n",
            "Epoch 295/500\n",
            "469/469 [==============================] - 1s 3ms/step - loss: 0.0216 - accuracy: 0.8806 - val_loss: 0.0204 - val_accuracy: 0.8911\n",
            "Epoch 296/500\n",
            "469/469 [==============================] - 1s 3ms/step - loss: 0.0216 - accuracy: 0.8797 - val_loss: 0.0203 - val_accuracy: 0.8911\n",
            "Epoch 297/500\n",
            "469/469 [==============================] - 1s 3ms/step - loss: 0.0212 - accuracy: 0.8827 - val_loss: 0.0203 - val_accuracy: 0.8914\n",
            "Epoch 298/500\n",
            "469/469 [==============================] - 1s 3ms/step - loss: 0.0214 - accuracy: 0.8818 - val_loss: 0.0203 - val_accuracy: 0.8918\n",
            "Epoch 299/500\n",
            "469/469 [==============================] - 1s 3ms/step - loss: 0.0211 - accuracy: 0.8843 - val_loss: 0.0202 - val_accuracy: 0.8919\n",
            "Epoch 300/500\n",
            "469/469 [==============================] - 1s 3ms/step - loss: 0.0210 - accuracy: 0.8833 - val_loss: 0.0202 - val_accuracy: 0.8919\n",
            "Epoch 301/500\n",
            "469/469 [==============================] - 1s 3ms/step - loss: 0.0211 - accuracy: 0.8840 - val_loss: 0.0201 - val_accuracy: 0.8918\n",
            "Epoch 302/500\n",
            "469/469 [==============================] - 1s 3ms/step - loss: 0.0209 - accuracy: 0.8836 - val_loss: 0.0201 - val_accuracy: 0.8918\n",
            "Epoch 303/500\n",
            "469/469 [==============================] - 1s 3ms/step - loss: 0.0212 - accuracy: 0.8829 - val_loss: 0.0201 - val_accuracy: 0.8920\n",
            "Epoch 304/500\n",
            "469/469 [==============================] - 1s 3ms/step - loss: 0.0211 - accuracy: 0.8818 - val_loss: 0.0200 - val_accuracy: 0.8923\n",
            "Epoch 305/500\n",
            "469/469 [==============================] - 1s 3ms/step - loss: 0.0210 - accuracy: 0.8824 - val_loss: 0.0200 - val_accuracy: 0.8923\n",
            "Epoch 306/500\n",
            "469/469 [==============================] - 1s 3ms/step - loss: 0.0210 - accuracy: 0.8833 - val_loss: 0.0200 - val_accuracy: 0.8923\n",
            "Epoch 307/500\n",
            "469/469 [==============================] - 1s 3ms/step - loss: 0.0210 - accuracy: 0.8816 - val_loss: 0.0199 - val_accuracy: 0.8924\n",
            "Epoch 308/500\n",
            "469/469 [==============================] - 1s 3ms/step - loss: 0.0209 - accuracy: 0.8835 - val_loss: 0.0199 - val_accuracy: 0.8924\n",
            "Epoch 309/500\n",
            "469/469 [==============================] - 1s 3ms/step - loss: 0.0210 - accuracy: 0.8815 - val_loss: 0.0199 - val_accuracy: 0.8924\n",
            "Epoch 310/500\n",
            "469/469 [==============================] - 1s 3ms/step - loss: 0.0209 - accuracy: 0.8843 - val_loss: 0.0198 - val_accuracy: 0.8925\n",
            "Epoch 311/500\n",
            "469/469 [==============================] - 1s 3ms/step - loss: 0.0209 - accuracy: 0.8825 - val_loss: 0.0198 - val_accuracy: 0.8925\n",
            "Epoch 312/500\n",
            "469/469 [==============================] - 1s 3ms/step - loss: 0.0208 - accuracy: 0.8833 - val_loss: 0.0197 - val_accuracy: 0.8929\n",
            "Epoch 313/500\n",
            "469/469 [==============================] - 1s 3ms/step - loss: 0.0208 - accuracy: 0.8835 - val_loss: 0.0197 - val_accuracy: 0.8930\n",
            "Epoch 314/500\n",
            "469/469 [==============================] - 1s 3ms/step - loss: 0.0208 - accuracy: 0.8830 - val_loss: 0.0197 - val_accuracy: 0.8930\n",
            "Epoch 315/500\n",
            "469/469 [==============================] - 1s 3ms/step - loss: 0.0207 - accuracy: 0.8839 - val_loss: 0.0196 - val_accuracy: 0.8930\n",
            "Epoch 316/500\n",
            "469/469 [==============================] - 1s 3ms/step - loss: 0.0207 - accuracy: 0.8836 - val_loss: 0.0196 - val_accuracy: 0.8931\n",
            "Epoch 317/500\n",
            "469/469 [==============================] - 1s 3ms/step - loss: 0.0205 - accuracy: 0.8848 - val_loss: 0.0196 - val_accuracy: 0.8931\n",
            "Epoch 318/500\n",
            "469/469 [==============================] - 1s 3ms/step - loss: 0.0206 - accuracy: 0.8851 - val_loss: 0.0195 - val_accuracy: 0.8934\n",
            "Epoch 319/500\n",
            "469/469 [==============================] - 1s 3ms/step - loss: 0.0207 - accuracy: 0.8836 - val_loss: 0.0195 - val_accuracy: 0.8935\n",
            "Epoch 320/500\n",
            "469/469 [==============================] - 1s 3ms/step - loss: 0.0206 - accuracy: 0.8835 - val_loss: 0.0195 - val_accuracy: 0.8936\n",
            "Epoch 321/500\n",
            "469/469 [==============================] - 1s 3ms/step - loss: 0.0205 - accuracy: 0.8847 - val_loss: 0.0194 - val_accuracy: 0.8938\n",
            "Epoch 322/500\n",
            "469/469 [==============================] - 1s 3ms/step - loss: 0.0204 - accuracy: 0.8851 - val_loss: 0.0194 - val_accuracy: 0.8939\n",
            "Epoch 323/500\n",
            "469/469 [==============================] - 1s 3ms/step - loss: 0.0204 - accuracy: 0.8841 - val_loss: 0.0194 - val_accuracy: 0.8940\n",
            "Epoch 324/500\n",
            "469/469 [==============================] - 1s 3ms/step - loss: 0.0204 - accuracy: 0.8842 - val_loss: 0.0193 - val_accuracy: 0.8939\n",
            "Epoch 325/500\n",
            "469/469 [==============================] - 1s 3ms/step - loss: 0.0202 - accuracy: 0.8865 - val_loss: 0.0193 - val_accuracy: 0.8940\n",
            "Epoch 326/500\n",
            "469/469 [==============================] - 1s 3ms/step - loss: 0.0203 - accuracy: 0.8851 - val_loss: 0.0193 - val_accuracy: 0.8942\n",
            "Epoch 327/500\n",
            "469/469 [==============================] - 2s 3ms/step - loss: 0.0203 - accuracy: 0.8860 - val_loss: 0.0193 - val_accuracy: 0.8942\n",
            "Epoch 328/500\n",
            "469/469 [==============================] - 1s 3ms/step - loss: 0.0202 - accuracy: 0.8858 - val_loss: 0.0192 - val_accuracy: 0.8943\n",
            "Epoch 329/500\n",
            "469/469 [==============================] - 1s 3ms/step - loss: 0.0203 - accuracy: 0.8841 - val_loss: 0.0192 - val_accuracy: 0.8945\n",
            "Epoch 330/500\n",
            "469/469 [==============================] - 1s 3ms/step - loss: 0.0202 - accuracy: 0.8866 - val_loss: 0.0192 - val_accuracy: 0.8947\n",
            "Epoch 331/500\n",
            "469/469 [==============================] - 1s 3ms/step - loss: 0.0202 - accuracy: 0.8861 - val_loss: 0.0191 - val_accuracy: 0.8948\n",
            "Epoch 332/500\n",
            "469/469 [==============================] - 1s 3ms/step - loss: 0.0202 - accuracy: 0.8856 - val_loss: 0.0191 - val_accuracy: 0.8948\n",
            "Epoch 333/500\n",
            "469/469 [==============================] - 1s 3ms/step - loss: 0.0199 - accuracy: 0.8883 - val_loss: 0.0191 - val_accuracy: 0.8948\n",
            "Epoch 334/500\n",
            "469/469 [==============================] - 1s 3ms/step - loss: 0.0201 - accuracy: 0.8848 - val_loss: 0.0190 - val_accuracy: 0.8951\n",
            "Epoch 335/500\n",
            "469/469 [==============================] - 1s 3ms/step - loss: 0.0201 - accuracy: 0.8863 - val_loss: 0.0190 - val_accuracy: 0.8950\n",
            "Epoch 336/500\n",
            "469/469 [==============================] - 1s 3ms/step - loss: 0.0199 - accuracy: 0.8864 - val_loss: 0.0190 - val_accuracy: 0.8951\n",
            "Epoch 337/500\n",
            "469/469 [==============================] - 1s 3ms/step - loss: 0.0202 - accuracy: 0.8850 - val_loss: 0.0189 - val_accuracy: 0.8952\n",
            "Epoch 338/500\n",
            "469/469 [==============================] - 1s 3ms/step - loss: 0.0197 - accuracy: 0.8880 - val_loss: 0.0189 - val_accuracy: 0.8953\n",
            "Epoch 339/500\n",
            "469/469 [==============================] - 1s 3ms/step - loss: 0.0198 - accuracy: 0.8877 - val_loss: 0.0189 - val_accuracy: 0.8954\n",
            "Epoch 340/500\n",
            "469/469 [==============================] - 1s 3ms/step - loss: 0.0198 - accuracy: 0.8870 - val_loss: 0.0189 - val_accuracy: 0.8956\n",
            "Epoch 341/500\n",
            "469/469 [==============================] - 1s 3ms/step - loss: 0.0199 - accuracy: 0.8860 - val_loss: 0.0188 - val_accuracy: 0.8958\n",
            "Epoch 342/500\n",
            "469/469 [==============================] - 1s 3ms/step - loss: 0.0199 - accuracy: 0.8857 - val_loss: 0.0188 - val_accuracy: 0.8959\n",
            "Epoch 343/500\n",
            "469/469 [==============================] - 1s 3ms/step - loss: 0.0200 - accuracy: 0.8858 - val_loss: 0.0188 - val_accuracy: 0.8963\n",
            "Epoch 344/500\n",
            "469/469 [==============================] - 1s 3ms/step - loss: 0.0198 - accuracy: 0.8874 - val_loss: 0.0187 - val_accuracy: 0.8966\n",
            "Epoch 345/500\n",
            "469/469 [==============================] - 1s 3ms/step - loss: 0.0197 - accuracy: 0.8872 - val_loss: 0.0187 - val_accuracy: 0.8966\n",
            "Epoch 346/500\n",
            "469/469 [==============================] - 1s 3ms/step - loss: 0.0196 - accuracy: 0.8885 - val_loss: 0.0187 - val_accuracy: 0.8967\n",
            "Epoch 347/500\n",
            "469/469 [==============================] - 1s 3ms/step - loss: 0.0196 - accuracy: 0.8878 - val_loss: 0.0187 - val_accuracy: 0.8968\n",
            "Epoch 348/500\n",
            "469/469 [==============================] - 1s 3ms/step - loss: 0.0195 - accuracy: 0.8885 - val_loss: 0.0186 - val_accuracy: 0.8969\n",
            "Epoch 349/500\n",
            "469/469 [==============================] - 1s 3ms/step - loss: 0.0196 - accuracy: 0.8891 - val_loss: 0.0186 - val_accuracy: 0.8969\n",
            "Epoch 350/500\n",
            "469/469 [==============================] - 1s 3ms/step - loss: 0.0195 - accuracy: 0.8891 - val_loss: 0.0186 - val_accuracy: 0.8971\n",
            "Epoch 351/500\n",
            "469/469 [==============================] - 1s 3ms/step - loss: 0.0197 - accuracy: 0.8864 - val_loss: 0.0186 - val_accuracy: 0.8971\n",
            "Epoch 352/500\n",
            "469/469 [==============================] - 1s 3ms/step - loss: 0.0195 - accuracy: 0.8900 - val_loss: 0.0185 - val_accuracy: 0.8972\n",
            "Epoch 353/500\n",
            "469/469 [==============================] - 1s 3ms/step - loss: 0.0194 - accuracy: 0.8885 - val_loss: 0.0185 - val_accuracy: 0.8972\n",
            "Epoch 354/500\n",
            "469/469 [==============================] - 1s 3ms/step - loss: 0.0193 - accuracy: 0.8905 - val_loss: 0.0185 - val_accuracy: 0.8975\n",
            "Epoch 355/500\n",
            "469/469 [==============================] - 1s 3ms/step - loss: 0.0192 - accuracy: 0.8900 - val_loss: 0.0185 - val_accuracy: 0.8974\n",
            "Epoch 356/500\n",
            "469/469 [==============================] - 1s 3ms/step - loss: 0.0197 - accuracy: 0.8853 - val_loss: 0.0184 - val_accuracy: 0.8975\n",
            "Epoch 357/500\n",
            "469/469 [==============================] - 1s 3ms/step - loss: 0.0195 - accuracy: 0.8877 - val_loss: 0.0184 - val_accuracy: 0.8975\n",
            "Epoch 358/500\n",
            "469/469 [==============================] - 1s 3ms/step - loss: 0.0194 - accuracy: 0.8882 - val_loss: 0.0184 - val_accuracy: 0.8978\n",
            "Epoch 359/500\n",
            "469/469 [==============================] - 1s 3ms/step - loss: 0.0196 - accuracy: 0.8869 - val_loss: 0.0184 - val_accuracy: 0.8978\n",
            "Epoch 360/500\n",
            "469/469 [==============================] - 1s 3ms/step - loss: 0.0191 - accuracy: 0.8904 - val_loss: 0.0183 - val_accuracy: 0.8978\n",
            "Epoch 361/500\n",
            "469/469 [==============================] - 1s 3ms/step - loss: 0.0192 - accuracy: 0.8900 - val_loss: 0.0183 - val_accuracy: 0.8979\n",
            "Epoch 362/500\n",
            "469/469 [==============================] - 1s 3ms/step - loss: 0.0191 - accuracy: 0.8889 - val_loss: 0.0183 - val_accuracy: 0.8978\n",
            "Epoch 363/500\n",
            "469/469 [==============================] - 1s 3ms/step - loss: 0.0193 - accuracy: 0.8883 - val_loss: 0.0183 - val_accuracy: 0.8979\n",
            "Epoch 364/500\n",
            "469/469 [==============================] - 1s 3ms/step - loss: 0.0190 - accuracy: 0.8907 - val_loss: 0.0182 - val_accuracy: 0.8982\n",
            "Epoch 365/500\n",
            "469/469 [==============================] - 1s 3ms/step - loss: 0.0192 - accuracy: 0.8890 - val_loss: 0.0182 - val_accuracy: 0.8982\n",
            "Epoch 366/500\n",
            "469/469 [==============================] - 1s 3ms/step - loss: 0.0191 - accuracy: 0.8901 - val_loss: 0.0182 - val_accuracy: 0.8981\n",
            "Epoch 367/500\n",
            "469/469 [==============================] - 1s 3ms/step - loss: 0.0192 - accuracy: 0.8874 - val_loss: 0.0182 - val_accuracy: 0.8981\n",
            "Epoch 368/500\n",
            "469/469 [==============================] - 1s 3ms/step - loss: 0.0192 - accuracy: 0.8890 - val_loss: 0.0181 - val_accuracy: 0.8983\n",
            "Epoch 369/500\n",
            "469/469 [==============================] - 1s 3ms/step - loss: 0.0192 - accuracy: 0.8893 - val_loss: 0.0181 - val_accuracy: 0.8983\n",
            "Epoch 370/500\n",
            "469/469 [==============================] - 1s 3ms/step - loss: 0.0190 - accuracy: 0.8895 - val_loss: 0.0181 - val_accuracy: 0.8984\n",
            "Epoch 371/500\n",
            "469/469 [==============================] - 1s 3ms/step - loss: 0.0190 - accuracy: 0.8897 - val_loss: 0.0181 - val_accuracy: 0.8986\n",
            "Epoch 372/500\n",
            "469/469 [==============================] - 1s 3ms/step - loss: 0.0189 - accuracy: 0.8915 - val_loss: 0.0180 - val_accuracy: 0.8986\n",
            "Epoch 373/500\n",
            "469/469 [==============================] - 1s 3ms/step - loss: 0.0189 - accuracy: 0.8903 - val_loss: 0.0180 - val_accuracy: 0.8988\n",
            "Epoch 374/500\n",
            "469/469 [==============================] - 1s 3ms/step - loss: 0.0188 - accuracy: 0.8913 - val_loss: 0.0180 - val_accuracy: 0.8989\n",
            "Epoch 375/500\n",
            "469/469 [==============================] - 1s 3ms/step - loss: 0.0189 - accuracy: 0.8892 - val_loss: 0.0180 - val_accuracy: 0.8990\n",
            "Epoch 376/500\n",
            "469/469 [==============================] - 1s 3ms/step - loss: 0.0189 - accuracy: 0.8903 - val_loss: 0.0179 - val_accuracy: 0.8990\n",
            "Epoch 377/500\n",
            "469/469 [==============================] - 1s 3ms/step - loss: 0.0190 - accuracy: 0.8885 - val_loss: 0.0179 - val_accuracy: 0.8990\n",
            "Epoch 378/500\n",
            "469/469 [==============================] - 1s 3ms/step - loss: 0.0188 - accuracy: 0.8923 - val_loss: 0.0179 - val_accuracy: 0.8990\n",
            "Epoch 379/500\n",
            "469/469 [==============================] - 1s 3ms/step - loss: 0.0189 - accuracy: 0.8917 - val_loss: 0.0179 - val_accuracy: 0.8992\n",
            "Epoch 380/500\n",
            "469/469 [==============================] - 1s 3ms/step - loss: 0.0190 - accuracy: 0.8886 - val_loss: 0.0179 - val_accuracy: 0.8992\n",
            "Epoch 381/500\n",
            "469/469 [==============================] - 1s 3ms/step - loss: 0.0189 - accuracy: 0.8909 - val_loss: 0.0178 - val_accuracy: 0.8992\n",
            "Epoch 382/500\n",
            "469/469 [==============================] - 1s 3ms/step - loss: 0.0188 - accuracy: 0.8912 - val_loss: 0.0178 - val_accuracy: 0.8995\n",
            "Epoch 383/500\n",
            "469/469 [==============================] - 1s 3ms/step - loss: 0.0189 - accuracy: 0.8897 - val_loss: 0.0178 - val_accuracy: 0.8996\n",
            "Epoch 384/500\n",
            "469/469 [==============================] - 1s 3ms/step - loss: 0.0187 - accuracy: 0.8916 - val_loss: 0.0178 - val_accuracy: 0.8995\n",
            "Epoch 385/500\n",
            "469/469 [==============================] - 1s 3ms/step - loss: 0.0188 - accuracy: 0.8902 - val_loss: 0.0177 - val_accuracy: 0.8997\n",
            "Epoch 386/500\n",
            "469/469 [==============================] - 1s 3ms/step - loss: 0.0187 - accuracy: 0.8921 - val_loss: 0.0177 - val_accuracy: 0.8997\n",
            "Epoch 387/500\n",
            "469/469 [==============================] - 1s 3ms/step - loss: 0.0186 - accuracy: 0.8913 - val_loss: 0.0177 - val_accuracy: 0.8998\n",
            "Epoch 388/500\n",
            "469/469 [==============================] - 1s 3ms/step - loss: 0.0186 - accuracy: 0.8919 - val_loss: 0.0177 - val_accuracy: 0.8998\n",
            "Epoch 389/500\n",
            "469/469 [==============================] - 1s 3ms/step - loss: 0.0187 - accuracy: 0.8911 - val_loss: 0.0177 - val_accuracy: 0.8999\n",
            "Epoch 390/500\n",
            "469/469 [==============================] - 1s 3ms/step - loss: 0.0185 - accuracy: 0.8921 - val_loss: 0.0176 - val_accuracy: 0.8999\n",
            "Epoch 391/500\n",
            "469/469 [==============================] - 1s 3ms/step - loss: 0.0187 - accuracy: 0.8912 - val_loss: 0.0176 - val_accuracy: 0.8999\n",
            "Epoch 392/500\n",
            "469/469 [==============================] - 1s 3ms/step - loss: 0.0183 - accuracy: 0.8933 - val_loss: 0.0176 - val_accuracy: 0.8998\n",
            "Epoch 393/500\n",
            "469/469 [==============================] - 1s 3ms/step - loss: 0.0187 - accuracy: 0.8907 - val_loss: 0.0176 - val_accuracy: 0.8999\n",
            "Epoch 394/500\n",
            "469/469 [==============================] - 1s 3ms/step - loss: 0.0186 - accuracy: 0.8915 - val_loss: 0.0176 - val_accuracy: 0.8999\n",
            "Epoch 395/500\n",
            "469/469 [==============================] - 1s 3ms/step - loss: 0.0185 - accuracy: 0.8922 - val_loss: 0.0175 - val_accuracy: 0.8998\n",
            "Epoch 396/500\n",
            "469/469 [==============================] - 1s 3ms/step - loss: 0.0186 - accuracy: 0.8908 - val_loss: 0.0175 - val_accuracy: 0.8998\n",
            "Epoch 397/500\n",
            "469/469 [==============================] - 1s 3ms/step - loss: 0.0185 - accuracy: 0.8918 - val_loss: 0.0175 - val_accuracy: 0.8998\n",
            "Epoch 398/500\n",
            "469/469 [==============================] - 1s 3ms/step - loss: 0.0184 - accuracy: 0.8932 - val_loss: 0.0175 - val_accuracy: 0.8998\n",
            "Epoch 399/500\n",
            "469/469 [==============================] - 1s 3ms/step - loss: 0.0185 - accuracy: 0.8907 - val_loss: 0.0175 - val_accuracy: 0.9000\n",
            "Epoch 400/500\n",
            "469/469 [==============================] - 1s 3ms/step - loss: 0.0183 - accuracy: 0.8928 - val_loss: 0.0174 - val_accuracy: 0.9000\n",
            "Epoch 401/500\n",
            "469/469 [==============================] - 1s 3ms/step - loss: 0.0183 - accuracy: 0.8920 - val_loss: 0.0174 - val_accuracy: 0.9000\n",
            "Epoch 402/500\n",
            "469/469 [==============================] - 1s 3ms/step - loss: 0.0184 - accuracy: 0.8926 - val_loss: 0.0174 - val_accuracy: 0.9000\n",
            "Epoch 403/500\n",
            "469/469 [==============================] - 1s 3ms/step - loss: 0.0184 - accuracy: 0.8923 - val_loss: 0.0174 - val_accuracy: 0.8999\n",
            "Epoch 404/500\n",
            "469/469 [==============================] - 1s 3ms/step - loss: 0.0184 - accuracy: 0.8923 - val_loss: 0.0174 - val_accuracy: 0.8999\n",
            "Epoch 405/500\n",
            "469/469 [==============================] - 1s 3ms/step - loss: 0.0180 - accuracy: 0.8946 - val_loss: 0.0173 - val_accuracy: 0.9000\n",
            "Epoch 406/500\n",
            "469/469 [==============================] - 1s 3ms/step - loss: 0.0184 - accuracy: 0.8918 - val_loss: 0.0173 - val_accuracy: 0.9000\n",
            "Epoch 407/500\n",
            "469/469 [==============================] - 1s 3ms/step - loss: 0.0183 - accuracy: 0.8920 - val_loss: 0.0173 - val_accuracy: 0.9003\n",
            "Epoch 408/500\n",
            "469/469 [==============================] - 1s 3ms/step - loss: 0.0183 - accuracy: 0.8926 - val_loss: 0.0173 - val_accuracy: 0.9004\n",
            "Epoch 409/500\n",
            "469/469 [==============================] - 1s 3ms/step - loss: 0.0179 - accuracy: 0.8950 - val_loss: 0.0173 - val_accuracy: 0.9006\n",
            "Epoch 410/500\n",
            "469/469 [==============================] - 1s 3ms/step - loss: 0.0183 - accuracy: 0.8914 - val_loss: 0.0173 - val_accuracy: 0.9007\n",
            "Epoch 411/500\n",
            "469/469 [==============================] - 1s 3ms/step - loss: 0.0183 - accuracy: 0.8926 - val_loss: 0.0172 - val_accuracy: 0.9007\n",
            "Epoch 412/500\n",
            "469/469 [==============================] - 1s 3ms/step - loss: 0.0180 - accuracy: 0.8937 - val_loss: 0.0172 - val_accuracy: 0.9008\n",
            "Epoch 413/500\n",
            "469/469 [==============================] - 1s 3ms/step - loss: 0.0183 - accuracy: 0.8919 - val_loss: 0.0172 - val_accuracy: 0.9008\n",
            "Epoch 414/500\n",
            "469/469 [==============================] - 1s 3ms/step - loss: 0.0182 - accuracy: 0.8922 - val_loss: 0.0172 - val_accuracy: 0.9009\n",
            "Epoch 415/500\n",
            "469/469 [==============================] - 1s 3ms/step - loss: 0.0182 - accuracy: 0.8925 - val_loss: 0.0172 - val_accuracy: 0.9011\n",
            "Epoch 416/500\n",
            "469/469 [==============================] - 1s 3ms/step - loss: 0.0180 - accuracy: 0.8926 - val_loss: 0.0171 - val_accuracy: 0.9013\n",
            "Epoch 417/500\n",
            "469/469 [==============================] - 1s 3ms/step - loss: 0.0180 - accuracy: 0.8930 - val_loss: 0.0171 - val_accuracy: 0.9013\n",
            "Epoch 418/500\n",
            "469/469 [==============================] - 1s 3ms/step - loss: 0.0181 - accuracy: 0.8940 - val_loss: 0.0171 - val_accuracy: 0.9014\n",
            "Epoch 419/500\n",
            "469/469 [==============================] - 1s 3ms/step - loss: 0.0182 - accuracy: 0.8920 - val_loss: 0.0171 - val_accuracy: 0.9015\n",
            "Epoch 420/500\n",
            "469/469 [==============================] - 1s 3ms/step - loss: 0.0180 - accuracy: 0.8932 - val_loss: 0.0171 - val_accuracy: 0.9015\n",
            "Epoch 421/500\n",
            "469/469 [==============================] - 1s 3ms/step - loss: 0.0181 - accuracy: 0.8933 - val_loss: 0.0171 - val_accuracy: 0.9016\n",
            "Epoch 422/500\n",
            "469/469 [==============================] - 1s 3ms/step - loss: 0.0180 - accuracy: 0.8929 - val_loss: 0.0170 - val_accuracy: 0.9016\n",
            "Epoch 423/500\n",
            "469/469 [==============================] - 1s 3ms/step - loss: 0.0180 - accuracy: 0.8933 - val_loss: 0.0170 - val_accuracy: 0.9016\n",
            "Epoch 424/500\n",
            "469/469 [==============================] - 1s 3ms/step - loss: 0.0178 - accuracy: 0.8948 - val_loss: 0.0170 - val_accuracy: 0.9016\n",
            "Epoch 425/500\n",
            "469/469 [==============================] - 1s 3ms/step - loss: 0.0181 - accuracy: 0.8937 - val_loss: 0.0170 - val_accuracy: 0.9016\n",
            "Epoch 426/500\n",
            "469/469 [==============================] - 1s 3ms/step - loss: 0.0180 - accuracy: 0.8928 - val_loss: 0.0170 - val_accuracy: 0.9019\n",
            "Epoch 427/500\n",
            "469/469 [==============================] - 1s 3ms/step - loss: 0.0179 - accuracy: 0.8935 - val_loss: 0.0169 - val_accuracy: 0.9021\n",
            "Epoch 428/500\n",
            "469/469 [==============================] - 1s 3ms/step - loss: 0.0180 - accuracy: 0.8918 - val_loss: 0.0169 - val_accuracy: 0.9022\n",
            "Epoch 429/500\n",
            "469/469 [==============================] - 1s 3ms/step - loss: 0.0176 - accuracy: 0.8952 - val_loss: 0.0169 - val_accuracy: 0.9023\n",
            "Epoch 430/500\n",
            "469/469 [==============================] - 1s 3ms/step - loss: 0.0177 - accuracy: 0.8950 - val_loss: 0.0169 - val_accuracy: 0.9022\n",
            "Epoch 431/500\n",
            "469/469 [==============================] - 1s 3ms/step - loss: 0.0177 - accuracy: 0.8954 - val_loss: 0.0169 - val_accuracy: 0.9023\n",
            "Epoch 432/500\n",
            "469/469 [==============================] - 1s 3ms/step - loss: 0.0179 - accuracy: 0.8937 - val_loss: 0.0169 - val_accuracy: 0.9022\n",
            "Epoch 433/500\n",
            "469/469 [==============================] - 1s 3ms/step - loss: 0.0179 - accuracy: 0.8941 - val_loss: 0.0168 - val_accuracy: 0.9022\n",
            "Epoch 434/500\n",
            "469/469 [==============================] - 1s 3ms/step - loss: 0.0176 - accuracy: 0.8963 - val_loss: 0.0168 - val_accuracy: 0.9023\n",
            "Epoch 435/500\n",
            "469/469 [==============================] - 1s 3ms/step - loss: 0.0179 - accuracy: 0.8912 - val_loss: 0.0168 - val_accuracy: 0.9024\n",
            "Epoch 436/500\n",
            "469/469 [==============================] - 1s 3ms/step - loss: 0.0176 - accuracy: 0.8958 - val_loss: 0.0168 - val_accuracy: 0.9027\n",
            "Epoch 437/500\n",
            "469/469 [==============================] - 1s 3ms/step - loss: 0.0175 - accuracy: 0.8964 - val_loss: 0.0168 - val_accuracy: 0.9028\n",
            "Epoch 438/500\n",
            "469/469 [==============================] - 1s 3ms/step - loss: 0.0177 - accuracy: 0.8956 - val_loss: 0.0168 - val_accuracy: 0.9029\n",
            "Epoch 439/500\n",
            "469/469 [==============================] - 1s 3ms/step - loss: 0.0177 - accuracy: 0.8944 - val_loss: 0.0167 - val_accuracy: 0.9030\n",
            "Epoch 440/500\n",
            "469/469 [==============================] - 1s 3ms/step - loss: 0.0174 - accuracy: 0.8970 - val_loss: 0.0167 - val_accuracy: 0.9032\n",
            "Epoch 441/500\n",
            "469/469 [==============================] - 1s 3ms/step - loss: 0.0176 - accuracy: 0.8953 - val_loss: 0.0167 - val_accuracy: 0.9032\n",
            "Epoch 442/500\n",
            "469/469 [==============================] - 1s 3ms/step - loss: 0.0174 - accuracy: 0.8972 - val_loss: 0.0167 - val_accuracy: 0.9032\n",
            "Epoch 443/500\n",
            "469/469 [==============================] - 1s 3ms/step - loss: 0.0173 - accuracy: 0.8972 - val_loss: 0.0167 - val_accuracy: 0.9032\n",
            "Epoch 444/500\n",
            "469/469 [==============================] - 1s 3ms/step - loss: 0.0177 - accuracy: 0.8936 - val_loss: 0.0167 - val_accuracy: 0.9032\n",
            "Epoch 445/500\n",
            "469/469 [==============================] - 1s 3ms/step - loss: 0.0176 - accuracy: 0.8949 - val_loss: 0.0167 - val_accuracy: 0.9032\n",
            "Epoch 446/500\n",
            "469/469 [==============================] - 1s 3ms/step - loss: 0.0176 - accuracy: 0.8956 - val_loss: 0.0166 - val_accuracy: 0.9034\n",
            "Epoch 447/500\n",
            "469/469 [==============================] - 1s 3ms/step - loss: 0.0177 - accuracy: 0.8938 - val_loss: 0.0166 - val_accuracy: 0.9035\n",
            "Epoch 448/500\n",
            "469/469 [==============================] - 1s 3ms/step - loss: 0.0175 - accuracy: 0.8953 - val_loss: 0.0166 - val_accuracy: 0.9037\n",
            "Epoch 449/500\n",
            "469/469 [==============================] - 1s 3ms/step - loss: 0.0177 - accuracy: 0.8938 - val_loss: 0.0166 - val_accuracy: 0.9037\n",
            "Epoch 450/500\n",
            "469/469 [==============================] - 1s 3ms/step - loss: 0.0173 - accuracy: 0.8964 - val_loss: 0.0166 - val_accuracy: 0.9037\n",
            "Epoch 451/500\n",
            "469/469 [==============================] - 1s 3ms/step - loss: 0.0175 - accuracy: 0.8964 - val_loss: 0.0166 - val_accuracy: 0.9038\n",
            "Epoch 452/500\n",
            "469/469 [==============================] - 1s 3ms/step - loss: 0.0175 - accuracy: 0.8946 - val_loss: 0.0165 - val_accuracy: 0.9038\n",
            "Epoch 453/500\n",
            "469/469 [==============================] - 1s 3ms/step - loss: 0.0175 - accuracy: 0.8945 - val_loss: 0.0165 - val_accuracy: 0.9039\n",
            "Epoch 454/500\n",
            "469/469 [==============================] - 1s 3ms/step - loss: 0.0174 - accuracy: 0.8962 - val_loss: 0.0165 - val_accuracy: 0.9039\n",
            "Epoch 455/500\n",
            "469/469 [==============================] - 1s 3ms/step - loss: 0.0171 - accuracy: 0.8986 - val_loss: 0.0165 - val_accuracy: 0.9039\n",
            "Epoch 456/500\n",
            "469/469 [==============================] - 1s 3ms/step - loss: 0.0173 - accuracy: 0.8970 - val_loss: 0.0165 - val_accuracy: 0.9039\n",
            "Epoch 457/500\n",
            "469/469 [==============================] - 1s 3ms/step - loss: 0.0174 - accuracy: 0.8957 - val_loss: 0.0165 - val_accuracy: 0.9042\n",
            "Epoch 458/500\n",
            "469/469 [==============================] - 1s 3ms/step - loss: 0.0175 - accuracy: 0.8959 - val_loss: 0.0165 - val_accuracy: 0.9042\n",
            "Epoch 459/500\n",
            "469/469 [==============================] - 1s 3ms/step - loss: 0.0174 - accuracy: 0.8954 - val_loss: 0.0164 - val_accuracy: 0.9042\n",
            "Epoch 460/500\n",
            "469/469 [==============================] - 1s 3ms/step - loss: 0.0176 - accuracy: 0.8938 - val_loss: 0.0164 - val_accuracy: 0.9042\n",
            "Epoch 461/500\n",
            "469/469 [==============================] - 1s 3ms/step - loss: 0.0172 - accuracy: 0.8977 - val_loss: 0.0164 - val_accuracy: 0.9044\n",
            "Epoch 462/500\n",
            "469/469 [==============================] - 1s 3ms/step - loss: 0.0173 - accuracy: 0.8966 - val_loss: 0.0164 - val_accuracy: 0.9043\n",
            "Epoch 463/500\n",
            "469/469 [==============================] - 1s 3ms/step - loss: 0.0172 - accuracy: 0.8986 - val_loss: 0.0164 - val_accuracy: 0.9044\n",
            "Epoch 464/500\n",
            "469/469 [==============================] - 1s 3ms/step - loss: 0.0173 - accuracy: 0.8960 - val_loss: 0.0164 - val_accuracy: 0.9044\n",
            "Epoch 465/500\n",
            "469/469 [==============================] - 1s 3ms/step - loss: 0.0172 - accuracy: 0.8971 - val_loss: 0.0164 - val_accuracy: 0.9043\n",
            "Epoch 466/500\n",
            "469/469 [==============================] - 1s 3ms/step - loss: 0.0172 - accuracy: 0.8968 - val_loss: 0.0163 - val_accuracy: 0.9044\n",
            "Epoch 467/500\n",
            "469/469 [==============================] - 1s 3ms/step - loss: 0.0173 - accuracy: 0.8964 - val_loss: 0.0163 - val_accuracy: 0.9044\n",
            "Epoch 468/500\n",
            "469/469 [==============================] - 1s 3ms/step - loss: 0.0172 - accuracy: 0.8981 - val_loss: 0.0163 - val_accuracy: 0.9046\n",
            "Epoch 469/500\n",
            "469/469 [==============================] - 1s 3ms/step - loss: 0.0173 - accuracy: 0.8963 - val_loss: 0.0163 - val_accuracy: 0.9048\n",
            "Epoch 470/500\n",
            "469/469 [==============================] - 1s 3ms/step - loss: 0.0172 - accuracy: 0.8967 - val_loss: 0.0163 - val_accuracy: 0.9048\n",
            "Epoch 471/500\n",
            "469/469 [==============================] - 1s 3ms/step - loss: 0.0173 - accuracy: 0.8969 - val_loss: 0.0163 - val_accuracy: 0.9048\n",
            "Epoch 472/500\n",
            "469/469 [==============================] - 1s 3ms/step - loss: 0.0175 - accuracy: 0.8942 - val_loss: 0.0163 - val_accuracy: 0.9048\n",
            "Epoch 473/500\n",
            "469/469 [==============================] - 1s 3ms/step - loss: 0.0171 - accuracy: 0.8975 - val_loss: 0.0162 - val_accuracy: 0.9048\n",
            "Epoch 474/500\n",
            "469/469 [==============================] - 1s 3ms/step - loss: 0.0170 - accuracy: 0.8975 - val_loss: 0.0162 - val_accuracy: 0.9049\n",
            "Epoch 475/500\n",
            "469/469 [==============================] - 1s 3ms/step - loss: 0.0172 - accuracy: 0.8968 - val_loss: 0.0162 - val_accuracy: 0.9048\n",
            "Epoch 476/500\n",
            "469/469 [==============================] - 1s 3ms/step - loss: 0.0171 - accuracy: 0.8980 - val_loss: 0.0162 - val_accuracy: 0.9048\n",
            "Epoch 477/500\n",
            "469/469 [==============================] - 1s 3ms/step - loss: 0.0170 - accuracy: 0.8987 - val_loss: 0.0162 - val_accuracy: 0.9048\n",
            "Epoch 478/500\n",
            "469/469 [==============================] - 1s 3ms/step - loss: 0.0169 - accuracy: 0.8986 - val_loss: 0.0162 - val_accuracy: 0.9049\n",
            "Epoch 479/500\n",
            "469/469 [==============================] - 1s 3ms/step - loss: 0.0172 - accuracy: 0.8955 - val_loss: 0.0162 - val_accuracy: 0.9049\n",
            "Epoch 480/500\n",
            "469/469 [==============================] - 1s 3ms/step - loss: 0.0170 - accuracy: 0.8985 - val_loss: 0.0162 - val_accuracy: 0.9049\n",
            "Epoch 481/500\n",
            "469/469 [==============================] - 1s 3ms/step - loss: 0.0169 - accuracy: 0.8983 - val_loss: 0.0161 - val_accuracy: 0.9051\n",
            "Epoch 482/500\n",
            "469/469 [==============================] - 1s 3ms/step - loss: 0.0169 - accuracy: 0.8990 - val_loss: 0.0161 - val_accuracy: 0.9051\n",
            "Epoch 483/500\n",
            "469/469 [==============================] - 1s 3ms/step - loss: 0.0171 - accuracy: 0.8967 - val_loss: 0.0161 - val_accuracy: 0.9051\n",
            "Epoch 484/500\n",
            "469/469 [==============================] - 1s 3ms/step - loss: 0.0172 - accuracy: 0.8962 - val_loss: 0.0161 - val_accuracy: 0.9051\n",
            "Epoch 485/500\n",
            "469/469 [==============================] - 1s 3ms/step - loss: 0.0169 - accuracy: 0.8995 - val_loss: 0.0161 - val_accuracy: 0.9050\n",
            "Epoch 486/500\n",
            "469/469 [==============================] - 1s 3ms/step - loss: 0.0170 - accuracy: 0.8990 - val_loss: 0.0161 - val_accuracy: 0.9052\n",
            "Epoch 487/500\n",
            "469/469 [==============================] - 1s 3ms/step - loss: 0.0169 - accuracy: 0.8979 - val_loss: 0.0161 - val_accuracy: 0.9053\n",
            "Epoch 488/500\n",
            "469/469 [==============================] - 1s 3ms/step - loss: 0.0170 - accuracy: 0.8974 - val_loss: 0.0160 - val_accuracy: 0.9054\n",
            "Epoch 489/500\n",
            "469/469 [==============================] - 1s 3ms/step - loss: 0.0167 - accuracy: 0.9008 - val_loss: 0.0160 - val_accuracy: 0.9056\n",
            "Epoch 490/500\n",
            "469/469 [==============================] - 1s 3ms/step - loss: 0.0169 - accuracy: 0.8975 - val_loss: 0.0160 - val_accuracy: 0.9057\n",
            "Epoch 491/500\n",
            "469/469 [==============================] - 1s 3ms/step - loss: 0.0171 - accuracy: 0.8947 - val_loss: 0.0160 - val_accuracy: 0.9057\n",
            "Epoch 492/500\n",
            "469/469 [==============================] - 1s 3ms/step - loss: 0.0167 - accuracy: 0.8999 - val_loss: 0.0160 - val_accuracy: 0.9058\n",
            "Epoch 493/500\n",
            "469/469 [==============================] - 1s 3ms/step - loss: 0.0170 - accuracy: 0.8967 - val_loss: 0.0160 - val_accuracy: 0.9058\n",
            "Epoch 494/500\n",
            "469/469 [==============================] - 1s 3ms/step - loss: 0.0169 - accuracy: 0.8976 - val_loss: 0.0160 - val_accuracy: 0.9058\n",
            "Epoch 495/500\n",
            "469/469 [==============================] - 1s 3ms/step - loss: 0.0169 - accuracy: 0.8972 - val_loss: 0.0160 - val_accuracy: 0.9060\n",
            "Epoch 496/500\n",
            "469/469 [==============================] - 1s 3ms/step - loss: 0.0169 - accuracy: 0.8975 - val_loss: 0.0159 - val_accuracy: 0.9060\n",
            "Epoch 497/500\n",
            "469/469 [==============================] - 1s 3ms/step - loss: 0.0166 - accuracy: 0.9002 - val_loss: 0.0159 - val_accuracy: 0.9060\n",
            "Epoch 498/500\n",
            "469/469 [==============================] - 1s 3ms/step - loss: 0.0168 - accuracy: 0.8986 - val_loss: 0.0159 - val_accuracy: 0.9062\n",
            "Epoch 499/500\n",
            "469/469 [==============================] - 1s 3ms/step - loss: 0.0170 - accuracy: 0.8974 - val_loss: 0.0159 - val_accuracy: 0.9062\n",
            "Epoch 500/500\n",
            "469/469 [==============================] - 1s 3ms/step - loss: 0.0166 - accuracy: 0.9005 - val_loss: 0.0159 - val_accuracy: 0.9063\n"
          ],
          "name": "stdout"
        }
      ]
    },
    {
      "cell_type": "markdown",
      "metadata": {
        "id": "8AJ6owdTR1UA"
      },
      "source": [
        "### Plot learning curves"
      ]
    },
    {
      "cell_type": "code",
      "metadata": {
        "id": "QF8qu8ByR314",
        "colab": {
          "base_uri": "https://localhost:8080/",
          "height": 590
        },
        "outputId": "057b1c69-d768-4bfb-dabf-858115706d01"
      },
      "source": [
        "# list all data in history\n",
        "print(history.history.keys())\n",
        "\n",
        "# summarize history for accuracy\n",
        "plt.plot(history.history['accuracy'])\n",
        "plt.plot(history.history['val_accuracy'])\n",
        "plt.title('model accuracy')\n",
        "plt.ylabel('accuracy')\n",
        "plt.xlabel('epoch')\n",
        "plt.legend(['train', 'test'], loc='upper left')\n",
        "plt.show()\n",
        "\n",
        "# summarize history for loss\n",
        "plt.plot(history.history['loss'])\n",
        "plt.plot(history.history['val_loss'])\n",
        "plt.title('model loss')\n",
        "plt.ylabel('loss')\n",
        "plt.xlabel('epoch')\n",
        "plt.legend(['train', 'test'], loc='upper left')\n",
        "plt.show()"
      ],
      "execution_count": null,
      "outputs": [
        {
          "output_type": "stream",
          "text": [
            "dict_keys(['loss', 'accuracy', 'val_loss', 'val_accuracy'])\n"
          ],
          "name": "stdout"
        },
        {
          "output_type": "display_data",
          "data": {
            "image/png": "[encoded data removed]",
            "text/plain": [
              "<Figure size 432x288 with 1 Axes>"
            ]
          },
          "metadata": {
            "tags": [],
            "needs_background": "light"
          }
        },
        {
          "output_type": "display_data",
          "data": {
            "image/png": "[encoded data removed]",
            "text/plain": [
              "<Figure size 432x288 with 1 Axes>"
            ]
          },
          "metadata": {
            "tags": [],
            "needs_background": "light"
          }
        }
      ]
    },
    {
      "cell_type": "markdown",
      "metadata": {
        "id": "763bQLbzQmw4"
      },
      "source": [
        "### Evaluate the model"
      ]
    },
    {
      "cell_type": "code",
      "metadata": {
        "id": "2siGhXrm-6rb",
        "colab": {
          "base_uri": "https://localhost:8080/"
        },
        "outputId": "fa4971de-a056-4576-f666-e6d9cdf3c0a1"
      },
      "source": [
        "model.evaluate(X_validation, y_validation)"
      ],
      "execution_count": null,
      "outputs": [
        {
          "output_type": "stream",
          "text": [
            "313/313 [==============================] - 0s 1ms/step - loss: 0.0159 - accuracy: 0.9063\n"
          ],
          "name": "stdout"
        },
        {
          "output_type": "execute_result",
          "data": {
            "text/plain": [
              "[0.015897460281848907, 0.9063000082969666]"
            ]
          },
          "metadata": {
            "tags": []
          },
          "execution_count": 23
        }
      ]
    },
    {
      "cell_type": "markdown",
      "metadata": {
        "id": "ARXGXxbZ3vlD"
      },
      "source": [
        "### TODO 3\n",
        "\n",
        "Write code to display the confusion matrix for your classifier and comment on the insights such confusion matrix provides.\n",
        "\n",
        "See [this](https://scikit-learn.org/stable/auto_examples/classification/plot_digits_classification.html) for an example."
      ]
    },
    {
      "cell_type": "code",
      "metadata": {
        "colab": {
          "base_uri": "https://localhost:8080/"
        },
        "id": "uB5ZSI8_OcyN",
        "outputId": "79ce3707-6950-4c22-d7c4-55f5bdadffb5"
      },
      "source": [
        "X_validation.shape"
      ],
      "execution_count": null,
      "outputs": [
        {
          "output_type": "execute_result",
          "data": {
            "text/plain": [
              "(10000, 784)"
            ]
          },
          "metadata": {
            "tags": []
          },
          "execution_count": 26
        }
      ]
    },
    {
      "cell_type": "code",
      "metadata": {
        "colab": {
          "base_uri": "https://localhost:8080/"
        },
        "id": "FO42wKt3LMg1",
        "outputId": "731ae9dc-f098-432d-81c8-7063679c4462"
      },
      "source": [
        "from sklearn.metrics import confusion_matrix\n",
        "predictions = model.predict(X_validation)\n",
        "pred = np.argmax(predictions, axis=1)\n",
        "confusion_matrix(y_valid, pred)\n"
      ],
      "execution_count": null,
      "outputs": [
        {
          "output_type": "execute_result",
          "data": {
            "text/plain": [
              "array([[ 960,    0,    3,    1,    0,    5,    7,    1,    3,    0],\n",
              "       [   0, 1107,    1,    6,    1,    1,    4,    1,   14,    0],\n",
              "       [  14,    5,  900,   10,   17,    1,   19,   23,   36,    7],\n",
              "       [   3,    1,   20,  908,    1,   27,    3,   15,   21,   11],\n",
              "       [   1,    3,    5,    1,  909,    1,   16,    1,    6,   39],\n",
              "       [  17,    4,    9,   41,   16,  733,   15,   11,   39,    7],\n",
              "       [  19,    3,    6,    0,   11,   16,  898,    0,    5,    0],\n",
              "       [   5,   21,   33,    3,   13,    0,    0,  921,    3,   29],\n",
              "       [   8,    9,   12,   24,   14,   22,   18,   11,  840,   16],\n",
              "       [  14,    8,    4,   11,   44,   15,    1,   16,    9,  887]])"
            ]
          },
          "metadata": {
            "tags": []
          },
          "execution_count": 35
        }
      ]
    },
    {
      "cell_type": "code",
      "metadata": {
        "id": "4bJIXtsqLOPL"
      },
      "source": [],
      "execution_count": null,
      "outputs": []
    },
    {
      "cell_type": "code",
      "metadata": {
        "id": "YAlYrG7yLOX9"
      },
      "source": [],
      "execution_count": null,
      "outputs": []
    },
    {
      "cell_type": "markdown",
      "metadata": {
        "id": "lJetC7rA36VT"
      },
      "source": [
        "### (OPTIONAL) TODO 4\n",
        "\n",
        "Write code to display 10 cases where the classifier makes mistakes. Make sure to display both the true value as well as the predicted value.\n",
        "\n",
        "See [this](https://conx.readthedocs.io/en/latest/MNIST.html) for an example."
      ]
    },
    {
      "cell_type": "markdown",
      "metadata": {
        "id": "C15mmBXeW3ZG"
      },
      "source": [
        "## PART 2 - Convolutional neural network (CNN) architecture"
      ]
    },
    {
      "cell_type": "code",
      "metadata": {
        "id": "eyTJv6yKapB9",
        "colab": {
          "base_uri": "https://localhost:8080/"
        },
        "outputId": "5856118d-4d05-4fc0-c3ce-f2a04c5c12b8"
      },
      "source": [
        "model_cnn = keras.Sequential(\n",
        "    [\n",
        "        keras.layers.InputLayer(input_shape),\n",
        "        layers.Conv2D(32, kernel_size=(3, 3), activation=\"relu\"),\n",
        "        layers.MaxPooling2D(pool_size=(2, 2)),\n",
        "        layers.Conv2D(64, kernel_size=(3, 3), activation=\"relu\"),\n",
        "        layers.MaxPooling2D(pool_size=(2, 2)),\n",
        "        layers.Flatten(),\n",
        "        layers.Dropout(0.5),\n",
        "        layers.Dense(num_classes, activation=\"softmax\"),\n",
        "    ]\n",
        ")\n",
        "\n",
        "model_cnn.summary()"
      ],
      "execution_count": null,
      "outputs": [
        {
          "output_type": "stream",
          "text": [
            "Model: \"sequential_2\"\n",
            "_________________________________________________________________\n",
            "Layer (type)                 Output Shape              Param #   \n",
            "=================================================================\n",
            "conv2d_4 (Conv2D)            (None, 26, 26, 32)        320       \n",
            "_________________________________________________________________\n",
            "max_pooling2d_4 (MaxPooling2 (None, 13, 13, 32)        0         \n",
            "_________________________________________________________________\n",
            "conv2d_5 (Conv2D)            (None, 11, 11, 64)        18496     \n",
            "_________________________________________________________________\n",
            "max_pooling2d_5 (MaxPooling2 (None, 5, 5, 64)          0         \n",
            "_________________________________________________________________\n",
            "flatten_2 (Flatten)          (None, 1600)              0         \n",
            "_________________________________________________________________\n",
            "dropout_2 (Dropout)          (None, 1600)              0         \n",
            "_________________________________________________________________\n",
            "dense_2 (Dense)              (None, 10)                16010     \n",
            "=================================================================\n",
            "Total params: 34,826\n",
            "Trainable params: 34,826\n",
            "Non-trainable params: 0\n",
            "_________________________________________________________________\n"
          ],
          "name": "stdout"
        }
      ]
    },
    {
      "cell_type": "markdown",
      "metadata": {
        "id": "9GWxzAaaCqVb"
      },
      "source": [
        "### Configure model"
      ]
    },
    {
      "cell_type": "code",
      "metadata": {
        "id": "TQhlw1_OaQQx"
      },
      "source": [
        "model_cnn.compile(\n",
        "    loss=\"categorical_crossentropy\", \n",
        "    optimizer=\"adam\", \n",
        "    metrics=[\"accuracy\"]\n",
        ")"
      ],
      "execution_count": null,
      "outputs": []
    },
    {
      "cell_type": "markdown",
      "metadata": {
        "id": "COvZ_7gCEjLc"
      },
      "source": [
        "### Prepare the data\n",
        "The CNN does not expect the images to be flattened."
      ]
    },
    {
      "cell_type": "code",
      "metadata": {
        "id": "fPPpaSaUEv-3",
        "colab": {
          "base_uri": "https://localhost:8080/"
        },
        "outputId": "e5d9bd46-aa04-48a6-ce2b-b2d7e6db6366"
      },
      "source": [
        "# Reload the data, just in case\n",
        "(X_train, y_train), (X_valid, y_valid) = mnist.load_data()\n",
        "\n",
        "# convert class vectors to binary class matrices\n",
        "y_training = keras.utils.to_categorical(y_train, num_classes)\n",
        "y_validation = keras.utils.to_categorical(y_valid, num_classes)\n",
        "\n",
        "# Scale images to the [0, 1] range\n",
        "X_train_cnn = X_train.astype(\"float32\") / 255\n",
        "X_valid_cnn = X_valid.astype(\"float32\") / 255\n",
        "\n",
        "# Redefine  dimension of train/test inputs\n",
        "X_train_cnn = np.expand_dims(X_train_cnn, -1)\n",
        "X_valid_cnn = np.expand_dims(X_valid_cnn, -1)\n",
        "\n",
        "# Make sure images have shape (28, 28, 1)\n",
        "print(\"x_train shape:\", X_train_cnn.shape)\n",
        "print(X_train_cnn.shape[0], \"train samples\")\n",
        "print(X_valid_cnn.shape[0], \"test samples\")"
      ],
      "execution_count": null,
      "outputs": [
        {
          "output_type": "stream",
          "text": [
            "x_train shape: (60000, 28, 28, 1)\n",
            "60000 train samples\n",
            "10000 test samples\n"
          ],
          "name": "stdout"
        }
      ]
    },
    {
      "cell_type": "markdown",
      "metadata": {
        "id": "yqbkD3arDAI4"
      },
      "source": [
        "### Train!\n"
      ]
    },
    {
      "cell_type": "code",
      "metadata": {
        "id": "1i6Pypg0C4Jq",
        "colab": {
          "base_uri": "https://localhost:8080/"
        },
        "outputId": "1ff4bf90-8a29-4253-b97c-923678df3153"
      },
      "source": [
        "batch_size=128\n",
        "epochs=15\n",
        "\n",
        "history = model_cnn.fit(\n",
        "  X_train_cnn, # training data\n",
        "  y_training, # training targets\n",
        "  epochs=epochs,\n",
        "  batch_size=batch_size,\n",
        "  verbose=1,\n",
        "  validation_data=(X_valid_cnn, y_validation)\n",
        ")"
      ],
      "execution_count": null,
      "outputs": [
        {
          "output_type": "stream",
          "text": [
            "Epoch 1/15\n",
            "469/469 [==============================] - 31s 5ms/step - loss: 0.3412 - accuracy: 0.8962 - val_loss: 0.0792 - val_accuracy: 0.9753\n",
            "Epoch 2/15\n",
            "469/469 [==============================] - 2s 5ms/step - loss: 0.1040 - accuracy: 0.9682 - val_loss: 0.0530 - val_accuracy: 0.9837\n",
            "Epoch 3/15\n",
            "469/469 [==============================] - 2s 5ms/step - loss: 0.0780 - accuracy: 0.9766 - val_loss: 0.0438 - val_accuracy: 0.9852\n",
            "Epoch 4/15\n",
            "469/469 [==============================] - 2s 5ms/step - loss: 0.0653 - accuracy: 0.9791 - val_loss: 0.0360 - val_accuracy: 0.9882\n",
            "Epoch 5/15\n",
            "469/469 [==============================] - 2s 5ms/step - loss: 0.0580 - accuracy: 0.9822 - val_loss: 0.0352 - val_accuracy: 0.9882\n",
            "Epoch 6/15\n",
            "469/469 [==============================] - 2s 5ms/step - loss: 0.0517 - accuracy: 0.9838 - val_loss: 0.0302 - val_accuracy: 0.9900\n",
            "Epoch 7/15\n",
            "469/469 [==============================] - 2s 5ms/step - loss: 0.0476 - accuracy: 0.9851 - val_loss: 0.0286 - val_accuracy: 0.9908\n",
            "Epoch 8/15\n",
            "469/469 [==============================] - 2s 5ms/step - loss: 0.0464 - accuracy: 0.9858 - val_loss: 0.0282 - val_accuracy: 0.9906\n",
            "Epoch 9/15\n",
            "469/469 [==============================] - 2s 5ms/step - loss: 0.0439 - accuracy: 0.9857 - val_loss: 0.0248 - val_accuracy: 0.9907\n",
            "Epoch 10/15\n",
            "469/469 [==============================] - 2s 5ms/step - loss: 0.0394 - accuracy: 0.9876 - val_loss: 0.0255 - val_accuracy: 0.9909\n",
            "Epoch 11/15\n",
            "469/469 [==============================] - 2s 5ms/step - loss: 0.0364 - accuracy: 0.9887 - val_loss: 0.0248 - val_accuracy: 0.9913\n",
            "Epoch 12/15\n",
            "469/469 [==============================] - 2s 5ms/step - loss: 0.0376 - accuracy: 0.9883 - val_loss: 0.0267 - val_accuracy: 0.9906\n",
            "Epoch 13/15\n",
            "469/469 [==============================] - 2s 5ms/step - loss: 0.0342 - accuracy: 0.9890 - val_loss: 0.0251 - val_accuracy: 0.9904\n",
            "Epoch 14/15\n",
            "469/469 [==============================] - 2s 5ms/step - loss: 0.0334 - accuracy: 0.9895 - val_loss: 0.0227 - val_accuracy: 0.9919\n",
            "Epoch 15/15\n",
            "469/469 [==============================] - 2s 5ms/step - loss: 0.0321 - accuracy: 0.9901 - val_loss: 0.0240 - val_accuracy: 0.9914\n"
          ],
          "name": "stdout"
        }
      ]
    },
    {
      "cell_type": "markdown",
      "metadata": {
        "id": "4uHN4KNdDC1T"
      },
      "source": [
        "### Plot learning curves"
      ]
    },
    {
      "cell_type": "code",
      "metadata": {
        "id": "yUdOrMVHDGIa",
        "colab": {
          "base_uri": "https://localhost:8080/",
          "height": 590
        },
        "outputId": "16a169b5-f40d-41f3-fc67-efa9ebe11679"
      },
      "source": [
        "# list all data in history\n",
        "print(history.history.keys())\n",
        "\n",
        "# summarize history for accuracy\n",
        "plt.plot(history.history['accuracy'])\n",
        "plt.plot(history.history['val_accuracy'])\n",
        "plt.title('model accuracy')\n",
        "plt.ylabel('accuracy')\n",
        "plt.xlabel('epoch')\n",
        "plt.legend(['train', 'test'], loc='upper left')\n",
        "plt.show()\n",
        "\n",
        "# summarize history for loss\n",
        "plt.plot(history.history['loss'])\n",
        "plt.plot(history.history['val_loss'])\n",
        "plt.title('model loss')\n",
        "plt.ylabel('loss')\n",
        "plt.xlabel('epoch')\n",
        "plt.legend(['train', 'test'], loc='upper left')\n",
        "plt.show()"
      ],
      "execution_count": null,
      "outputs": [
        {
          "output_type": "stream",
          "text": [
            "dict_keys(['loss', 'accuracy', 'val_loss', 'val_accuracy'])\n"
          ],
          "name": "stdout"
        },
        {
          "output_type": "display_data",
          "data": {
            "image/png": "[encoded data removed]",
            "text/plain": [
              "<Figure size 432x288 with 1 Axes>"
            ]
          },
          "metadata": {
            "tags": [],
            "needs_background": "light"
          }
        },
        {
          "output_type": "display_data",
          "data": {
            "image/png": "[encoded data removed]",
            "text/plain": [
              "<Figure size 432x288 with 1 Axes>"
            ]
          },
          "metadata": {
            "tags": [],
            "needs_background": "light"
          }
        }
      ]
    },
    {
      "cell_type": "markdown",
      "metadata": {
        "id": "oP7csjo2DGag"
      },
      "source": [
        "### Evaluate the model"
      ]
    },
    {
      "cell_type": "code",
      "metadata": {
        "id": "W86Hi07fDICp",
        "colab": {
          "base_uri": "https://localhost:8080/"
        },
        "outputId": "56f195ad-967a-4997-ce0b-f20bfe5a6855"
      },
      "source": [
        "model_cnn.evaluate(X_valid_cnn, y_validation)"
      ],
      "execution_count": null,
      "outputs": [
        {
          "output_type": "stream",
          "text": [
            "313/313 [==============================] - 1s 2ms/step - loss: 0.0240 - accuracy: 0.9914\n"
          ],
          "name": "stdout"
        },
        {
          "output_type": "execute_result",
          "data": {
            "text/plain": [
              "[0.023965531960129738, 0.9914000034332275]"
            ]
          },
          "metadata": {
            "tags": []
          },
          "execution_count": 49
        }
      ]
    }
  ]
}